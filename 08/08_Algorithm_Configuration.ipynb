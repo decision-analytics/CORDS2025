{
 "cells": [
  {
   "cell_type": "markdown",
   "metadata": {
    "slideshow": {
     "slide_type": "slide"
    }
   },
   "source": [
    "<img src=\"img/logo_wiwi_en_.png\" width=\"30%\" align=\"left\">\n",
    "\n",
    "<img src=\"img/decision_analytics_logo.png\" width=\"17%\" align=\"right\">\n",
    "\n",
    "\n",
    "\n",
    "<br><br><br><br><br><br><br><br>\n",
    "\n",
    "\n",
    "\n",
    "# Combining OR and Data Science\n",
    "\n",
    "**Summer Term 2025**\n",
    "\n",
    "\n",
    "# 8. Algorithm Configuration\n",
    "\n",
    "\n",
    "<br>\n",
    "\n",
    "<br>\n",
    "<br>\n",
    "\n",
    "**J-Prof. Dr. Michael Römer**\n",
    "\n",
    "**Decision Analytics Group  | Bielefeld University**\n"
   ]
  },
  {
   "cell_type": "code",
   "execution_count": 5,
   "metadata": {
    "slideshow": {
     "slide_type": "skip"
    }
   },
   "outputs": [],
   "source": [
    "# Import packages.\n",
    "import numpy as np\n",
    "import scipy.stats as stats\n",
    "import matplotlib.pyplot as plt\n",
    "from mip import *\n",
    "\n",
    "from mip.cbc import cbc_set_parameter\n",
    "\n",
    "from IPython.display import display, HTML\n",
    "\n",
    "import time\n",
    "\n",
    "import pandas as pd\n",
    "\n"
   ]
  },
  {
   "cell_type": "code",
   "execution_count": 6,
   "metadata": {
    "slideshow": {
     "slide_type": "skip"
    }
   },
   "outputs": [
    {
     "data": {
      "text/html": [
       "<style>\n",
       "/* Any CSS style can go in here. */\n",
       ".dataframe th {\n",
       "    font-size: 25px;\n",
       "}\n",
       ".dataframe td {\n",
       "    font-size: 25px;\n",
       "}\n",
       "</style>\n"
      ],
      "text/plain": [
       "<IPython.core.display.HTML object>"
      ]
     },
     "metadata": {},
     "output_type": "display_data"
    }
   ],
   "source": [
    "%%html\n",
    "<style>\n",
    "/* Any CSS style can go in here. */\n",
    ".dataframe th {\n",
    "    font-size: 25px;\n",
    "}\n",
    ".dataframe td {\n",
    "    font-size: 25px;\n",
    "}\n",
    "</style>"
   ]
  },
  {
   "cell_type": "markdown",
   "metadata": {
    "hide_input": true,
    "slideshow": {
     "slide_type": "slide"
    }
   },
   "source": [
    "## Motivation: Consider a Race Car..\n",
    "\n",
    "![race_car](img/race_car_parameter.jpg)\n",
    "\n",
    "- a race car has lots of design parameters / settings to be decided upon\n",
    "- there is not a single best car configuration\n",
    "  - for each race track\n",
    "  - for all weather conditions\n"
   ]
  },
  {
   "cell_type": "markdown",
   "metadata": {
    "slideshow": {
     "slide_type": "slide"
    }
   },
   "source": [
    "## Tuning Algorithm Parameters\n",
    "\n",
    "Like race cars, algorithms have many parameters that influence their performance:\n",
    "\n",
    "![algo_config](img/parameters_algorithm.png)"
   ]
  },
  {
   "cell_type": "markdown",
   "metadata": {
    "slideshow": {
     "slide_type": "fragment"
    }
   },
   "source": [
    "- with good parameter settings, problems can be solved faster (or better)"
   ]
  },
  {
   "cell_type": "markdown",
   "metadata": {
    "slideshow": {
     "slide_type": "slide"
    }
   },
   "source": [
    "## This Meeting: Algorithm Configuration\n",
    "\n",
    "\n",
    "**In this meeting**, we deal with **algorithm configuration**\n",
    "\n",
    "- understanding the relevance of algorithm configuration\n",
    "- basic ideas and concepts\n",
    "- introducing a case study\n",
    "- automating algorithm configuration using black box (Bayesian) optimization\n",
    "- addressing key challenges in algorithm configuration:\n",
    "  - avoiding overfitting\n",
    "  - reducing configuration time\n",
    "\n"
   ]
  },
  {
   "cell_type": "markdown",
   "metadata": {
    "slideshow": {
     "slide_type": "slide"
    }
   },
   "source": [
    "## Case Study: Solving Chance-Constrained Programs Faster\n",
    "\n",
    "- imagine a consulting project with a small belt manufacturing company where we\n",
    "  want to use **joint chance constrained programming** (CCP) (see part 6 for the implementation)\n",
    "- CCP models with binary variables can be very hard to solve \n",
    "- commercial solvers are very powerful, but only free for academic use\n",
    "  - for small commercial projects, they tend to be too expensive:\n",
    "     **a single Gurobi license is about $ 10 000**\n",
    "- we will instead use the **open source** solver **CBC**"
   ]
  },
  {
   "cell_type": "markdown",
   "metadata": {
    "slideshow": {
     "slide_type": "fragment"
    }
   },
   "source": [
    "#### How can we improve CBC's performace?\n",
    "- use algorithm configuration to improve CBC's performance for CCP models with 200 scenarios\n",
    "- we would like to achieve a similar performance as Gurobi \n",
    "  - in my tests, Gurobi was about 3x as fast as CBC"
   ]
  },
  {
   "cell_type": "markdown",
   "metadata": {
    "slideshow": {
     "slide_type": "slide"
    }
   },
   "source": [
    "## Case Study: Uncertain Availability of Time and Leather\n",
    "- in the case study, we assume that both time and leather availability is uncertain \n",
    "- there is no possibility to resort to extra hours\n",
    "- we want to find a production plan that is feasible with probability of 95\\% \n",
    "\n",
    "We create 200 samples for both time and leather:"
   ]
  },
  {
   "cell_type": "code",
   "execution_count": 7,
   "metadata": {
    "cell_style": "center",
    "hide_input": true,
    "scrolled": true,
    "slideshow": {
     "slide_type": "-"
    }
   },
   "outputs": [
    {
     "data": {
      "image/png": "[encoded data removed]",
      "text/plain": [
       "<Figure size 1200x480 with 2 Axes>"
      ]
     },
     "metadata": {},
     "output_type": "display_data"
    }
   ],
   "source": [
    "n_scenarios = 200\n",
    "np.random.seed(seed=1)\n",
    "time_available_dist = stats.norm(1000,150)\n",
    "leather_available_dist = stats.norm(800,100)\n",
    "\n",
    "samples_time_available = time_available_dist.rvs(n_scenarios)\n",
    "samples_leather_available = leather_available_dist.rvs(n_scenarios)\n",
    "\n",
    "fig, (ax1,ax2) = plt.subplots(1, 2,figsize=(12, 4.8), constrained_layout=True)\n",
    "fig.suptitle(\"Samples from the distributions of the uncertain model parameters\")\n",
    "ax1.set_ylabel(\"probability\")\n",
    "\n",
    "ax1.set_title(\"time\")\n",
    "count, bins, ignored = ax1.hist( samples_time_available , bins=30, density=True, color='#EEEEEE', edgecolor=\"#AAAAAA\")\n",
    "ax1.set_xlabel(\"available time\")\n",
    "\n",
    "ax2.set_title(\"leather\")\n",
    "count, bins, ignored = ax2.hist( samples_leather_available , bins=30, density=True, color='#EEEEEE', edgecolor=\"#AAAAAA\")\n",
    "ax2.set_xlabel(\"available leather\")\n",
    "plt.show()"
   ]
  },
  {
   "cell_type": "markdown",
   "metadata": {
    "slideshow": {
     "slide_type": "slide"
    }
   },
   "source": [
    "## Case Study: Python Implementation of the Model Creation\n",
    "Below, the creation of the mathematical is wrapped into a function that takes\n",
    "- the time and leather samples\n",
    "- and the solver \n",
    "as parameters\n",
    "\n"
   ]
  },
  {
   "cell_type": "code",
   "execution_count": 8,
   "metadata": {
    "slideshow": {
     "slide_type": "-"
    }
   },
   "outputs": [],
   "source": [
    "def build_model_with_samples(samples_time_available, samples_leather_available, solver):    \n",
    "    n_scenarios = len(samples_time_available)    \n",
    "    scenarios = np.arange(n_scenarios)\n",
    "    #sets\n",
    "    belt_types = np.arange(2)\n",
    "    #deterministic parameters\n",
    "    profit_contribution = [2, 1.5]\n",
    "    time_consumption = [2, 1]\n",
    "    bucks_available = [400, 700]\n",
    "\n",
    "    #probability of each scenario\n",
    "    prob = np.full((n_scenarios), 1.0/n_scenarios)\n",
    "    alpha = 0.95\n",
    "    #bigM is used for switching off constraints by adding it to the resource capacity in a scenario\n",
    "    #if it is chosen as difference between the max and min capacity, it is definitely large enough to switch off the constraint\n",
    "    bigM = [max(samples_time_available)-min(samples_time_available),max(samples_leather_available)-min(samples_leather_available)]\n",
    "        \n",
    "    m = Model(solver_name=solver)  \n",
    "    production = [ m.add_var(var_type=INTEGER) for i in belt_types ] # production variable \n",
    "    is_scenario_violated =  [ m.add_var(var_type=BINARY) for s in scenarios ] # binary variable indicating if scenario is vilated or not\n",
    "\n",
    "    m.objective =  maximize( xsum(profit_contribution[b] * production[b] for b in belt_types) ) # objective function\n",
    "\n",
    "    for s in scenarios:\n",
    "        m += sum (time_consumption[b]*production[b] for b in belt_types) <= samples_time_available[s] + bigM[0]*(is_scenario_violated[s]) # chance constraint for time\n",
    "        m += sum (production[b] for b in belt_types) <= samples_leather_available[s] + bigM[1]*(is_scenario_violated[s]) # chance constraint for leather\n",
    "   \n",
    "    m += sum ( prob[s]*is_scenario_violated[s] for s in scenarios) <= 1-alpha   # enforcing the maximium allowed violation probability\n",
    "\n",
    "    return m"
   ]
  },
  {
   "cell_type": "markdown",
   "metadata": {
    "slideshow": {
     "slide_type": "slide"
    }
   },
   "source": [
    "## Let us Try the Different Solvers\n",
    "- CBC"
   ]
  },
  {
   "cell_type": "code",
   "execution_count": 9,
   "metadata": {
    "slideshow": {
     "slide_type": "-"
    }
   },
   "outputs": [
    {
     "name": "stdout",
     "output_type": "stream",
     "text": [
      "Solution time with CBC: 1.27 seconds\n"
     ]
    }
   ],
   "source": [
    "model_instance_cbc = build_model_with_samples(samples_time_available, samples_leather_available, solver=CBC)\n",
    "\n",
    "start = time.time()\n",
    "\n",
    "model_instance_cbc.optimize()\n",
    "\n",
    "print (f'Solution time with CBC: {time.time()-start:0.2f} seconds' )"
   ]
  },
  {
   "cell_type": "markdown",
   "metadata": {
    "slideshow": {
     "slide_type": "fragment"
    }
   },
   "source": [
    "- Gurobi"
   ]
  },
  {
   "cell_type": "code",
   "execution_count": 10,
   "metadata": {
    "slideshow": {
     "slide_type": "-"
    }
   },
   "outputs": [
    {
     "name": "stdout",
     "output_type": "stream",
     "text": [
      "Solution time with Gurobi: 0.14 seconds\n"
     ]
    }
   ],
   "source": [
    "model_instance_gurobi = build_model_with_samples(samples_time_available, samples_leather_available, solver=GRB)\n",
    "\n",
    "start = time.time()\n",
    "\n",
    "model_instance_gurobi.optimize()\n",
    "\n",
    "print (f'Solution time with Gurobi: {time.time()-start:0.2f} seconds' )\n"
   ]
  },
  {
   "cell_type": "markdown",
   "metadata": {
    "slideshow": {
     "slide_type": "-"
    }
   },
   "source": [
    "**Question: Can we tune the (free) solver CBC to become competitive with Gurobi for this problem?**"
   ]
  },
  {
   "cell_type": "markdown",
   "metadata": {
    "slideshow": {
     "slide_type": "slide"
    }
   },
   "source": [
    "# Algorithm Configuration Basics"
   ]
  },
  {
   "cell_type": "markdown",
   "metadata": {
    "slideshow": {
     "slide_type": "slide"
    }
   },
   "source": [
    "## What are Parameters?\n",
    "\n",
    "Parameters are settings of an algorithm (or solver) that change the\n",
    "way an algorithm solves a problem."
   ]
  },
  {
   "cell_type": "markdown",
   "metadata": {
    "slideshow": {
     "slide_type": "slide"
    }
   },
   "source": [
    "\n",
    "## What are Parameters?\n",
    "\n",
    "\n",
    "Parameters are settings of an algorithm (or solver) that change the\n",
    "way an algorithm solves a problem.\n",
    "\n",
    "### There are configurable and non-configurable parameters:\n",
    "\n"
   ]
  },
  {
   "cell_type": "markdown",
   "metadata": {
    "cell_style": "split",
    "slideshow": {
     "slide_type": "-"
    }
   },
   "source": [
    "**Configurable**\n",
    "- simulated annealing start temperature\n",
    "- population size in a genetic algorithm (GA)\n",
    "- branching heuristic in Branch-and-Bound \n",
    "- probability of a GA mutation"
   ]
  },
  {
   "cell_type": "markdown",
   "metadata": {
    "cell_style": "split",
    "slideshow": {
     "slide_type": "-"
    }
   },
   "source": [
    "**Non-Configurable**\n",
    "- random seed\n",
    "- instance to be solved\n",
    "- numerical accuracy in an exact solver\n",
    "- maximum solution time\n"
   ]
  },
  {
   "cell_type": "markdown",
   "metadata": {
    "slideshow": {
     "slide_type": "slide"
    }
   },
   "source": [
    "## Parameter Types\n",
    "\n",
    "\n",
    "- Continuous: e.g. $[1.0, 5.0]$\n",
    "- Discrete: e.g. $\\{1, \\dots, 10\\}$\n",
    "- Categorical: e.g. $\\{a, b, c, d\\}$\n",
    "- Ordinal: e.g. $\\{low, medium, high\\}$ (Ordered set)\n"
   ]
  },
  {
   "cell_type": "markdown",
   "metadata": {
    "slideshow": {
     "slide_type": "slide"
    }
   },
   "source": [
    "\n",
    "## Parameter Examples: Genetic Algorithm\n",
    "A genetic algorithm could have the following parameters:\n",
    "\n",
    "\n",
    "| Parameter      | Description                               |Considered values    |\n",
    "|:--------------------|:-------------------------------------------|:----------------------------|\n",
    "| $$\\color{cyan} {\\textsf{ population }}$$ | Population size    | 1..infinity                      |\n",
    "| $$\\color{red} {\\textsf{recombProb }}$$ | Recombination probability| 0-1.0                       |\n",
    "| $$\\color{red} {\\textsf{mutProb }}$$    |  Mutation probability          | 0-1.0                |\n",
    "| $$\\color{green} {\\textsf{select   }}$$    | Selection heuristic             | 'Roulette', 'Tournament', 'Random'       |\n",
    "| $$\\color{green}{\\textsf{fitness-scaling  }}$$    | Use fitness scaling?     | 'yes', 'no'              |\n",
    "\n",
    "$$\\color{cyan}{\\textsf{discrete }}, \\color{red}{\\textsf{continuous}}, \\color{green}{\\textsf{categorical}}$$"
   ]
  },
  {
   "cell_type": "markdown",
   "metadata": {
    "slideshow": {
     "slide_type": "slide"
    }
   },
   "source": [
    "## MIP Solver Parameters Used in our Case Study\n",
    "In our case study, we will configure the MIP solver *CBC*\n",
    "- CBC has many parameters, but we will only use a subset\n",
    "- we will use the following parameters for configuration:\n",
    "\n",
    "\n",
    "| Parameter      | Description                               |Considered values    |\n",
    "|:--------------------|:-------------------------------------------|:----------------------------|\n",
    "| $$\\color{green}{\\textsf{nodeStrategy}}$$    | Strategy for selecting nodes to branch on   | 'depth', 'fewest','hybrid' |\n",
    "| $$\\color{cyan} {\\textsf{ strongBranching }}$$ | # vars. to consider in strong branching     | 0-10                       |\n",
    "| $$\\color{cyan} {\\textsf{trustPseudoCosts }}$$ | str. br. evals before trusting pseudo costs | 0-10                       |\n",
    "| $$\\color{green} {\\textsf{preprocess }}$$    | Switch for model preprocessing              | 'on', 'off'                |\n",
    "| $$\\color{green} {\\textsf{presolve   }}$$    | Switch for presolve reductions              | 'on', 'off','sos'          |\n",
    "| $$\\color{green}{\\textsf{cutsOnOff   }}$$    | Switch for cut generation (all cuts)        | 'on', 'off'                |\n",
    "| $$\\color{green}{\\textsf{ heuristicsOnOff }}$$ | Turn (all) heuristics on/off                | 'on', 'off'             |\n",
    "\n",
    "$$\\color{cyan}{\\textsf{discrete }}, \\color{red}{\\textsf{continuous}}, \\color{green}{\\textsf{categorical}}$$"
   ]
  },
  {
   "cell_type": "markdown",
   "metadata": {
    "slideshow": {
     "slide_type": "slide"
    }
   },
   "source": [
    "## Let us Start Playing with CBC Parameters in our Case Study\n",
    "\n",
    "- first, we write a function for setting parameters\n"
   ]
  },
  {
   "cell_type": "code",
   "execution_count": 11,
   "metadata": {
    "slideshow": {
     "slide_type": "-"
    }
   },
   "outputs": [],
   "source": [
    "def set_cbc_parameter(model_instance, parameter, value):\n",
    "    cbc_set_parameter(model_instance.solver,parameter,str(value)) # the function cbc_set parameter only takes string, we thus convert numbers to strings here\n",
    "  "
   ]
  },
  {
   "cell_type": "markdown",
   "metadata": {
    "slideshow": {
     "slide_type": "fragment"
    }
   },
   "source": [
    "- now, we try out the parameter 'node_strategy' to 'depth'\n",
    "- observe: we first make a copy to avoid that CBC uses a *warm start*, that is, starts from the previous state"
   ]
  },
  {
   "cell_type": "code",
   "execution_count": 12,
   "metadata": {
    "slideshow": {
     "slide_type": "-"
    }
   },
   "outputs": [
    {
     "name": "stdout",
     "output_type": "stream",
     "text": [
      "Solution time: 1.10 seconds\n"
     ]
    }
   ],
   "source": [
    "model_instance_cbc = model_instance_cbc.copy() # reset the model to a fresh state (to avoid warm start!)\n",
    "\n",
    "set_cbc_parameter(model_instance_cbc, 'heuristicsOnOff','off') # as an example, let us try depth-first-search\n",
    "\n",
    "start = time.time()\n",
    "model_instance_cbc.optimize()\n",
    "print (f'Solution time: {time.time()-start:0.2f} seconds' )\n"
   ]
  },
  {
   "cell_type": "markdown",
   "metadata": {
    "slideshow": {
     "slide_type": "slide"
    }
   },
   "source": [
    "## Making Experimentation Easier: An Evaluation Function\n",
    "\n",
    "- we write a function that takes a model instance and a set of named parameter-value pairs\n",
    "- and performs the complete evaluation based on a threshold of 30 seconds (returning the PAR10-performance, that is 10\\*30 in case of timeout"
   ]
  },
  {
   "cell_type": "code",
   "execution_count": 13,
   "metadata": {
    "slideshow": {
     "slide_type": "-"
    }
   },
   "outputs": [],
   "source": [
    "def evaluate_parameters_on_instance(model_instance, **params):\n",
    "\n",
    "    model = model_instance.copy() # we make a copy of the model here since    \n",
    "    model.seed = 42 # set the seed to make multiple runs comparable\n",
    "    \n",
    "    for param, value in params.items(): # iterate over the names and values of the parameters\n",
    "        cbc_set_parameter(model.solver,param,str(value)) # the function cbc_set parameter takes only strings\n",
    "        \n",
    "    time_limit_seconds = 30 \n",
    "    start = time.time()    \n",
    "    status = model.optimize(max_seconds=time_limit_seconds) # we set the runtime limit to 30\n",
    "    \n",
    "    if status == OptimizationStatus.OPTIMAL:    \n",
    "        return (time.time()-start)    \n",
    "    else: #  if the limit is exceeded, we return the time_limit *10, this is the PAR10 logic   \n",
    "        return time_limit_seconds * 10"
   ]
  },
  {
   "cell_type": "markdown",
   "metadata": {
    "slideshow": {
     "slide_type": "fragment"
    }
   },
   "source": [
    "- let's see this in action:"
   ]
  },
  {
   "cell_type": "code",
   "execution_count": 14,
   "metadata": {
    "slideshow": {
     "slide_type": "-"
    }
   },
   "outputs": [
    {
     "name": "stdout",
     "output_type": "stream",
     "text": [
      "Solution time: 1.07 seconds\n",
      "Solution time: 0.94 seconds\n"
     ]
    }
   ],
   "source": [
    "performance = evaluate_parameters_on_instance(model_instance_cbc, nodeStrategy='few', heuristicsOnOff='off', preprocess='off')\n",
    "print (f'Solution time: {performance:0.2f} seconds' )\n",
    "\n",
    "performance = evaluate_parameters_on_instance(model_instance_cbc, nodeStrategy='hybrid', heuristicsOnOff='off', 𝗌𝗍𝗋𝗈𝗇𝗀𝖡𝗋𝖺𝗇𝖼𝗁𝗂𝗇𝗀 =0.4, presolve='off', preprocess='off', 𝗍𝗋𝗎𝗌𝗍𝖯𝗌𝖾𝗎𝖽𝗈𝖢𝗈𝗌𝗍𝗌=0)\n",
    "print (f'Solution time: {performance:0.2f} seconds' )"
   ]
  },
  {
   "cell_type": "markdown",
   "metadata": {
    "slideshow": {
     "slide_type": "slide"
    }
   },
   "source": [
    "## Exercise: Play with the Parameters!\n",
    "\n",
    "Play with the following parameters! What is your best parameter combination?\n",
    "\n",
    "| Parameter      | Description                               |Considered values    |\n",
    "|:--------------------|:-------------------------------------------|:----------------------------|\n",
    "| $$\\color{green}{\\textsf{nodeStrategy}}$$    | Strategy for selecting nodes to branch on   | 'depth', 'fewest','hybrid' |\n",
    "| $$\\color{cyan} {\\textsf{ strongBranching }}$$ | # vars. to consider in strong branching     | 0-10                       |\n",
    "| $$\\color{cyan} {\\textsf{trustPseudoCosts }}$$ | str. br. evals before trusting pseudo costs | 0-10                       |\n",
    "| $$\\color{green} {\\textsf{preprocess }}$$    | Switch for model preprocessing              | 'on', 'off'                |\n",
    "| $$\\color{green} {\\textsf{presolve   }}$$    | Switch for presolve reductions              | 'on', 'off','sos'          |\n",
    "| $$\\color{green}{\\textsf{cutsOnOff   }}$$    | Switch for cut generation (all cuts)        | 'on', 'off'                |\n",
    "| $$\\color{green}{\\textsf{ heuristicsOnOff }}$$ | Turn (all) heuristics on/off                | 'on', 'off'             |\n",
    "\n",
    "$$\\color{cyan}{\\textsf{discrete }}, \\color{red}{\\textsf{continuous}}, \\color{green}{\\textsf{categorical}}$$"
   ]
  },
  {
   "cell_type": "code",
   "execution_count": 15,
   "metadata": {},
   "outputs": [
    {
     "name": "stdout",
     "output_type": "stream",
     "text": [
      "Solution time: 0.61 seconds\n"
     ]
    }
   ],
   "source": [
    "performance = evaluate_parameters_on_instance(model_instance_cbc, nodeStrategy='fewest',cutsOnOff='off', strongBranching=5)\n",
    "print (f'Solution time: {performance:0.2f} seconds' )"
   ]
  },
  {
   "cell_type": "markdown",
   "metadata": {
    "slideshow": {
     "slide_type": "slide"
    }
   },
   "source": [
    "## Why Bothering with Algorithm Configuration?\n",
    "\n",
    "**Why would we care about algorithm configuration?**\n",
    "- in many cases, algorithms are not only used once, but are part of a repeating planning workflow\n",
    "  - e.g. monthly staff scheduling, daily power plant dispatch\n",
    "- in these cases, the instance to solve are very similar\n",
    "- sometimes, runtime is critical to allow testing multiple scenarios\n",
    "- in many cases, configuration can lead to big runtime reductions\n",
    "  - often, only a fraction (say, 1/10) of original runtime is needed\n",
    "    after configuration\n",
    "    "
   ]
  },
  {
   "cell_type": "markdown",
   "metadata": {
    "slideshow": {
     "slide_type": "slide"
    }
   },
   "source": [
    "## Goals of Algorithm Configuration\n",
    "\n",
    "There are two main types of algorithm configuration:\n",
    "\n",
    "<div class=\"alert alert-block alert-info\">\n",
    "<b>Runtime configuration</b> <br> \n",
    "<li>Concerned with minimizing the runtime of a target algorithm.\n",
    "</div>\n",
    "\n",
    "<div class=\"alert alert-block alert-danger\">\n",
    "<b>Quality configuration</b> <br> \n",
    "<li>Concerned with minimizing an objective function seen only through the evaluation of an algorithm.\n",
    "<li> This is generally the fitness/objective function of an optimization algorithm or the solution of a simulation.\n",
    "</div>\n"
   ]
  },
  {
   "cell_type": "markdown",
   "metadata": {
    "slideshow": {
     "slide_type": "slide"
    }
   },
   "source": [
    "## Offline Configuration and  Online Application\n",
    "\n",
    "\n",
    "![off_on](img/algorithm_configuration_offline_online.png)\n",
    "\n",
    "\n"
   ]
  },
  {
   "cell_type": "markdown",
   "metadata": {
    "slideshow": {
     "slide_type": "slide"
    }
   },
   "source": [
    "## Homogeneous vs Heterogeneous Instance Sets\n",
    "#### Homogeneous datasets\n",
    "*Homogeneous instance sets* contain instances with similar structures, allowing algorithms to use similar parameters on all of the instances to solve them.\n",
    "\n",
    "\n",
    "#### Heterogeneous instance sets\n",
    "*Heterogeneous instance sets* consist of two or more homogeneous sub-sets, but which instance belongs to which sub-set is unclear. Different parameter values are required for different instances.\n",
    "\n",
    "$\\rightarrow$ This case may require a combination of algorithm selection (e.g. based on clustering) and algorithm configuration!\n"
   ]
  },
  {
   "cell_type": "markdown",
   "metadata": {
    "slideshow": {
     "slide_type": "slide"
    }
   },
   "source": [
    "## Manual Configuration?\n",
    "\n",
    "Can't we just **manually** tune parameters? \n",
    "\n",
    "We can, but it is\n",
    "- time-consuming\n",
    "- error-prone and \n",
    "- tedious"
   ]
  },
  {
   "cell_type": "code",
   "execution_count": 16,
   "metadata": {
    "slideshow": {
     "slide_type": "-"
    }
   },
   "outputs": [
    {
     "name": "stdout",
     "output_type": "stream",
     "text": [
      "Solution time: 1.06 seconds\n",
      "Solution time: 1.25 seconds\n",
      "Solution time: 1.22 seconds\n"
     ]
    }
   ],
   "source": [
    "performance = evaluate_parameters_on_instance(model_instance_cbc, nodeStrategy='hybrid', heuristicsOnOff='off')\n",
    "print (f'Solution time: {performance:0.2f} seconds' )\n",
    "\n",
    "performance = evaluate_parameters_on_instance(model_instance_cbc, nodeStrategy='hybrid', heuristicsOnOff='on')\n",
    "print (f'Solution time: {performance:0.2f} seconds' )\n",
    "\n",
    "performance = evaluate_parameters_on_instance(model_instance_cbc, nodeStrategy='fewest', heuristicsOnOff='on')\n",
    "print (f'Solution time: {performance:0.2f} seconds' )"
   ]
  },
  {
   "cell_type": "markdown",
   "metadata": {
    "slideshow": {
     "slide_type": "slide"
    }
   },
   "source": [
    "In many cases, it is more effective to **automate** algorithm\n",
    "configuration!"
   ]
  },
  {
   "cell_type": "markdown",
   "metadata": {
    "slideshow": {
     "slide_type": "slide"
    }
   },
   "source": [
    "# Automating the Configuration of Algorithms"
   ]
  },
  {
   "cell_type": "markdown",
   "metadata": {
    "slideshow": {
     "slide_type": "slide"
    }
   },
   "source": [
    "##  Automating the Configuration of Algorithms\n",
    "\n",
    "The goal of the following part is to get an introduction to the topic of\n",
    "**algorithm configuration**\n",
    "\n",
    "In particular,  will discuss\n",
    "- the idea and the challenges of automatic algorithm configuration\n",
    "- how to use black box (Bayesian) optimization for automatic algorithm configuration\n",
    "- how to address the challenge of overfitting\n",
    "- how to speed up algorithm configuration by using early stopping\n",
    "\n",
    "As in the last weeks, we will\n",
    "- use a case study (see above) to illustrate the concepts learned\n",
    "- provide implementations of an algorithm configuration approach for\n",
    "  this case study in this Jupyter Notebook\n"
   ]
  },
  {
   "cell_type": "markdown",
   "metadata": {
    "slideshow": {
     "slide_type": "slide"
    }
   },
   "source": [
    "## Automatic Algorithm Configuration: The Idea and the Challenges"
   ]
  },
  {
   "cell_type": "markdown",
   "metadata": {
    "slideshow": {
     "slide_type": "slide"
    }
   },
   "source": [
    "## Automatic Algorithm Configuration\n",
    "\n",
    "- automatic algorithm configurators **automatically** try different parameter settings on selected instances and measure the performance of the target algorithm. \n",
    "- they perform the search in a somewhat intelligent way\n",
    "\n",
    "![off_on](img/automatic_algorithm_configuration.png)\n"
   ]
  },
  {
   "cell_type": "markdown",
   "metadata": {
    "slideshow": {
     "slide_type": "slide"
    }
   },
   "source": [
    "## Challenges\n",
    "\n",
    "#### Automated algorithm configurators have to overcome the following challenges (among many others):\n",
    "- Which instances to evaluate parameterizations on\n",
    "- Which parameterizations to test\n",
    "- Testing parameterizations is **expensive**\n",
    "- Big risk of overfitting"
   ]
  },
  {
   "cell_type": "markdown",
   "metadata": {
    "slideshow": {
     "slide_type": "fragment"
    }
   },
   "source": [
    "#### Why is algorithm configuration different from other optimization problems?\n",
    "- The objective function in most metaheuristics is easy to evaluate (that is: fast)\n",
    "\n",
    "-  Algorithm configurators must execute the target algorithm with a parameterization **on multiple instances** to evaluate it."
   ]
  },
  {
   "cell_type": "markdown",
   "metadata": {
    "slideshow": {
     "slide_type": "slide"
    }
   },
   "source": [
    "## Addressing the Challenges of Algorithm Configuration: Case Study\n",
    "\n",
    "\n",
    "In the remainder of this meeting, we will see how we can address some of\n",
    "the challenges using \"standard\" tools in our case study:\n",
    "\n",
    "\n",
    "\n",
    "- using **Bayesian Optimization** to search the space of configurations\n",
    "- optimize using **multiple training instances** to avoid overfitting\n",
    "- use a simple **early stopping strategy** to reduce the time spent evaluating bad configurations\n"
   ]
  },
  {
   "cell_type": "markdown",
   "metadata": {
    "slideshow": {
     "slide_type": "slide"
    }
   },
   "source": [
    "# Using Black Box (Bayesian) Optimization for Algorithm Configuration"
   ]
  },
  {
   "cell_type": "markdown",
   "metadata": {
    "slideshow": {
     "slide_type": "slide"
    }
   },
   "source": [
    "## Black Box Optimization using Bayesian Optimization\n",
    "\n",
    "A **black box optimizer** treats the optimization problem as \"black box\"\n",
    "- it does not make any assumption regarding problem structure (e.g. linearity)\n",
    "- it only requires a mechanism that returns the value of a solution / configuration"
   ]
  },
  {
   "cell_type": "markdown",
   "metadata": {
    "slideshow": {
     "slide_type": "fragment"
    }
   },
   "source": [
    "**Key Idea of Bayesian Optimization**\n",
    "- use a machine learning model (mostly: Gaussian Processes) as a\n",
    "  surrogate model for the configuration space\n",
    "- initialize the model using few (e.g. random) configurations\n",
    "- update the surrogate model after each new evaluation"
   ]
  },
  {
   "cell_type": "markdown",
   "metadata": {
    "heading_collapsed": true,
    "slideshow": {
     "slide_type": "slide"
    }
   },
   "source": [
    "## Illustrating Bayesian Optimization\n",
    "\n",
    "**Key Idea of Bayesian Optimization**\n",
    "- use a machine learning model (mostly: Gaussian Processes) as a\n",
    "  surrogate model for the configuration space\n",
    "- initialize the model using few (e.g. random) configurations\n",
    "- update the surrogate model after each new evaluation\n",
    "\n",
    "![BO](img/BO-0.png)\n",
    "\n",
    "Source: https://distill.pub/2020/bayesian-optimization/"
   ]
  },
  {
   "cell_type": "markdown",
   "metadata": {
    "slideshow": {
     "slide_type": "slide"
    }
   },
   "source": [
    "## Illustrating Bayesian Optimization\n",
    "\n",
    "**Key Idea of Bayesian Optimization**\n",
    "- use a machine learning model (mostly: Gaussian Processes) as a\n",
    "  surrogate model for the configuration space\n",
    "- initialize the model using few (e.g. random) configurations\n",
    "- update the surrogate model after each new evaluation\n",
    "\n",
    "![BO](img/BO-1.png)\n",
    "\n",
    "Source: https://distill.pub/2020/bayesian-optimization/"
   ]
  },
  {
   "cell_type": "markdown",
   "metadata": {
    "slideshow": {
     "slide_type": "slide"
    }
   },
   "source": [
    "## Illustrating Bayesian Optimization\n",
    "\n",
    "**Key Idea of Bayesian Optimization**\n",
    "- use a machine learning model (mostly: Gaussian Processes) as a\n",
    "  surrogate model for the configuration space\n",
    "- initialize the model using few (e.g. random) configurations\n",
    "- update the surrogate model after each new evaluation\n",
    "\n",
    "![BO](img/BO-2.png)\n",
    "\n",
    "Source: https://distill.pub/2020/bayesian-optimization/"
   ]
  },
  {
   "cell_type": "markdown",
   "metadata": {
    "slideshow": {
     "slide_type": "slide"
    }
   },
   "source": [
    "## Illustrating Bayesian Optimization\n",
    "\n",
    "**Key Idea of Bayesian Optimization**\n",
    "- use a machine learning model (mostly: Gaussian Processes) as a\n",
    "  surrogate model for the configuration space\n",
    "- initialize the model using few (e.g. random) configurations\n",
    "- update the surrogate model after each new evaluation\n",
    "\n",
    "![BO](img/BO-3.png)\n",
    "\n",
    "Source: https://distill.pub/2020/bayesian-optimization/"
   ]
  },
  {
   "cell_type": "markdown",
   "metadata": {
    "slideshow": {
     "slide_type": "slide"
    }
   },
   "source": [
    "## Illustrating Bayesian Optimization\n",
    "\n",
    "**Key Idea of Bayesian Optimization**\n",
    "- use a machine learning model (mostly: Gaussian Processes) as a\n",
    "  surrogate model for the configuration space\n",
    "- initialize the model using few (e.g. random) configurations\n",
    "- update the surrogate model after each new evaluation\n",
    "\n",
    "![BO](img/BO-4.png)\n",
    "\n",
    "Source: https://distill.pub/2020/bayesian-optimization/"
   ]
  },
  {
   "cell_type": "markdown",
   "metadata": {
    "slideshow": {
     "slide_type": "slide"
    }
   },
   "source": [
    "## Illustrating Bayesian Optimization\n",
    "\n",
    "**Key Idea of Bayesian Optimization**\n",
    "- use a machine learning model (mostly: Gaussian Processes) as a\n",
    "  surrogate model for the configuration space\n",
    "- initialize the model using few (e.g. random) configurations\n",
    "- update the surrogate model after each new evaluation\n",
    "\n",
    "![BO](img/BO-5.png)\n",
    "Source: https://distill.pub/2020/bayesian-optimization/"
   ]
  },
  {
   "cell_type": "markdown",
   "metadata": {
    "slideshow": {
     "slide_type": "slide"
    }
   },
   "source": [
    "## Optuna: A Package for Black Box/Hyperparameter Optimization\n",
    "\n",
    "A **black box optimizer** treats the optimization problem as \"black box\"\n",
    "- it does not make any assumption regarding problem structure (e.g. linearity)\n",
    "- it only requires a mechanism that returns the value of a solution / configuration\n",
    "\n"
   ]
  },
  {
   "cell_type": "markdown",
   "metadata": {
    "slideshow": {
     "slide_type": "fragment"
    }
   },
   "source": [
    "**Optuna** https://optuna.org/\n",
    "- is a package for black box / hyperparameter optimization with different methods, in particular:\n",
    "  - Grid Search \n",
    "  - **Bayesian Optimization** with Gaussian Processes\n",
    "  - tree-based sampling\n",
    "- it can also be used for hyperparameter tuning of machine learning models"
   ]
  },
  {
   "cell_type": "markdown",
   "metadata": {
    "slideshow": {
     "slide_type": "fragment"
    }
   },
   "source": [
    "..there are similar packages such as scikit-optimize (not developed any longer)"
   ]
  },
  {
   "cell_type": "markdown",
   "metadata": {
    "slideshow": {
     "slide_type": "slide"
    }
   },
   "source": [
    "## Recall: MIP Solver Parameters Used in our Case Study\n",
    "In our case study, we will configure the MIP solver *CBC*\n",
    "- CBC has many parameters, but we will only use a subset\n",
    "- we will use the following parameters for configuration:\n",
    "\n",
    "\n",
    "| Parameter      | Description                               |Considered values    |\n",
    "|:--------------------|:-------------------------------------------|:----------------------------|\n",
    "| $$\\color{green}{\\textsf{nodeStrategy}}$$    | Strategy for selecting nodes to branch on   | 'depth', 'fewest','hybrid' |\n",
    "| $$\\color{cyan} {\\textsf{ strongBranching }}$$ | # vars. to consider in strong branching     | 0-10                       |\n",
    "| $$\\color{cyan} {\\textsf{trustPseudoCosts }}$$ | str. br. evals before trusting pseudo costs | 0-10                       |\n",
    "| $$\\color{green} {\\textsf{preprocess }}$$    | Switch for model preprocessing              | 'on', 'off'                |\n",
    "| $$\\color{green} {\\textsf{presolve   }}$$    | Switch for presolve reductions              | 'on', 'off','sos'          |\n",
    "| $$\\color{green}{\\textsf{cutsOnOff   }}$$    | Switch for cut generation (all cuts)        | 'on', 'off'                |\n",
    "| $$\\color{green}{\\textsf{ heuristicsOnOff }}$$ | Turn (all) heuristics on/off                | 'on', 'off'             |\n",
    "\n",
    "$$\\color{cyan}{\\textsf{discrete }}, \\color{red}{\\textsf{continuous}}, \\color{green}{\\textsf{categorical}}$$"
   ]
  },
  {
   "cell_type": "markdown",
   "metadata": {
    "slideshow": {
     "slide_type": "slide"
    }
   },
   "source": [
    "## Defining the Parameter Space and the Evaluation Function"
   ]
  },
  {
   "cell_type": "markdown",
   "metadata": {
    "slideshow": {
     "slide_type": "-"
    }
   },
   "source": [
    "In Optuna, we have to define an evaluation function (objective function) that\n",
    "- has an argument \"trial\" that refers to a certain parameter configuration\n",
    "- includes some lines of code that make optuna choose the next parameters (this **implicitly defines the parameter space**), e.g.\n",
    "  - `trial.suggest_categorical` for categorical parameters\n",
    "- runs the parameterized code that is to be evaluated (e.g. solving an optimization model, training an ML model)\n",
    "- returns a performance metric (e.g. runtime of an algorithm, accuracy of the fitted ML model)\n",
    "\n"
   ]
  },
  {
   "cell_type": "code",
   "execution_count": 17,
   "metadata": {
    "scrolled": true,
    "slideshow": {
     "slide_type": "-"
    }
   },
   "outputs": [],
   "source": [
    "import optuna\n",
    "\n",
    "model_instance_for_objective = model_instance_cbc\n",
    "\n",
    "def performance_objective_single_instance(trial): # we always need the trial parameter\n",
    "\n",
    "    node_strategy = trial.suggest_categorical('nodeStrategy', ['hybrid','fewest','depth'])\n",
    "    strong_branching = trial.suggest_int('strongBranching',0,10)\n",
    "    trust_pseudo_costs = trial.suggest_int('trustPseudoCosts',0,10)    \n",
    "    preprocess = trial.suggest_categorical('preprocess', ['on','off'])\n",
    "    presolve = trial.suggest_categorical('presolve', ['on','off'])\n",
    "    cuts_on_off = trial.suggest_categorical('cutsOnOff', ['on','off'])\n",
    "    heuristics_on_off = trial.suggest_categorical('heuristicsOnOff', ['on','off'])\n",
    "    \n",
    "    \n",
    "    return evaluate_parameters_on_instance(model_instance_for_objective,**trial.params)\n",
    "    "
   ]
  },
  {
   "cell_type": "markdown",
   "metadata": {
    "slideshow": {
     "slide_type": "slide"
    }
   },
   "source": [
    "## Running the Optimization\n",
    "- let us now run the optimization\n",
    "- note that by using the parameter `n_calls`, we limit the number of configurations evaluated to 50"
   ]
  },
  {
   "cell_type": "code",
   "execution_count": 18,
   "metadata": {
    "slideshow": {
     "slide_type": "-"
    }
   },
   "outputs": [
    {
     "name": "stderr",
     "output_type": "stream",
     "text": [
      "[I 2025-07-15 10:10:27,338] A new study created in memory with name: no-name-0ca81837-dd7f-4403-8d55-fc516d50243c\n",
      "[I 2025-07-15 10:10:28,835] Trial 0 finished with value: 1.481778621673584 and parameters: {'nodeStrategy': 'hybrid', 'strongBranching': 5, 'trustPseudoCosts': 3, 'preprocess': 'off', 'presolve': 'off', 'cutsOnOff': 'on', 'heuristicsOnOff': 'off'}. Best is trial 0 with value: 1.481778621673584.\n",
      "[I 2025-07-15 10:10:30,420] Trial 1 finished with value: 1.5745337009429932 and parameters: {'nodeStrategy': 'fewest', 'strongBranching': 1, 'trustPseudoCosts': 1, 'preprocess': 'off', 'presolve': 'on', 'cutsOnOff': 'on', 'heuristicsOnOff': 'on'}. Best is trial 0 with value: 1.481778621673584.\n",
      "[I 2025-07-15 10:10:31,025] Trial 2 finished with value: 0.5944304466247559 and parameters: {'nodeStrategy': 'fewest', 'strongBranching': 4, 'trustPseudoCosts': 5, 'preprocess': 'on', 'presolve': 'on', 'cutsOnOff': 'off', 'heuristicsOnOff': 'on'}. Best is trial 2 with value: 0.5944304466247559.\n",
      "[I 2025-07-15 10:10:32,363] Trial 3 finished with value: 1.3289620876312256 and parameters: {'nodeStrategy': 'hybrid', 'strongBranching': 1, 'trustPseudoCosts': 9, 'preprocess': 'off', 'presolve': 'on', 'cutsOnOff': 'on', 'heuristicsOnOff': 'off'}. Best is trial 2 with value: 0.5944304466247559.\n",
      "[I 2025-07-15 10:10:33,558] Trial 4 finished with value: 1.1788599491119385 and parameters: {'nodeStrategy': 'depth', 'strongBranching': 0, 'trustPseudoCosts': 1, 'preprocess': 'off', 'presolve': 'on', 'cutsOnOff': 'on', 'heuristicsOnOff': 'off'}. Best is trial 2 with value: 0.5944304466247559.\n",
      "[I 2025-07-15 10:10:33,859] Trial 5 finished with value: 0.2849569320678711 and parameters: {'nodeStrategy': 'hybrid', 'strongBranching': 1, 'trustPseudoCosts': 7, 'preprocess': 'off', 'presolve': 'on', 'cutsOnOff': 'off', 'heuristicsOnOff': 'off'}. Best is trial 5 with value: 0.2849569320678711.\n",
      "[I 2025-07-15 10:10:35,187] Trial 6 finished with value: 1.3130714893341064 and parameters: {'nodeStrategy': 'hybrid', 'strongBranching': 9, 'trustPseudoCosts': 8, 'preprocess': 'on', 'presolve': 'on', 'cutsOnOff': 'on', 'heuristicsOnOff': 'off'}. Best is trial 5 with value: 0.2849569320678711.\n",
      "[I 2025-07-15 10:10:36,431] Trial 7 finished with value: 1.2286155223846436 and parameters: {'nodeStrategy': 'hybrid', 'strongBranching': 1, 'trustPseudoCosts': 4, 'preprocess': 'off', 'presolve': 'off', 'cutsOnOff': 'on', 'heuristicsOnOff': 'off'}. Best is trial 5 with value: 0.2849569320678711.\n",
      "[I 2025-07-15 10:10:38,561] Trial 8 finished with value: 2.1078152656555176 and parameters: {'nodeStrategy': 'depth', 'strongBranching': 1, 'trustPseudoCosts': 2, 'preprocess': 'off', 'presolve': 'on', 'cutsOnOff': 'on', 'heuristicsOnOff': 'on'}. Best is trial 5 with value: 0.2849569320678711.\n",
      "[I 2025-07-15 10:10:39,843] Trial 9 finished with value: 1.26719331741333 and parameters: {'nodeStrategy': 'fewest', 'strongBranching': 3, 'trustPseudoCosts': 6, 'preprocess': 'on', 'presolve': 'on', 'cutsOnOff': 'on', 'heuristicsOnOff': 'off'}. Best is trial 5 with value: 0.2849569320678711.\n",
      "[I 2025-07-15 10:10:40,569] Trial 10 finished with value: 0.694720983505249 and parameters: {'nodeStrategy': 'hybrid', 'strongBranching': 8, 'trustPseudoCosts': 7, 'preprocess': 'on', 'presolve': 'off', 'cutsOnOff': 'off', 'heuristicsOnOff': 'on'}. Best is trial 5 with value: 0.2849569320678711.\n",
      "[I 2025-07-15 10:10:41,203] Trial 11 finished with value: 0.601259708404541 and parameters: {'nodeStrategy': 'fewest', 'strongBranching': 4, 'trustPseudoCosts': 10, 'preprocess': 'on', 'presolve': 'on', 'cutsOnOff': 'off', 'heuristicsOnOff': 'on'}. Best is trial 5 with value: 0.2849569320678711.\n",
      "[I 2025-07-15 10:10:41,879] Trial 12 finished with value: 0.651761531829834 and parameters: {'nodeStrategy': 'fewest', 'strongBranching': 7, 'trustPseudoCosts': 5, 'preprocess': 'on', 'presolve': 'on', 'cutsOnOff': 'off', 'heuristicsOnOff': 'on'}. Best is trial 5 with value: 0.2849569320678711.\n",
      "[I 2025-07-15 10:10:42,632] Trial 13 finished with value: 0.7222816944122314 and parameters: {'nodeStrategy': 'fewest', 'strongBranching': 3, 'trustPseudoCosts': 6, 'preprocess': 'on', 'presolve': 'on', 'cutsOnOff': 'off', 'heuristicsOnOff': 'on'}. Best is trial 5 with value: 0.2849569320678711.\n",
      "[I 2025-07-15 10:10:43,000] Trial 14 finished with value: 0.34798693656921387 and parameters: {'nodeStrategy': 'depth', 'strongBranching': 6, 'trustPseudoCosts': 4, 'preprocess': 'off', 'presolve': 'off', 'cutsOnOff': 'off', 'heuristicsOnOff': 'off'}. Best is trial 5 with value: 0.2849569320678711.\n",
      "[I 2025-07-15 10:10:43,390] Trial 15 finished with value: 0.3784317970275879 and parameters: {'nodeStrategy': 'depth', 'strongBranching': 7, 'trustPseudoCosts': 3, 'preprocess': 'off', 'presolve': 'off', 'cutsOnOff': 'off', 'heuristicsOnOff': 'off'}. Best is trial 5 with value: 0.2849569320678711.\n",
      "[I 2025-07-15 10:10:43,805] Trial 16 finished with value: 0.39063549041748047 and parameters: {'nodeStrategy': 'depth', 'strongBranching': 10, 'trustPseudoCosts': 7, 'preprocess': 'off', 'presolve': 'off', 'cutsOnOff': 'off', 'heuristicsOnOff': 'off'}. Best is trial 5 with value: 0.2849569320678711.\n",
      "[I 2025-07-15 10:10:44,070] Trial 17 finished with value: 0.24951934814453125 and parameters: {'nodeStrategy': 'depth', 'strongBranching': 6, 'trustPseudoCosts': 0, 'preprocess': 'off', 'presolve': 'off', 'cutsOnOff': 'off', 'heuristicsOnOff': 'off'}. Best is trial 17 with value: 0.24951934814453125.\n",
      "[I 2025-07-15 10:10:44,375] Trial 18 finished with value: 0.27365565299987793 and parameters: {'nodeStrategy': 'hybrid', 'strongBranching': 6, 'trustPseudoCosts': 0, 'preprocess': 'off', 'presolve': 'off', 'cutsOnOff': 'off', 'heuristicsOnOff': 'off'}. Best is trial 17 with value: 0.24951934814453125.\n",
      "[I 2025-07-15 10:10:44,660] Trial 19 finished with value: 0.26168251037597656 and parameters: {'nodeStrategy': 'depth', 'strongBranching': 6, 'trustPseudoCosts': 0, 'preprocess': 'off', 'presolve': 'off', 'cutsOnOff': 'off', 'heuristicsOnOff': 'off'}. Best is trial 17 with value: 0.24951934814453125.\n",
      "[I 2025-07-15 10:10:45,060] Trial 20 finished with value: 0.3771355152130127 and parameters: {'nodeStrategy': 'depth', 'strongBranching': 8, 'trustPseudoCosts': 0, 'preprocess': 'off', 'presolve': 'off', 'cutsOnOff': 'off', 'heuristicsOnOff': 'off'}. Best is trial 17 with value: 0.24951934814453125.\n",
      "[I 2025-07-15 10:10:45,352] Trial 21 finished with value: 0.2812325954437256 and parameters: {'nodeStrategy': 'depth', 'strongBranching': 6, 'trustPseudoCosts': 0, 'preprocess': 'off', 'presolve': 'off', 'cutsOnOff': 'off', 'heuristicsOnOff': 'off'}. Best is trial 17 with value: 0.24951934814453125.\n",
      "[I 2025-07-15 10:10:45,606] Trial 22 finished with value: 0.23234224319458008 and parameters: {'nodeStrategy': 'depth', 'strongBranching': 6, 'trustPseudoCosts': 1, 'preprocess': 'off', 'presolve': 'off', 'cutsOnOff': 'off', 'heuristicsOnOff': 'off'}. Best is trial 22 with value: 0.23234224319458008.\n",
      "[I 2025-07-15 10:10:45,847] Trial 23 finished with value: 0.21912097930908203 and parameters: {'nodeStrategy': 'depth', 'strongBranching': 5, 'trustPseudoCosts': 1, 'preprocess': 'off', 'presolve': 'off', 'cutsOnOff': 'off', 'heuristicsOnOff': 'off'}. Best is trial 23 with value: 0.21912097930908203.\n",
      "[I 2025-07-15 10:10:46,159] Trial 24 finished with value: 0.2967829704284668 and parameters: {'nodeStrategy': 'depth', 'strongBranching': 5, 'trustPseudoCosts': 2, 'preprocess': 'off', 'presolve': 'off', 'cutsOnOff': 'off', 'heuristicsOnOff': 'off'}. Best is trial 23 with value: 0.21912097930908203.\n",
      "[I 2025-07-15 10:10:46,410] Trial 25 finished with value: 0.22620654106140137 and parameters: {'nodeStrategy': 'depth', 'strongBranching': 4, 'trustPseudoCosts': 1, 'preprocess': 'off', 'presolve': 'off', 'cutsOnOff': 'off', 'heuristicsOnOff': 'off'}. Best is trial 23 with value: 0.21912097930908203.\n",
      "[I 2025-07-15 10:10:46,748] Trial 26 finished with value: 0.3111686706542969 and parameters: {'nodeStrategy': 'depth', 'strongBranching': 3, 'trustPseudoCosts': 2, 'preprocess': 'off', 'presolve': 'off', 'cutsOnOff': 'off', 'heuristicsOnOff': 'off'}. Best is trial 23 with value: 0.21912097930908203.\n",
      "[I 2025-07-15 10:10:46,980] Trial 27 finished with value: 0.21621417999267578 and parameters: {'nodeStrategy': 'depth', 'strongBranching': 4, 'trustPseudoCosts': 1, 'preprocess': 'off', 'presolve': 'off', 'cutsOnOff': 'off', 'heuristicsOnOff': 'off'}. Best is trial 27 with value: 0.21621417999267578.\n"
     ]
    },
    {
     "name": "stderr",
     "output_type": "stream",
     "text": [
      "[I 2025-07-15 10:10:47,402] Trial 28 finished with value: 0.40650033950805664 and parameters: {'nodeStrategy': 'depth', 'strongBranching': 4, 'trustPseudoCosts': 3, 'preprocess': 'off', 'presolve': 'off', 'cutsOnOff': 'off', 'heuristicsOnOff': 'off'}. Best is trial 27 with value: 0.21621417999267578.\n",
      "[I 2025-07-15 10:10:47,713] Trial 29 finished with value: 0.2952582836151123 and parameters: {'nodeStrategy': 'depth', 'strongBranching': 2, 'trustPseudoCosts': 2, 'preprocess': 'off', 'presolve': 'off', 'cutsOnOff': 'off', 'heuristicsOnOff': 'off'}. Best is trial 27 with value: 0.21621417999267578.\n",
      "[I 2025-07-15 10:10:47,967] Trial 30 finished with value: 0.21854543685913086 and parameters: {'nodeStrategy': 'depth', 'strongBranching': 5, 'trustPseudoCosts': 1, 'preprocess': 'off', 'presolve': 'off', 'cutsOnOff': 'off', 'heuristicsOnOff': 'off'}. Best is trial 27 with value: 0.21621417999267578.\n",
      "[I 2025-07-15 10:10:48,214] Trial 31 finished with value: 0.23183798789978027 and parameters: {'nodeStrategy': 'depth', 'strongBranching': 5, 'trustPseudoCosts': 1, 'preprocess': 'off', 'presolve': 'off', 'cutsOnOff': 'off', 'heuristicsOnOff': 'off'}. Best is trial 27 with value: 0.21621417999267578.\n",
      "[I 2025-07-15 10:10:48,457] Trial 32 finished with value: 0.22762751579284668 and parameters: {'nodeStrategy': 'depth', 'strongBranching': 4, 'trustPseudoCosts': 1, 'preprocess': 'off', 'presolve': 'off', 'cutsOnOff': 'off', 'heuristicsOnOff': 'off'}. Best is trial 27 with value: 0.21621417999267578.\n",
      "[I 2025-07-15 10:10:48,853] Trial 33 finished with value: 0.37189388275146484 and parameters: {'nodeStrategy': 'depth', 'strongBranching': 4, 'trustPseudoCosts': 3, 'preprocess': 'off', 'presolve': 'off', 'cutsOnOff': 'off', 'heuristicsOnOff': 'off'}. Best is trial 27 with value: 0.21621417999267578.\n",
      "[I 2025-07-15 10:10:49,185] Trial 34 finished with value: 0.30091071128845215 and parameters: {'nodeStrategy': 'depth', 'strongBranching': 3, 'trustPseudoCosts': 2, 'preprocess': 'off', 'presolve': 'off', 'cutsOnOff': 'off', 'heuristicsOnOff': 'off'}. Best is trial 27 with value: 0.21621417999267578.\n",
      "[I 2025-07-15 10:10:49,435] Trial 35 finished with value: 0.21933221817016602 and parameters: {'nodeStrategy': 'depth', 'strongBranching': 5, 'trustPseudoCosts': 1, 'preprocess': 'off', 'presolve': 'off', 'cutsOnOff': 'off', 'heuristicsOnOff': 'off'}. Best is trial 27 with value: 0.21621417999267578.\n",
      "[I 2025-07-15 10:10:49,755] Trial 36 finished with value: 0.27742600440979004 and parameters: {'nodeStrategy': 'depth', 'strongBranching': 5, 'trustPseudoCosts': 2, 'preprocess': 'off', 'presolve': 'off', 'cutsOnOff': 'off', 'heuristicsOnOff': 'off'}. Best is trial 27 with value: 0.21621417999267578.\n",
      "[I 2025-07-15 10:10:51,008] Trial 37 finished with value: 1.2374086380004883 and parameters: {'nodeStrategy': 'depth', 'strongBranching': 5, 'trustPseudoCosts': 4, 'preprocess': 'off', 'presolve': 'off', 'cutsOnOff': 'on', 'heuristicsOnOff': 'off'}. Best is trial 27 with value: 0.21621417999267578.\n",
      "[I 2025-07-15 10:10:51,651] Trial 38 finished with value: 0.6123397350311279 and parameters: {'nodeStrategy': 'depth', 'strongBranching': 7, 'trustPseudoCosts': 3, 'preprocess': 'off', 'presolve': 'off', 'cutsOnOff': 'off', 'heuristicsOnOff': 'on'}. Best is trial 27 with value: 0.21621417999267578.\n",
      "[I 2025-07-15 10:10:52,918] Trial 39 finished with value: 1.238518476486206 and parameters: {'nodeStrategy': 'fewest', 'strongBranching': 2, 'trustPseudoCosts': 1, 'preprocess': 'off', 'presolve': 'off', 'cutsOnOff': 'on', 'heuristicsOnOff': 'off'}. Best is trial 27 with value: 0.21621417999267578.\n",
      "[I 2025-07-15 10:10:53,265] Trial 40 finished with value: 0.31594038009643555 and parameters: {'nodeStrategy': 'hybrid', 'strongBranching': 2, 'trustPseudoCosts': 1, 'preprocess': 'on', 'presolve': 'off', 'cutsOnOff': 'off', 'heuristicsOnOff': 'off'}. Best is trial 27 with value: 0.21621417999267578.\n",
      "[I 2025-07-15 10:10:53,555] Trial 41 finished with value: 0.251781702041626 and parameters: {'nodeStrategy': 'depth', 'strongBranching': 4, 'trustPseudoCosts': 1, 'preprocess': 'off', 'presolve': 'off', 'cutsOnOff': 'off', 'heuristicsOnOff': 'off'}. Best is trial 27 with value: 0.21621417999267578.\n",
      "[I 2025-07-15 10:10:53,820] Trial 42 finished with value: 0.2378675937652588 and parameters: {'nodeStrategy': 'depth', 'strongBranching': 5, 'trustPseudoCosts': 0, 'preprocess': 'off', 'presolve': 'off', 'cutsOnOff': 'off', 'heuristicsOnOff': 'off'}. Best is trial 27 with value: 0.21621417999267578.\n",
      "[I 2025-07-15 10:10:54,084] Trial 43 finished with value: 0.23280763626098633 and parameters: {'nodeStrategy': 'depth', 'strongBranching': 5, 'trustPseudoCosts': 1, 'preprocess': 'off', 'presolve': 'off', 'cutsOnOff': 'off', 'heuristicsOnOff': 'off'}. Best is trial 27 with value: 0.21621417999267578.\n",
      "[I 2025-07-15 10:10:55,322] Trial 44 finished with value: 1.2063508033752441 and parameters: {'nodeStrategy': 'depth', 'strongBranching': 4, 'trustPseudoCosts': 2, 'preprocess': 'off', 'presolve': 'off', 'cutsOnOff': 'on', 'heuristicsOnOff': 'off'}. Best is trial 27 with value: 0.21621417999267578.\n",
      "[I 2025-07-15 10:10:56,010] Trial 45 finished with value: 0.6729247570037842 and parameters: {'nodeStrategy': 'depth', 'strongBranching': 3, 'trustPseudoCosts': 3, 'preprocess': 'off', 'presolve': 'off', 'cutsOnOff': 'off', 'heuristicsOnOff': 'on'}. Best is trial 27 with value: 0.21621417999267578.\n",
      "[I 2025-07-15 10:10:56,321] Trial 46 finished with value: 0.2857942581176758 and parameters: {'nodeStrategy': 'hybrid', 'strongBranching': 5, 'trustPseudoCosts': 0, 'preprocess': 'on', 'presolve': 'on', 'cutsOnOff': 'off', 'heuristicsOnOff': 'off'}. Best is trial 27 with value: 0.21621417999267578.\n",
      "[I 2025-07-15 10:10:56,568] Trial 47 finished with value: 0.222520112991333 and parameters: {'nodeStrategy': 'fewest', 'strongBranching': 4, 'trustPseudoCosts': 1, 'preprocess': 'off', 'presolve': 'off', 'cutsOnOff': 'off', 'heuristicsOnOff': 'off'}. Best is trial 27 with value: 0.21621417999267578.\n",
      "[I 2025-07-15 10:10:58,391] Trial 48 finished with value: 1.7993459701538086 and parameters: {'nodeStrategy': 'fewest', 'strongBranching': 3, 'trustPseudoCosts': 2, 'preprocess': 'off', 'presolve': 'on', 'cutsOnOff': 'on', 'heuristicsOnOff': 'on'}. Best is trial 27 with value: 0.21621417999267578.\n",
      "[I 2025-07-15 10:10:58,899] Trial 49 finished with value: 0.4762578010559082 and parameters: {'nodeStrategy': 'fewest', 'strongBranching': 7, 'trustPseudoCosts': 10, 'preprocess': 'on', 'presolve': 'off', 'cutsOnOff': 'off', 'heuristicsOnOff': 'off'}. Best is trial 27 with value: 0.21621417999267578.\n"
     ]
    }
   ],
   "source": [
    "study = optuna.create_study(sampler=optuna.samplers.TPESampler()) # this sampler works with all sorts of parameters\n",
    "\n",
    "study.optimize(performance_objective_single_instance, n_trials=50)"
   ]
  },
  {
   "cell_type": "code",
   "execution_count": 19,
   "metadata": {
    "slideshow": {
     "slide_type": "-"
    }
   },
   "outputs": [
    {
     "name": "stdout",
     "output_type": "stream",
     "text": [
      "Best configuration: {'nodeStrategy': 'depth', 'strongBranching': 4, 'trustPseudoCosts': 1, 'preprocess': 'off', 'presolve': 'off', 'cutsOnOff': 'off', 'heuristicsOnOff': 'off'}\n",
      "Best performance in seconds: 0.22\n"
     ]
    }
   ],
   "source": [
    "print(f\"Best configuration: {study.best_params}\")\n",
    "print(f\"Best performance in seconds: {study.best_value:0.2f}\")\n",
    "study_single_instance = study"
   ]
  },
  {
   "cell_type": "markdown",
   "metadata": {
    "slideshow": {
     "slide_type": "slide"
    }
   },
   "source": [
    "## Print more pretty as Data Frame"
   ]
  },
  {
   "cell_type": "code",
   "execution_count": 20,
   "metadata": {},
   "outputs": [
    {
     "data": {
      "text/html": [
       "<div>\n",
       "<style scoped>\n",
       "    .dataframe tbody tr th:only-of-type {\n",
       "        vertical-align: middle;\n",
       "    }\n",
       "\n",
       "    .dataframe tbody tr th {\n",
       "        vertical-align: top;\n",
       "    }\n",
       "\n",
       "    .dataframe thead th {\n",
       "        text-align: right;\n",
       "    }\n",
       "</style>\n",
       "<table border=\"1\" class=\"dataframe\">\n",
       "  <thead>\n",
       "    <tr style=\"text-align: right;\">\n",
       "      <th></th>\n",
       "      <th>nodeStrategy</th>\n",
       "      <th>strongBranching</th>\n",
       "      <th>trustPseudoCosts</th>\n",
       "      <th>preprocess</th>\n",
       "      <th>presolve</th>\n",
       "      <th>cutsOnOff</th>\n",
       "      <th>heuristicsOnOff</th>\n",
       "    </tr>\n",
       "  </thead>\n",
       "  <tbody>\n",
       "    <tr>\n",
       "      <th>0</th>\n",
       "      <td>depth</td>\n",
       "      <td>4</td>\n",
       "      <td>1</td>\n",
       "      <td>off</td>\n",
       "      <td>off</td>\n",
       "      <td>off</td>\n",
       "      <td>off</td>\n",
       "    </tr>\n",
       "  </tbody>\n",
       "</table>\n",
       "</div>"
      ],
      "text/plain": [
       "  nodeStrategy  strongBranching  trustPseudoCosts preprocess presolve  \\\n",
       "0        depth                4                 1        off      off   \n",
       "\n",
       "  cutsOnOff heuristicsOnOff  \n",
       "0       off             off  "
      ]
     },
     "execution_count": 20,
     "metadata": {},
     "output_type": "execute_result"
    }
   ],
   "source": [
    "pd.DataFrame({k: [v] for k, v in study.best_params.items()})"
   ]
  },
  {
   "cell_type": "markdown",
   "metadata": {
    "slideshow": {
     "slide_type": "slide"
    }
   },
   "source": [
    "## Showing all Evaluations\n",
    "\n",
    "- we can create a data frame with all evaluations:"
   ]
  },
  {
   "cell_type": "code",
   "execution_count": 21,
   "metadata": {
    "slideshow": {
     "slide_type": "-"
    }
   },
   "outputs": [
    {
     "data": {
      "text/html": [
       "<div>\n",
       "<style scoped>\n",
       "    .dataframe tbody tr th:only-of-type {\n",
       "        vertical-align: middle;\n",
       "    }\n",
       "\n",
       "    .dataframe tbody tr th {\n",
       "        vertical-align: top;\n",
       "    }\n",
       "\n",
       "    .dataframe thead th {\n",
       "        text-align: right;\n",
       "    }\n",
       "</style>\n",
       "<table border=\"1\" class=\"dataframe\">\n",
       "  <thead>\n",
       "    <tr style=\"text-align: right;\">\n",
       "      <th></th>\n",
       "      <th>number</th>\n",
       "      <th>value</th>\n",
       "      <th>datetime_start</th>\n",
       "      <th>datetime_complete</th>\n",
       "      <th>duration</th>\n",
       "      <th>params_cutsOnOff</th>\n",
       "      <th>params_heuristicsOnOff</th>\n",
       "      <th>params_nodeStrategy</th>\n",
       "      <th>params_preprocess</th>\n",
       "      <th>params_presolve</th>\n",
       "      <th>params_strongBranching</th>\n",
       "      <th>params_trustPseudoCosts</th>\n",
       "      <th>state</th>\n",
       "    </tr>\n",
       "  </thead>\n",
       "  <tbody>\n",
       "    <tr>\n",
       "      <th>0</th>\n",
       "      <td>0</td>\n",
       "      <td>1.481779</td>\n",
       "      <td>2025-07-15 10:10:27.338509</td>\n",
       "      <td>2025-07-15 10:10:28.835911</td>\n",
       "      <td>0 days 00:00:01.497402</td>\n",
       "      <td>on</td>\n",
       "      <td>off</td>\n",
       "      <td>hybrid</td>\n",
       "      <td>off</td>\n",
       "      <td>off</td>\n",
       "      <td>5</td>\n",
       "      <td>3</td>\n",
       "      <td>COMPLETE</td>\n",
       "    </tr>\n",
       "    <tr>\n",
       "      <th>1</th>\n",
       "      <td>1</td>\n",
       "      <td>1.574534</td>\n",
       "      <td>2025-07-15 10:10:28.835911</td>\n",
       "      <td>2025-07-15 10:10:30.420494</td>\n",
       "      <td>0 days 00:00:01.584583</td>\n",
       "      <td>on</td>\n",
       "      <td>on</td>\n",
       "      <td>fewest</td>\n",
       "      <td>off</td>\n",
       "      <td>on</td>\n",
       "      <td>1</td>\n",
       "      <td>1</td>\n",
       "      <td>COMPLETE</td>\n",
       "    </tr>\n",
       "    <tr>\n",
       "      <th>2</th>\n",
       "      <td>2</td>\n",
       "      <td>0.594430</td>\n",
       "      <td>2025-07-15 10:10:30.422536</td>\n",
       "      <td>2025-07-15 10:10:31.025027</td>\n",
       "      <td>0 days 00:00:00.602491</td>\n",
       "      <td>off</td>\n",
       "      <td>on</td>\n",
       "      <td>fewest</td>\n",
       "      <td>on</td>\n",
       "      <td>on</td>\n",
       "      <td>4</td>\n",
       "      <td>5</td>\n",
       "      <td>COMPLETE</td>\n",
       "    </tr>\n",
       "    <tr>\n",
       "      <th>3</th>\n",
       "      <td>3</td>\n",
       "      <td>1.328962</td>\n",
       "      <td>2025-07-15 10:10:31.025027</td>\n",
       "      <td>2025-07-15 10:10:32.363994</td>\n",
       "      <td>0 days 00:00:01.338967</td>\n",
       "      <td>on</td>\n",
       "      <td>off</td>\n",
       "      <td>hybrid</td>\n",
       "      <td>off</td>\n",
       "      <td>on</td>\n",
       "      <td>1</td>\n",
       "      <td>9</td>\n",
       "      <td>COMPLETE</td>\n",
       "    </tr>\n",
       "    <tr>\n",
       "      <th>4</th>\n",
       "      <td>4</td>\n",
       "      <td>1.178860</td>\n",
       "      <td>2025-07-15 10:10:32.363994</td>\n",
       "      <td>2025-07-15 10:10:33.558475</td>\n",
       "      <td>0 days 00:00:01.194481</td>\n",
       "      <td>on</td>\n",
       "      <td>off</td>\n",
       "      <td>depth</td>\n",
       "      <td>off</td>\n",
       "      <td>on</td>\n",
       "      <td>0</td>\n",
       "      <td>1</td>\n",
       "      <td>COMPLETE</td>\n",
       "    </tr>\n",
       "    <tr>\n",
       "      <th>5</th>\n",
       "      <td>5</td>\n",
       "      <td>0.284957</td>\n",
       "      <td>2025-07-15 10:10:33.558475</td>\n",
       "      <td>2025-07-15 10:10:33.859054</td>\n",
       "      <td>0 days 00:00:00.300579</td>\n",
       "      <td>off</td>\n",
       "      <td>off</td>\n",
       "      <td>hybrid</td>\n",
       "      <td>off</td>\n",
       "      <td>on</td>\n",
       "      <td>1</td>\n",
       "      <td>7</td>\n",
       "      <td>COMPLETE</td>\n",
       "    </tr>\n",
       "    <tr>\n",
       "      <th>6</th>\n",
       "      <td>6</td>\n",
       "      <td>1.313071</td>\n",
       "      <td>2025-07-15 10:10:33.859054</td>\n",
       "      <td>2025-07-15 10:10:35.187749</td>\n",
       "      <td>0 days 00:00:01.328695</td>\n",
       "      <td>on</td>\n",
       "      <td>off</td>\n",
       "      <td>hybrid</td>\n",
       "      <td>on</td>\n",
       "      <td>on</td>\n",
       "      <td>9</td>\n",
       "      <td>8</td>\n",
       "      <td>COMPLETE</td>\n",
       "    </tr>\n",
       "    <tr>\n",
       "      <th>7</th>\n",
       "      <td>7</td>\n",
       "      <td>1.228616</td>\n",
       "      <td>2025-07-15 10:10:35.187749</td>\n",
       "      <td>2025-07-15 10:10:36.431987</td>\n",
       "      <td>0 days 00:00:01.244238</td>\n",
       "      <td>on</td>\n",
       "      <td>off</td>\n",
       "      <td>hybrid</td>\n",
       "      <td>off</td>\n",
       "      <td>off</td>\n",
       "      <td>1</td>\n",
       "      <td>4</td>\n",
       "      <td>COMPLETE</td>\n",
       "    </tr>\n",
       "    <tr>\n",
       "      <th>8</th>\n",
       "      <td>8</td>\n",
       "      <td>2.107815</td>\n",
       "      <td>2025-07-15 10:10:36.431987</td>\n",
       "      <td>2025-07-15 10:10:38.561437</td>\n",
       "      <td>0 days 00:00:02.129450</td>\n",
       "      <td>on</td>\n",
       "      <td>on</td>\n",
       "      <td>depth</td>\n",
       "      <td>off</td>\n",
       "      <td>on</td>\n",
       "      <td>1</td>\n",
       "      <td>2</td>\n",
       "      <td>COMPLETE</td>\n",
       "    </tr>\n",
       "    <tr>\n",
       "      <th>9</th>\n",
       "      <td>9</td>\n",
       "      <td>1.267193</td>\n",
       "      <td>2025-07-15 10:10:38.562434</td>\n",
       "      <td>2025-07-15 10:10:39.843590</td>\n",
       "      <td>0 days 00:00:01.281156</td>\n",
       "      <td>on</td>\n",
       "      <td>off</td>\n",
       "      <td>fewest</td>\n",
       "      <td>on</td>\n",
       "      <td>on</td>\n",
       "      <td>3</td>\n",
       "      <td>6</td>\n",
       "      <td>COMPLETE</td>\n",
       "    </tr>\n",
       "    <tr>\n",
       "      <th>10</th>\n",
       "      <td>10</td>\n",
       "      <td>0.694721</td>\n",
       "      <td>2025-07-15 10:10:39.843590</td>\n",
       "      <td>2025-07-15 10:10:40.569527</td>\n",
       "      <td>0 days 00:00:00.725937</td>\n",
       "      <td>off</td>\n",
       "      <td>on</td>\n",
       "      <td>hybrid</td>\n",
       "      <td>on</td>\n",
       "      <td>off</td>\n",
       "      <td>8</td>\n",
       "      <td>7</td>\n",
       "      <td>COMPLETE</td>\n",
       "    </tr>\n",
       "    <tr>\n",
       "      <th>11</th>\n",
       "      <td>11</td>\n",
       "      <td>0.601260</td>\n",
       "      <td>2025-07-15 10:10:40.569527</td>\n",
       "      <td>2025-07-15 10:10:41.203000</td>\n",
       "      <td>0 days 00:00:00.633473</td>\n",
       "      <td>off</td>\n",
       "      <td>on</td>\n",
       "      <td>fewest</td>\n",
       "      <td>on</td>\n",
       "      <td>on</td>\n",
       "      <td>4</td>\n",
       "      <td>10</td>\n",
       "      <td>COMPLETE</td>\n",
       "    </tr>\n",
       "    <tr>\n",
       "      <th>12</th>\n",
       "      <td>12</td>\n",
       "      <td>0.651762</td>\n",
       "      <td>2025-07-15 10:10:41.203997</td>\n",
       "      <td>2025-07-15 10:10:41.879220</td>\n",
       "      <td>0 days 00:00:00.675223</td>\n",
       "      <td>off</td>\n",
       "      <td>on</td>\n",
       "      <td>fewest</td>\n",
       "      <td>on</td>\n",
       "      <td>on</td>\n",
       "      <td>7</td>\n",
       "      <td>5</td>\n",
       "      <td>COMPLETE</td>\n",
       "    </tr>\n",
       "    <tr>\n",
       "      <th>13</th>\n",
       "      <td>13</td>\n",
       "      <td>0.722282</td>\n",
       "      <td>2025-07-15 10:10:41.879220</td>\n",
       "      <td>2025-07-15 10:10:42.632324</td>\n",
       "      <td>0 days 00:00:00.753104</td>\n",
       "      <td>off</td>\n",
       "      <td>on</td>\n",
       "      <td>fewest</td>\n",
       "      <td>on</td>\n",
       "      <td>on</td>\n",
       "      <td>3</td>\n",
       "      <td>6</td>\n",
       "      <td>COMPLETE</td>\n",
       "    </tr>\n",
       "    <tr>\n",
       "      <th>14</th>\n",
       "      <td>14</td>\n",
       "      <td>0.347987</td>\n",
       "      <td>2025-07-15 10:10:42.632324</td>\n",
       "      <td>2025-07-15 10:10:43.000454</td>\n",
       "      <td>0 days 00:00:00.368130</td>\n",
       "      <td>off</td>\n",
       "      <td>off</td>\n",
       "      <td>depth</td>\n",
       "      <td>off</td>\n",
       "      <td>off</td>\n",
       "      <td>6</td>\n",
       "      <td>4</td>\n",
       "      <td>COMPLETE</td>\n",
       "    </tr>\n",
       "    <tr>\n",
       "      <th>15</th>\n",
       "      <td>15</td>\n",
       "      <td>0.378432</td>\n",
       "      <td>2025-07-15 10:10:43.000454</td>\n",
       "      <td>2025-07-15 10:10:43.390927</td>\n",
       "      <td>0 days 00:00:00.390473</td>\n",
       "      <td>off</td>\n",
       "      <td>off</td>\n",
       "      <td>depth</td>\n",
       "      <td>off</td>\n",
       "      <td>off</td>\n",
       "      <td>7</td>\n",
       "      <td>3</td>\n",
       "      <td>COMPLETE</td>\n",
       "    </tr>\n",
       "    <tr>\n",
       "      <th>16</th>\n",
       "      <td>16</td>\n",
       "      <td>0.390635</td>\n",
       "      <td>2025-07-15 10:10:43.390927</td>\n",
       "      <td>2025-07-15 10:10:43.805327</td>\n",
       "      <td>0 days 00:00:00.414400</td>\n",
       "      <td>off</td>\n",
       "      <td>off</td>\n",
       "      <td>depth</td>\n",
       "      <td>off</td>\n",
       "      <td>off</td>\n",
       "      <td>10</td>\n",
       "      <td>7</td>\n",
       "      <td>COMPLETE</td>\n",
       "    </tr>\n",
       "    <tr>\n",
       "      <th>17</th>\n",
       "      <td>17</td>\n",
       "      <td>0.249519</td>\n",
       "      <td>2025-07-15 10:10:43.805327</td>\n",
       "      <td>2025-07-15 10:10:44.070469</td>\n",
       "      <td>0 days 00:00:00.265142</td>\n",
       "      <td>off</td>\n",
       "      <td>off</td>\n",
       "      <td>depth</td>\n",
       "      <td>off</td>\n",
       "      <td>off</td>\n",
       "      <td>6</td>\n",
       "      <td>0</td>\n",
       "      <td>COMPLETE</td>\n",
       "    </tr>\n",
       "    <tr>\n",
       "      <th>18</th>\n",
       "      <td>18</td>\n",
       "      <td>0.273656</td>\n",
       "      <td>2025-07-15 10:10:44.086093</td>\n",
       "      <td>2025-07-15 10:10:44.375369</td>\n",
       "      <td>0 days 00:00:00.289276</td>\n",
       "      <td>off</td>\n",
       "      <td>off</td>\n",
       "      <td>hybrid</td>\n",
       "      <td>off</td>\n",
       "      <td>off</td>\n",
       "      <td>6</td>\n",
       "      <td>0</td>\n",
       "      <td>COMPLETE</td>\n",
       "    </tr>\n",
       "    <tr>\n",
       "      <th>19</th>\n",
       "      <td>19</td>\n",
       "      <td>0.261683</td>\n",
       "      <td>2025-07-15 10:10:44.376366</td>\n",
       "      <td>2025-07-15 10:10:44.660209</td>\n",
       "      <td>0 days 00:00:00.283843</td>\n",
       "      <td>off</td>\n",
       "      <td>off</td>\n",
       "      <td>depth</td>\n",
       "      <td>off</td>\n",
       "      <td>off</td>\n",
       "      <td>6</td>\n",
       "      <td>0</td>\n",
       "      <td>COMPLETE</td>\n",
       "    </tr>\n",
       "    <tr>\n",
       "      <th>20</th>\n",
       "      <td>20</td>\n",
       "      <td>0.377136</td>\n",
       "      <td>2025-07-15 10:10:44.660209</td>\n",
       "      <td>2025-07-15 10:10:45.060664</td>\n",
       "      <td>0 days 00:00:00.400455</td>\n",
       "      <td>off</td>\n",
       "      <td>off</td>\n",
       "      <td>depth</td>\n",
       "      <td>off</td>\n",
       "      <td>off</td>\n",
       "      <td>8</td>\n",
       "      <td>0</td>\n",
       "      <td>COMPLETE</td>\n",
       "    </tr>\n",
       "    <tr>\n",
       "      <th>21</th>\n",
       "      <td>21</td>\n",
       "      <td>0.281233</td>\n",
       "      <td>2025-07-15 10:10:45.061661</td>\n",
       "      <td>2025-07-15 10:10:45.352015</td>\n",
       "      <td>0 days 00:00:00.290354</td>\n",
       "      <td>off</td>\n",
       "      <td>off</td>\n",
       "      <td>depth</td>\n",
       "      <td>off</td>\n",
       "      <td>off</td>\n",
       "      <td>6</td>\n",
       "      <td>0</td>\n",
       "      <td>COMPLETE</td>\n",
       "    </tr>\n",
       "    <tr>\n",
       "      <th>22</th>\n",
       "      <td>22</td>\n",
       "      <td>0.232342</td>\n",
       "      <td>2025-07-15 10:10:45.353013</td>\n",
       "      <td>2025-07-15 10:10:45.606463</td>\n",
       "      <td>0 days 00:00:00.253450</td>\n",
       "      <td>off</td>\n",
       "      <td>off</td>\n",
       "      <td>depth</td>\n",
       "      <td>off</td>\n",
       "      <td>off</td>\n",
       "      <td>6</td>\n",
       "      <td>1</td>\n",
       "      <td>COMPLETE</td>\n",
       "    </tr>\n",
       "    <tr>\n",
       "      <th>23</th>\n",
       "      <td>23</td>\n",
       "      <td>0.219121</td>\n",
       "      <td>2025-07-15 10:10:45.607545</td>\n",
       "      <td>2025-07-15 10:10:45.847490</td>\n",
       "      <td>0 days 00:00:00.239945</td>\n",
       "      <td>off</td>\n",
       "      <td>off</td>\n",
       "      <td>depth</td>\n",
       "      <td>off</td>\n",
       "      <td>off</td>\n",
       "      <td>5</td>\n",
       "      <td>1</td>\n",
       "      <td>COMPLETE</td>\n",
       "    </tr>\n",
       "    <tr>\n",
       "      <th>24</th>\n",
       "      <td>24</td>\n",
       "      <td>0.296783</td>\n",
       "      <td>2025-07-15 10:10:45.847490</td>\n",
       "      <td>2025-07-15 10:10:46.159898</td>\n",
       "      <td>0 days 00:00:00.312408</td>\n",
       "      <td>off</td>\n",
       "      <td>off</td>\n",
       "      <td>depth</td>\n",
       "      <td>off</td>\n",
       "      <td>off</td>\n",
       "      <td>5</td>\n",
       "      <td>2</td>\n",
       "      <td>COMPLETE</td>\n",
       "    </tr>\n",
       "    <tr>\n",
       "      <th>25</th>\n",
       "      <td>25</td>\n",
       "      <td>0.226207</td>\n",
       "      <td>2025-07-15 10:10:46.160895</td>\n",
       "      <td>2025-07-15 10:10:46.410890</td>\n",
       "      <td>0 days 00:00:00.249995</td>\n",
       "      <td>off</td>\n",
       "      <td>off</td>\n",
       "      <td>depth</td>\n",
       "      <td>off</td>\n",
       "      <td>off</td>\n",
       "      <td>4</td>\n",
       "      <td>1</td>\n",
       "      <td>COMPLETE</td>\n",
       "    </tr>\n",
       "    <tr>\n",
       "      <th>26</th>\n",
       "      <td>26</td>\n",
       "      <td>0.311169</td>\n",
       "      <td>2025-07-15 10:10:46.410890</td>\n",
       "      <td>2025-07-15 10:10:46.748871</td>\n",
       "      <td>0 days 00:00:00.337981</td>\n",
       "      <td>off</td>\n",
       "      <td>off</td>\n",
       "      <td>depth</td>\n",
       "      <td>off</td>\n",
       "      <td>off</td>\n",
       "      <td>3</td>\n",
       "      <td>2</td>\n",
       "      <td>COMPLETE</td>\n",
       "    </tr>\n",
       "    <tr>\n",
       "      <th>27</th>\n",
       "      <td>27</td>\n",
       "      <td>0.216214</td>\n",
       "      <td>2025-07-15 10:10:46.748871</td>\n",
       "      <td>2025-07-15 10:10:46.980739</td>\n",
       "      <td>0 days 00:00:00.231868</td>\n",
       "      <td>off</td>\n",
       "      <td>off</td>\n",
       "      <td>depth</td>\n",
       "      <td>off</td>\n",
       "      <td>off</td>\n",
       "      <td>4</td>\n",
       "      <td>1</td>\n",
       "      <td>COMPLETE</td>\n",
       "    </tr>\n",
       "    <tr>\n",
       "      <th>28</th>\n",
       "      <td>28</td>\n",
       "      <td>0.406500</td>\n",
       "      <td>2025-07-15 10:10:46.980739</td>\n",
       "      <td>2025-07-15 10:10:47.402831</td>\n",
       "      <td>0 days 00:00:00.422092</td>\n",
       "      <td>off</td>\n",
       "      <td>off</td>\n",
       "      <td>depth</td>\n",
       "      <td>off</td>\n",
       "      <td>off</td>\n",
       "      <td>4</td>\n",
       "      <td>3</td>\n",
       "      <td>COMPLETE</td>\n",
       "    </tr>\n",
       "    <tr>\n",
       "      <th>29</th>\n",
       "      <td>29</td>\n",
       "      <td>0.295258</td>\n",
       "      <td>2025-07-15 10:10:47.402831</td>\n",
       "      <td>2025-07-15 10:10:47.713710</td>\n",
       "      <td>0 days 00:00:00.310879</td>\n",
       "      <td>off</td>\n",
       "      <td>off</td>\n",
       "      <td>depth</td>\n",
       "      <td>off</td>\n",
       "      <td>off</td>\n",
       "      <td>2</td>\n",
       "      <td>2</td>\n",
       "      <td>COMPLETE</td>\n",
       "    </tr>\n",
       "    <tr>\n",
       "      <th>30</th>\n",
       "      <td>30</td>\n",
       "      <td>0.218545</td>\n",
       "      <td>2025-07-15 10:10:47.713710</td>\n",
       "      <td>2025-07-15 10:10:47.967121</td>\n",
       "      <td>0 days 00:00:00.253411</td>\n",
       "      <td>off</td>\n",
       "      <td>off</td>\n",
       "      <td>depth</td>\n",
       "      <td>off</td>\n",
       "      <td>off</td>\n",
       "      <td>5</td>\n",
       "      <td>1</td>\n",
       "      <td>COMPLETE</td>\n",
       "    </tr>\n",
       "    <tr>\n",
       "      <th>31</th>\n",
       "      <td>31</td>\n",
       "      <td>0.231838</td>\n",
       "      <td>2025-07-15 10:10:47.967121</td>\n",
       "      <td>2025-07-15 10:10:48.214555</td>\n",
       "      <td>0 days 00:00:00.247434</td>\n",
       "      <td>off</td>\n",
       "      <td>off</td>\n",
       "      <td>depth</td>\n",
       "      <td>off</td>\n",
       "      <td>off</td>\n",
       "      <td>5</td>\n",
       "      <td>1</td>\n",
       "      <td>COMPLETE</td>\n",
       "    </tr>\n",
       "    <tr>\n",
       "      <th>32</th>\n",
       "      <td>32</td>\n",
       "      <td>0.227628</td>\n",
       "      <td>2025-07-15 10:10:48.214555</td>\n",
       "      <td>2025-07-15 10:10:48.457778</td>\n",
       "      <td>0 days 00:00:00.243223</td>\n",
       "      <td>off</td>\n",
       "      <td>off</td>\n",
       "      <td>depth</td>\n",
       "      <td>off</td>\n",
       "      <td>off</td>\n",
       "      <td>4</td>\n",
       "      <td>1</td>\n",
       "      <td>COMPLETE</td>\n",
       "    </tr>\n",
       "    <tr>\n",
       "      <th>33</th>\n",
       "      <td>33</td>\n",
       "      <td>0.371894</td>\n",
       "      <td>2025-07-15 10:10:48.458804</td>\n",
       "      <td>2025-07-15 10:10:48.853228</td>\n",
       "      <td>0 days 00:00:00.394424</td>\n",
       "      <td>off</td>\n",
       "      <td>off</td>\n",
       "      <td>depth</td>\n",
       "      <td>off</td>\n",
       "      <td>off</td>\n",
       "      <td>4</td>\n",
       "      <td>3</td>\n",
       "      <td>COMPLETE</td>\n",
       "    </tr>\n",
       "    <tr>\n",
       "      <th>34</th>\n",
       "      <td>34</td>\n",
       "      <td>0.300911</td>\n",
       "      <td>2025-07-15 10:10:48.853228</td>\n",
       "      <td>2025-07-15 10:10:49.185385</td>\n",
       "      <td>0 days 00:00:00.332157</td>\n",
       "      <td>off</td>\n",
       "      <td>off</td>\n",
       "      <td>depth</td>\n",
       "      <td>off</td>\n",
       "      <td>off</td>\n",
       "      <td>3</td>\n",
       "      <td>2</td>\n",
       "      <td>COMPLETE</td>\n",
       "    </tr>\n",
       "    <tr>\n",
       "      <th>35</th>\n",
       "      <td>35</td>\n",
       "      <td>0.219332</td>\n",
       "      <td>2025-07-15 10:10:49.185385</td>\n",
       "      <td>2025-07-15 10:10:49.435961</td>\n",
       "      <td>0 days 00:00:00.250576</td>\n",
       "      <td>off</td>\n",
       "      <td>off</td>\n",
       "      <td>depth</td>\n",
       "      <td>off</td>\n",
       "      <td>off</td>\n",
       "      <td>5</td>\n",
       "      <td>1</td>\n",
       "      <td>COMPLETE</td>\n",
       "    </tr>\n",
       "    <tr>\n",
       "      <th>36</th>\n",
       "      <td>36</td>\n",
       "      <td>0.277426</td>\n",
       "      <td>2025-07-15 10:10:49.435961</td>\n",
       "      <td>2025-07-15 10:10:49.755127</td>\n",
       "      <td>0 days 00:00:00.319166</td>\n",
       "      <td>off</td>\n",
       "      <td>off</td>\n",
       "      <td>depth</td>\n",
       "      <td>off</td>\n",
       "      <td>off</td>\n",
       "      <td>5</td>\n",
       "      <td>2</td>\n",
       "      <td>COMPLETE</td>\n",
       "    </tr>\n",
       "    <tr>\n",
       "      <th>37</th>\n",
       "      <td>37</td>\n",
       "      <td>1.237409</td>\n",
       "      <td>2025-07-15 10:10:49.755127</td>\n",
       "      <td>2025-07-15 10:10:51.008159</td>\n",
       "      <td>0 days 00:00:01.253032</td>\n",
       "      <td>on</td>\n",
       "      <td>off</td>\n",
       "      <td>depth</td>\n",
       "      <td>off</td>\n",
       "      <td>off</td>\n",
       "      <td>5</td>\n",
       "      <td>4</td>\n",
       "      <td>COMPLETE</td>\n",
       "    </tr>\n",
       "    <tr>\n",
       "      <th>38</th>\n",
       "      <td>38</td>\n",
       "      <td>0.612340</td>\n",
       "      <td>2025-07-15 10:10:51.008159</td>\n",
       "      <td>2025-07-15 10:10:51.651742</td>\n",
       "      <td>0 days 00:00:00.643583</td>\n",
       "      <td>off</td>\n",
       "      <td>on</td>\n",
       "      <td>depth</td>\n",
       "      <td>off</td>\n",
       "      <td>off</td>\n",
       "      <td>7</td>\n",
       "      <td>3</td>\n",
       "      <td>COMPLETE</td>\n",
       "    </tr>\n",
       "    <tr>\n",
       "      <th>39</th>\n",
       "      <td>39</td>\n",
       "      <td>1.238518</td>\n",
       "      <td>2025-07-15 10:10:51.651742</td>\n",
       "      <td>2025-07-15 10:10:52.918357</td>\n",
       "      <td>0 days 00:00:01.266615</td>\n",
       "      <td>on</td>\n",
       "      <td>off</td>\n",
       "      <td>fewest</td>\n",
       "      <td>off</td>\n",
       "      <td>off</td>\n",
       "      <td>2</td>\n",
       "      <td>1</td>\n",
       "      <td>COMPLETE</td>\n",
       "    </tr>\n",
       "    <tr>\n",
       "      <th>40</th>\n",
       "      <td>40</td>\n",
       "      <td>0.315940</td>\n",
       "      <td>2025-07-15 10:10:52.918357</td>\n",
       "      <td>2025-07-15 10:10:53.265540</td>\n",
       "      <td>0 days 00:00:00.347183</td>\n",
       "      <td>off</td>\n",
       "      <td>off</td>\n",
       "      <td>hybrid</td>\n",
       "      <td>on</td>\n",
       "      <td>off</td>\n",
       "      <td>2</td>\n",
       "      <td>1</td>\n",
       "      <td>COMPLETE</td>\n",
       "    </tr>\n",
       "    <tr>\n",
       "      <th>41</th>\n",
       "      <td>41</td>\n",
       "      <td>0.251782</td>\n",
       "      <td>2025-07-15 10:10:53.265540</td>\n",
       "      <td>2025-07-15 10:10:53.555070</td>\n",
       "      <td>0 days 00:00:00.289530</td>\n",
       "      <td>off</td>\n",
       "      <td>off</td>\n",
       "      <td>depth</td>\n",
       "      <td>off</td>\n",
       "      <td>off</td>\n",
       "      <td>4</td>\n",
       "      <td>1</td>\n",
       "      <td>COMPLETE</td>\n",
       "    </tr>\n",
       "    <tr>\n",
       "      <th>42</th>\n",
       "      <td>42</td>\n",
       "      <td>0.237868</td>\n",
       "      <td>2025-07-15 10:10:53.556068</td>\n",
       "      <td>2025-07-15 10:10:53.820523</td>\n",
       "      <td>0 days 00:00:00.264455</td>\n",
       "      <td>off</td>\n",
       "      <td>off</td>\n",
       "      <td>depth</td>\n",
       "      <td>off</td>\n",
       "      <td>off</td>\n",
       "      <td>5</td>\n",
       "      <td>0</td>\n",
       "      <td>COMPLETE</td>\n",
       "    </tr>\n",
       "    <tr>\n",
       "      <th>43</th>\n",
       "      <td>43</td>\n",
       "      <td>0.232808</td>\n",
       "      <td>2025-07-15 10:10:53.820523</td>\n",
       "      <td>2025-07-15 10:10:54.084569</td>\n",
       "      <td>0 days 00:00:00.264046</td>\n",
       "      <td>off</td>\n",
       "      <td>off</td>\n",
       "      <td>depth</td>\n",
       "      <td>off</td>\n",
       "      <td>off</td>\n",
       "      <td>5</td>\n",
       "      <td>1</td>\n",
       "      <td>COMPLETE</td>\n",
       "    </tr>\n",
       "    <tr>\n",
       "      <th>44</th>\n",
       "      <td>44</td>\n",
       "      <td>1.206351</td>\n",
       "      <td>2025-07-15 10:10:54.084569</td>\n",
       "      <td>2025-07-15 10:10:55.322187</td>\n",
       "      <td>0 days 00:00:01.237618</td>\n",
       "      <td>on</td>\n",
       "      <td>off</td>\n",
       "      <td>depth</td>\n",
       "      <td>off</td>\n",
       "      <td>off</td>\n",
       "      <td>4</td>\n",
       "      <td>2</td>\n",
       "      <td>COMPLETE</td>\n",
       "    </tr>\n",
       "    <tr>\n",
       "      <th>45</th>\n",
       "      <td>45</td>\n",
       "      <td>0.672925</td>\n",
       "      <td>2025-07-15 10:10:55.322187</td>\n",
       "      <td>2025-07-15 10:10:56.010739</td>\n",
       "      <td>0 days 00:00:00.688552</td>\n",
       "      <td>off</td>\n",
       "      <td>on</td>\n",
       "      <td>depth</td>\n",
       "      <td>off</td>\n",
       "      <td>off</td>\n",
       "      <td>3</td>\n",
       "      <td>3</td>\n",
       "      <td>COMPLETE</td>\n",
       "    </tr>\n",
       "    <tr>\n",
       "      <th>46</th>\n",
       "      <td>46</td>\n",
       "      <td>0.285794</td>\n",
       "      <td>2025-07-15 10:10:56.011736</td>\n",
       "      <td>2025-07-15 10:10:56.321487</td>\n",
       "      <td>0 days 00:00:00.309751</td>\n",
       "      <td>off</td>\n",
       "      <td>off</td>\n",
       "      <td>hybrid</td>\n",
       "      <td>on</td>\n",
       "      <td>on</td>\n",
       "      <td>5</td>\n",
       "      <td>0</td>\n",
       "      <td>COMPLETE</td>\n",
       "    </tr>\n",
       "    <tr>\n",
       "      <th>47</th>\n",
       "      <td>47</td>\n",
       "      <td>0.222520</td>\n",
       "      <td>2025-07-15 10:10:56.322486</td>\n",
       "      <td>2025-07-15 10:10:56.568541</td>\n",
       "      <td>0 days 00:00:00.246055</td>\n",
       "      <td>off</td>\n",
       "      <td>off</td>\n",
       "      <td>fewest</td>\n",
       "      <td>off</td>\n",
       "      <td>off</td>\n",
       "      <td>4</td>\n",
       "      <td>1</td>\n",
       "      <td>COMPLETE</td>\n",
       "    </tr>\n",
       "    <tr>\n",
       "      <th>48</th>\n",
       "      <td>48</td>\n",
       "      <td>1.799346</td>\n",
       "      <td>2025-07-15 10:10:56.569506</td>\n",
       "      <td>2025-07-15 10:10:58.391822</td>\n",
       "      <td>0 days 00:00:01.822316</td>\n",
       "      <td>on</td>\n",
       "      <td>on</td>\n",
       "      <td>fewest</td>\n",
       "      <td>off</td>\n",
       "      <td>on</td>\n",
       "      <td>3</td>\n",
       "      <td>2</td>\n",
       "      <td>COMPLETE</td>\n",
       "    </tr>\n",
       "    <tr>\n",
       "      <th>49</th>\n",
       "      <td>49</td>\n",
       "      <td>0.476258</td>\n",
       "      <td>2025-07-15 10:10:58.391822</td>\n",
       "      <td>2025-07-15 10:10:58.899351</td>\n",
       "      <td>0 days 00:00:00.507529</td>\n",
       "      <td>off</td>\n",
       "      <td>off</td>\n",
       "      <td>fewest</td>\n",
       "      <td>on</td>\n",
       "      <td>off</td>\n",
       "      <td>7</td>\n",
       "      <td>10</td>\n",
       "      <td>COMPLETE</td>\n",
       "    </tr>\n",
       "  </tbody>\n",
       "</table>\n",
       "</div>"
      ],
      "text/plain": [
       "    number     value             datetime_start          datetime_complete  \\\n",
       "0        0  1.481779 2025-07-15 10:10:27.338509 2025-07-15 10:10:28.835911   \n",
       "1        1  1.574534 2025-07-15 10:10:28.835911 2025-07-15 10:10:30.420494   \n",
       "2        2  0.594430 2025-07-15 10:10:30.422536 2025-07-15 10:10:31.025027   \n",
       "3        3  1.328962 2025-07-15 10:10:31.025027 2025-07-15 10:10:32.363994   \n",
       "4        4  1.178860 2025-07-15 10:10:32.363994 2025-07-15 10:10:33.558475   \n",
       "5        5  0.284957 2025-07-15 10:10:33.558475 2025-07-15 10:10:33.859054   \n",
       "6        6  1.313071 2025-07-15 10:10:33.859054 2025-07-15 10:10:35.187749   \n",
       "7        7  1.228616 2025-07-15 10:10:35.187749 2025-07-15 10:10:36.431987   \n",
       "8        8  2.107815 2025-07-15 10:10:36.431987 2025-07-15 10:10:38.561437   \n",
       "9        9  1.267193 2025-07-15 10:10:38.562434 2025-07-15 10:10:39.843590   \n",
       "10      10  0.694721 2025-07-15 10:10:39.843590 2025-07-15 10:10:40.569527   \n",
       "11      11  0.601260 2025-07-15 10:10:40.569527 2025-07-15 10:10:41.203000   \n",
       "12      12  0.651762 2025-07-15 10:10:41.203997 2025-07-15 10:10:41.879220   \n",
       "13      13  0.722282 2025-07-15 10:10:41.879220 2025-07-15 10:10:42.632324   \n",
       "14      14  0.347987 2025-07-15 10:10:42.632324 2025-07-15 10:10:43.000454   \n",
       "15      15  0.378432 2025-07-15 10:10:43.000454 2025-07-15 10:10:43.390927   \n",
       "16      16  0.390635 2025-07-15 10:10:43.390927 2025-07-15 10:10:43.805327   \n",
       "17      17  0.249519 2025-07-15 10:10:43.805327 2025-07-15 10:10:44.070469   \n",
       "18      18  0.273656 2025-07-15 10:10:44.086093 2025-07-15 10:10:44.375369   \n",
       "19      19  0.261683 2025-07-15 10:10:44.376366 2025-07-15 10:10:44.660209   \n",
       "20      20  0.377136 2025-07-15 10:10:44.660209 2025-07-15 10:10:45.060664   \n",
       "21      21  0.281233 2025-07-15 10:10:45.061661 2025-07-15 10:10:45.352015   \n",
       "22      22  0.232342 2025-07-15 10:10:45.353013 2025-07-15 10:10:45.606463   \n",
       "23      23  0.219121 2025-07-15 10:10:45.607545 2025-07-15 10:10:45.847490   \n",
       "24      24  0.296783 2025-07-15 10:10:45.847490 2025-07-15 10:10:46.159898   \n",
       "25      25  0.226207 2025-07-15 10:10:46.160895 2025-07-15 10:10:46.410890   \n",
       "26      26  0.311169 2025-07-15 10:10:46.410890 2025-07-15 10:10:46.748871   \n",
       "27      27  0.216214 2025-07-15 10:10:46.748871 2025-07-15 10:10:46.980739   \n",
       "28      28  0.406500 2025-07-15 10:10:46.980739 2025-07-15 10:10:47.402831   \n",
       "29      29  0.295258 2025-07-15 10:10:47.402831 2025-07-15 10:10:47.713710   \n",
       "30      30  0.218545 2025-07-15 10:10:47.713710 2025-07-15 10:10:47.967121   \n",
       "31      31  0.231838 2025-07-15 10:10:47.967121 2025-07-15 10:10:48.214555   \n",
       "32      32  0.227628 2025-07-15 10:10:48.214555 2025-07-15 10:10:48.457778   \n",
       "33      33  0.371894 2025-07-15 10:10:48.458804 2025-07-15 10:10:48.853228   \n",
       "34      34  0.300911 2025-07-15 10:10:48.853228 2025-07-15 10:10:49.185385   \n",
       "35      35  0.219332 2025-07-15 10:10:49.185385 2025-07-15 10:10:49.435961   \n",
       "36      36  0.277426 2025-07-15 10:10:49.435961 2025-07-15 10:10:49.755127   \n",
       "37      37  1.237409 2025-07-15 10:10:49.755127 2025-07-15 10:10:51.008159   \n",
       "38      38  0.612340 2025-07-15 10:10:51.008159 2025-07-15 10:10:51.651742   \n",
       "39      39  1.238518 2025-07-15 10:10:51.651742 2025-07-15 10:10:52.918357   \n",
       "40      40  0.315940 2025-07-15 10:10:52.918357 2025-07-15 10:10:53.265540   \n",
       "41      41  0.251782 2025-07-15 10:10:53.265540 2025-07-15 10:10:53.555070   \n",
       "42      42  0.237868 2025-07-15 10:10:53.556068 2025-07-15 10:10:53.820523   \n",
       "43      43  0.232808 2025-07-15 10:10:53.820523 2025-07-15 10:10:54.084569   \n",
       "44      44  1.206351 2025-07-15 10:10:54.084569 2025-07-15 10:10:55.322187   \n",
       "45      45  0.672925 2025-07-15 10:10:55.322187 2025-07-15 10:10:56.010739   \n",
       "46      46  0.285794 2025-07-15 10:10:56.011736 2025-07-15 10:10:56.321487   \n",
       "47      47  0.222520 2025-07-15 10:10:56.322486 2025-07-15 10:10:56.568541   \n",
       "48      48  1.799346 2025-07-15 10:10:56.569506 2025-07-15 10:10:58.391822   \n",
       "49      49  0.476258 2025-07-15 10:10:58.391822 2025-07-15 10:10:58.899351   \n",
       "\n",
       "                 duration params_cutsOnOff params_heuristicsOnOff  \\\n",
       "0  0 days 00:00:01.497402               on                    off   \n",
       "1  0 days 00:00:01.584583               on                     on   \n",
       "2  0 days 00:00:00.602491              off                     on   \n",
       "3  0 days 00:00:01.338967               on                    off   \n",
       "4  0 days 00:00:01.194481               on                    off   \n",
       "5  0 days 00:00:00.300579              off                    off   \n",
       "6  0 days 00:00:01.328695               on                    off   \n",
       "7  0 days 00:00:01.244238               on                    off   \n",
       "8  0 days 00:00:02.129450               on                     on   \n",
       "9  0 days 00:00:01.281156               on                    off   \n",
       "10 0 days 00:00:00.725937              off                     on   \n",
       "11 0 days 00:00:00.633473              off                     on   \n",
       "12 0 days 00:00:00.675223              off                     on   \n",
       "13 0 days 00:00:00.753104              off                     on   \n",
       "14 0 days 00:00:00.368130              off                    off   \n",
       "15 0 days 00:00:00.390473              off                    off   \n",
       "16 0 days 00:00:00.414400              off                    off   \n",
       "17 0 days 00:00:00.265142              off                    off   \n",
       "18 0 days 00:00:00.289276              off                    off   \n",
       "19 0 days 00:00:00.283843              off                    off   \n",
       "20 0 days 00:00:00.400455              off                    off   \n",
       "21 0 days 00:00:00.290354              off                    off   \n",
       "22 0 days 00:00:00.253450              off                    off   \n",
       "23 0 days 00:00:00.239945              off                    off   \n",
       "24 0 days 00:00:00.312408              off                    off   \n",
       "25 0 days 00:00:00.249995              off                    off   \n",
       "26 0 days 00:00:00.337981              off                    off   \n",
       "27 0 days 00:00:00.231868              off                    off   \n",
       "28 0 days 00:00:00.422092              off                    off   \n",
       "29 0 days 00:00:00.310879              off                    off   \n",
       "30 0 days 00:00:00.253411              off                    off   \n",
       "31 0 days 00:00:00.247434              off                    off   \n",
       "32 0 days 00:00:00.243223              off                    off   \n",
       "33 0 days 00:00:00.394424              off                    off   \n",
       "34 0 days 00:00:00.332157              off                    off   \n",
       "35 0 days 00:00:00.250576              off                    off   \n",
       "36 0 days 00:00:00.319166              off                    off   \n",
       "37 0 days 00:00:01.253032               on                    off   \n",
       "38 0 days 00:00:00.643583              off                     on   \n",
       "39 0 days 00:00:01.266615               on                    off   \n",
       "40 0 days 00:00:00.347183              off                    off   \n",
       "41 0 days 00:00:00.289530              off                    off   \n",
       "42 0 days 00:00:00.264455              off                    off   \n",
       "43 0 days 00:00:00.264046              off                    off   \n",
       "44 0 days 00:00:01.237618               on                    off   \n",
       "45 0 days 00:00:00.688552              off                     on   \n",
       "46 0 days 00:00:00.309751              off                    off   \n",
       "47 0 days 00:00:00.246055              off                    off   \n",
       "48 0 days 00:00:01.822316               on                     on   \n",
       "49 0 days 00:00:00.507529              off                    off   \n",
       "\n",
       "   params_nodeStrategy params_preprocess params_presolve  \\\n",
       "0               hybrid               off             off   \n",
       "1               fewest               off              on   \n",
       "2               fewest                on              on   \n",
       "3               hybrid               off              on   \n",
       "4                depth               off              on   \n",
       "5               hybrid               off              on   \n",
       "6               hybrid                on              on   \n",
       "7               hybrid               off             off   \n",
       "8                depth               off              on   \n",
       "9               fewest                on              on   \n",
       "10              hybrid                on             off   \n",
       "11              fewest                on              on   \n",
       "12              fewest                on              on   \n",
       "13              fewest                on              on   \n",
       "14               depth               off             off   \n",
       "15               depth               off             off   \n",
       "16               depth               off             off   \n",
       "17               depth               off             off   \n",
       "18              hybrid               off             off   \n",
       "19               depth               off             off   \n",
       "20               depth               off             off   \n",
       "21               depth               off             off   \n",
       "22               depth               off             off   \n",
       "23               depth               off             off   \n",
       "24               depth               off             off   \n",
       "25               depth               off             off   \n",
       "26               depth               off             off   \n",
       "27               depth               off             off   \n",
       "28               depth               off             off   \n",
       "29               depth               off             off   \n",
       "30               depth               off             off   \n",
       "31               depth               off             off   \n",
       "32               depth               off             off   \n",
       "33               depth               off             off   \n",
       "34               depth               off             off   \n",
       "35               depth               off             off   \n",
       "36               depth               off             off   \n",
       "37               depth               off             off   \n",
       "38               depth               off             off   \n",
       "39              fewest               off             off   \n",
       "40              hybrid                on             off   \n",
       "41               depth               off             off   \n",
       "42               depth               off             off   \n",
       "43               depth               off             off   \n",
       "44               depth               off             off   \n",
       "45               depth               off             off   \n",
       "46              hybrid                on              on   \n",
       "47              fewest               off             off   \n",
       "48              fewest               off              on   \n",
       "49              fewest                on             off   \n",
       "\n",
       "    params_strongBranching  params_trustPseudoCosts     state  \n",
       "0                        5                        3  COMPLETE  \n",
       "1                        1                        1  COMPLETE  \n",
       "2                        4                        5  COMPLETE  \n",
       "3                        1                        9  COMPLETE  \n",
       "4                        0                        1  COMPLETE  \n",
       "5                        1                        7  COMPLETE  \n",
       "6                        9                        8  COMPLETE  \n",
       "7                        1                        4  COMPLETE  \n",
       "8                        1                        2  COMPLETE  \n",
       "9                        3                        6  COMPLETE  \n",
       "10                       8                        7  COMPLETE  \n",
       "11                       4                       10  COMPLETE  \n",
       "12                       7                        5  COMPLETE  \n",
       "13                       3                        6  COMPLETE  \n",
       "14                       6                        4  COMPLETE  \n",
       "15                       7                        3  COMPLETE  \n",
       "16                      10                        7  COMPLETE  \n",
       "17                       6                        0  COMPLETE  \n",
       "18                       6                        0  COMPLETE  \n",
       "19                       6                        0  COMPLETE  \n",
       "20                       8                        0  COMPLETE  \n",
       "21                       6                        0  COMPLETE  \n",
       "22                       6                        1  COMPLETE  \n",
       "23                       5                        1  COMPLETE  \n",
       "24                       5                        2  COMPLETE  \n",
       "25                       4                        1  COMPLETE  \n",
       "26                       3                        2  COMPLETE  \n",
       "27                       4                        1  COMPLETE  \n",
       "28                       4                        3  COMPLETE  \n",
       "29                       2                        2  COMPLETE  \n",
       "30                       5                        1  COMPLETE  \n",
       "31                       5                        1  COMPLETE  \n",
       "32                       4                        1  COMPLETE  \n",
       "33                       4                        3  COMPLETE  \n",
       "34                       3                        2  COMPLETE  \n",
       "35                       5                        1  COMPLETE  \n",
       "36                       5                        2  COMPLETE  \n",
       "37                       5                        4  COMPLETE  \n",
       "38                       7                        3  COMPLETE  \n",
       "39                       2                        1  COMPLETE  \n",
       "40                       2                        1  COMPLETE  \n",
       "41                       4                        1  COMPLETE  \n",
       "42                       5                        0  COMPLETE  \n",
       "43                       5                        1  COMPLETE  \n",
       "44                       4                        2  COMPLETE  \n",
       "45                       3                        3  COMPLETE  \n",
       "46                       5                        0  COMPLETE  \n",
       "47                       4                        1  COMPLETE  \n",
       "48                       3                        2  COMPLETE  \n",
       "49                       7                       10  COMPLETE  "
      ]
     },
     "execution_count": 21,
     "metadata": {},
     "output_type": "execute_result"
    }
   ],
   "source": [
    "df_trials = study.trials_dataframe()\n",
    "df_trials"
   ]
  },
  {
   "cell_type": "markdown",
   "metadata": {
    "slideshow": {
     "slide_type": "fragment"
    }
   },
   "source": [
    "- we can then even filter these results, e.g. to show all runs taking less than one second:"
   ]
  },
  {
   "cell_type": "code",
   "execution_count": 22,
   "metadata": {
    "scrolled": true,
    "slideshow": {
     "slide_type": "-"
    }
   },
   "outputs": [
    {
     "data": {
      "text/html": [
       "<div>\n",
       "<style scoped>\n",
       "    .dataframe tbody tr th:only-of-type {\n",
       "        vertical-align: middle;\n",
       "    }\n",
       "\n",
       "    .dataframe tbody tr th {\n",
       "        vertical-align: top;\n",
       "    }\n",
       "\n",
       "    .dataframe thead th {\n",
       "        text-align: right;\n",
       "    }\n",
       "</style>\n",
       "<table border=\"1\" class=\"dataframe\">\n",
       "  <thead>\n",
       "    <tr style=\"text-align: right;\">\n",
       "      <th></th>\n",
       "      <th>number</th>\n",
       "      <th>value</th>\n",
       "      <th>datetime_start</th>\n",
       "      <th>datetime_complete</th>\n",
       "      <th>duration</th>\n",
       "      <th>params_cutsOnOff</th>\n",
       "      <th>params_heuristicsOnOff</th>\n",
       "      <th>params_nodeStrategy</th>\n",
       "      <th>params_preprocess</th>\n",
       "      <th>params_presolve</th>\n",
       "      <th>params_strongBranching</th>\n",
       "      <th>params_trustPseudoCosts</th>\n",
       "      <th>state</th>\n",
       "    </tr>\n",
       "  </thead>\n",
       "  <tbody>\n",
       "    <tr>\n",
       "      <th>17</th>\n",
       "      <td>17</td>\n",
       "      <td>0.249519</td>\n",
       "      <td>2025-07-15 10:10:43.805327</td>\n",
       "      <td>2025-07-15 10:10:44.070469</td>\n",
       "      <td>0 days 00:00:00.265142</td>\n",
       "      <td>off</td>\n",
       "      <td>off</td>\n",
       "      <td>depth</td>\n",
       "      <td>off</td>\n",
       "      <td>off</td>\n",
       "      <td>6</td>\n",
       "      <td>0</td>\n",
       "      <td>COMPLETE</td>\n",
       "    </tr>\n",
       "    <tr>\n",
       "      <th>22</th>\n",
       "      <td>22</td>\n",
       "      <td>0.232342</td>\n",
       "      <td>2025-07-15 10:10:45.353013</td>\n",
       "      <td>2025-07-15 10:10:45.606463</td>\n",
       "      <td>0 days 00:00:00.253450</td>\n",
       "      <td>off</td>\n",
       "      <td>off</td>\n",
       "      <td>depth</td>\n",
       "      <td>off</td>\n",
       "      <td>off</td>\n",
       "      <td>6</td>\n",
       "      <td>1</td>\n",
       "      <td>COMPLETE</td>\n",
       "    </tr>\n",
       "    <tr>\n",
       "      <th>23</th>\n",
       "      <td>23</td>\n",
       "      <td>0.219121</td>\n",
       "      <td>2025-07-15 10:10:45.607545</td>\n",
       "      <td>2025-07-15 10:10:45.847490</td>\n",
       "      <td>0 days 00:00:00.239945</td>\n",
       "      <td>off</td>\n",
       "      <td>off</td>\n",
       "      <td>depth</td>\n",
       "      <td>off</td>\n",
       "      <td>off</td>\n",
       "      <td>5</td>\n",
       "      <td>1</td>\n",
       "      <td>COMPLETE</td>\n",
       "    </tr>\n",
       "    <tr>\n",
       "      <th>25</th>\n",
       "      <td>25</td>\n",
       "      <td>0.226207</td>\n",
       "      <td>2025-07-15 10:10:46.160895</td>\n",
       "      <td>2025-07-15 10:10:46.410890</td>\n",
       "      <td>0 days 00:00:00.249995</td>\n",
       "      <td>off</td>\n",
       "      <td>off</td>\n",
       "      <td>depth</td>\n",
       "      <td>off</td>\n",
       "      <td>off</td>\n",
       "      <td>4</td>\n",
       "      <td>1</td>\n",
       "      <td>COMPLETE</td>\n",
       "    </tr>\n",
       "    <tr>\n",
       "      <th>27</th>\n",
       "      <td>27</td>\n",
       "      <td>0.216214</td>\n",
       "      <td>2025-07-15 10:10:46.748871</td>\n",
       "      <td>2025-07-15 10:10:46.980739</td>\n",
       "      <td>0 days 00:00:00.231868</td>\n",
       "      <td>off</td>\n",
       "      <td>off</td>\n",
       "      <td>depth</td>\n",
       "      <td>off</td>\n",
       "      <td>off</td>\n",
       "      <td>4</td>\n",
       "      <td>1</td>\n",
       "      <td>COMPLETE</td>\n",
       "    </tr>\n",
       "    <tr>\n",
       "      <th>30</th>\n",
       "      <td>30</td>\n",
       "      <td>0.218545</td>\n",
       "      <td>2025-07-15 10:10:47.713710</td>\n",
       "      <td>2025-07-15 10:10:47.967121</td>\n",
       "      <td>0 days 00:00:00.253411</td>\n",
       "      <td>off</td>\n",
       "      <td>off</td>\n",
       "      <td>depth</td>\n",
       "      <td>off</td>\n",
       "      <td>off</td>\n",
       "      <td>5</td>\n",
       "      <td>1</td>\n",
       "      <td>COMPLETE</td>\n",
       "    </tr>\n",
       "    <tr>\n",
       "      <th>31</th>\n",
       "      <td>31</td>\n",
       "      <td>0.231838</td>\n",
       "      <td>2025-07-15 10:10:47.967121</td>\n",
       "      <td>2025-07-15 10:10:48.214555</td>\n",
       "      <td>0 days 00:00:00.247434</td>\n",
       "      <td>off</td>\n",
       "      <td>off</td>\n",
       "      <td>depth</td>\n",
       "      <td>off</td>\n",
       "      <td>off</td>\n",
       "      <td>5</td>\n",
       "      <td>1</td>\n",
       "      <td>COMPLETE</td>\n",
       "    </tr>\n",
       "    <tr>\n",
       "      <th>32</th>\n",
       "      <td>32</td>\n",
       "      <td>0.227628</td>\n",
       "      <td>2025-07-15 10:10:48.214555</td>\n",
       "      <td>2025-07-15 10:10:48.457778</td>\n",
       "      <td>0 days 00:00:00.243223</td>\n",
       "      <td>off</td>\n",
       "      <td>off</td>\n",
       "      <td>depth</td>\n",
       "      <td>off</td>\n",
       "      <td>off</td>\n",
       "      <td>4</td>\n",
       "      <td>1</td>\n",
       "      <td>COMPLETE</td>\n",
       "    </tr>\n",
       "    <tr>\n",
       "      <th>35</th>\n",
       "      <td>35</td>\n",
       "      <td>0.219332</td>\n",
       "      <td>2025-07-15 10:10:49.185385</td>\n",
       "      <td>2025-07-15 10:10:49.435961</td>\n",
       "      <td>0 days 00:00:00.250576</td>\n",
       "      <td>off</td>\n",
       "      <td>off</td>\n",
       "      <td>depth</td>\n",
       "      <td>off</td>\n",
       "      <td>off</td>\n",
       "      <td>5</td>\n",
       "      <td>1</td>\n",
       "      <td>COMPLETE</td>\n",
       "    </tr>\n",
       "    <tr>\n",
       "      <th>42</th>\n",
       "      <td>42</td>\n",
       "      <td>0.237868</td>\n",
       "      <td>2025-07-15 10:10:53.556068</td>\n",
       "      <td>2025-07-15 10:10:53.820523</td>\n",
       "      <td>0 days 00:00:00.264455</td>\n",
       "      <td>off</td>\n",
       "      <td>off</td>\n",
       "      <td>depth</td>\n",
       "      <td>off</td>\n",
       "      <td>off</td>\n",
       "      <td>5</td>\n",
       "      <td>0</td>\n",
       "      <td>COMPLETE</td>\n",
       "    </tr>\n",
       "    <tr>\n",
       "      <th>43</th>\n",
       "      <td>43</td>\n",
       "      <td>0.232808</td>\n",
       "      <td>2025-07-15 10:10:53.820523</td>\n",
       "      <td>2025-07-15 10:10:54.084569</td>\n",
       "      <td>0 days 00:00:00.264046</td>\n",
       "      <td>off</td>\n",
       "      <td>off</td>\n",
       "      <td>depth</td>\n",
       "      <td>off</td>\n",
       "      <td>off</td>\n",
       "      <td>5</td>\n",
       "      <td>1</td>\n",
       "      <td>COMPLETE</td>\n",
       "    </tr>\n",
       "    <tr>\n",
       "      <th>47</th>\n",
       "      <td>47</td>\n",
       "      <td>0.222520</td>\n",
       "      <td>2025-07-15 10:10:56.322486</td>\n",
       "      <td>2025-07-15 10:10:56.568541</td>\n",
       "      <td>0 days 00:00:00.246055</td>\n",
       "      <td>off</td>\n",
       "      <td>off</td>\n",
       "      <td>fewest</td>\n",
       "      <td>off</td>\n",
       "      <td>off</td>\n",
       "      <td>4</td>\n",
       "      <td>1</td>\n",
       "      <td>COMPLETE</td>\n",
       "    </tr>\n",
       "  </tbody>\n",
       "</table>\n",
       "</div>"
      ],
      "text/plain": [
       "    number     value             datetime_start          datetime_complete  \\\n",
       "17      17  0.249519 2025-07-15 10:10:43.805327 2025-07-15 10:10:44.070469   \n",
       "22      22  0.232342 2025-07-15 10:10:45.353013 2025-07-15 10:10:45.606463   \n",
       "23      23  0.219121 2025-07-15 10:10:45.607545 2025-07-15 10:10:45.847490   \n",
       "25      25  0.226207 2025-07-15 10:10:46.160895 2025-07-15 10:10:46.410890   \n",
       "27      27  0.216214 2025-07-15 10:10:46.748871 2025-07-15 10:10:46.980739   \n",
       "30      30  0.218545 2025-07-15 10:10:47.713710 2025-07-15 10:10:47.967121   \n",
       "31      31  0.231838 2025-07-15 10:10:47.967121 2025-07-15 10:10:48.214555   \n",
       "32      32  0.227628 2025-07-15 10:10:48.214555 2025-07-15 10:10:48.457778   \n",
       "35      35  0.219332 2025-07-15 10:10:49.185385 2025-07-15 10:10:49.435961   \n",
       "42      42  0.237868 2025-07-15 10:10:53.556068 2025-07-15 10:10:53.820523   \n",
       "43      43  0.232808 2025-07-15 10:10:53.820523 2025-07-15 10:10:54.084569   \n",
       "47      47  0.222520 2025-07-15 10:10:56.322486 2025-07-15 10:10:56.568541   \n",
       "\n",
       "                 duration params_cutsOnOff params_heuristicsOnOff  \\\n",
       "17 0 days 00:00:00.265142              off                    off   \n",
       "22 0 days 00:00:00.253450              off                    off   \n",
       "23 0 days 00:00:00.239945              off                    off   \n",
       "25 0 days 00:00:00.249995              off                    off   \n",
       "27 0 days 00:00:00.231868              off                    off   \n",
       "30 0 days 00:00:00.253411              off                    off   \n",
       "31 0 days 00:00:00.247434              off                    off   \n",
       "32 0 days 00:00:00.243223              off                    off   \n",
       "35 0 days 00:00:00.250576              off                    off   \n",
       "42 0 days 00:00:00.264455              off                    off   \n",
       "43 0 days 00:00:00.264046              off                    off   \n",
       "47 0 days 00:00:00.246055              off                    off   \n",
       "\n",
       "   params_nodeStrategy params_preprocess params_presolve  \\\n",
       "17               depth               off             off   \n",
       "22               depth               off             off   \n",
       "23               depth               off             off   \n",
       "25               depth               off             off   \n",
       "27               depth               off             off   \n",
       "30               depth               off             off   \n",
       "31               depth               off             off   \n",
       "32               depth               off             off   \n",
       "35               depth               off             off   \n",
       "42               depth               off             off   \n",
       "43               depth               off             off   \n",
       "47              fewest               off             off   \n",
       "\n",
       "    params_strongBranching  params_trustPseudoCosts     state  \n",
       "17                       6                        0  COMPLETE  \n",
       "22                       6                        1  COMPLETE  \n",
       "23                       5                        1  COMPLETE  \n",
       "25                       4                        1  COMPLETE  \n",
       "27                       4                        1  COMPLETE  \n",
       "30                       5                        1  COMPLETE  \n",
       "31                       5                        1  COMPLETE  \n",
       "32                       4                        1  COMPLETE  \n",
       "35                       5                        1  COMPLETE  \n",
       "42                       5                        0  COMPLETE  \n",
       "43                       5                        1  COMPLETE  \n",
       "47                       4                        1  COMPLETE  "
      ]
     },
     "execution_count": 22,
     "metadata": {},
     "output_type": "execute_result"
    }
   ],
   "source": [
    "df_trials[df_trials[\"value\"] <= 0.25]"
   ]
  },
  {
   "cell_type": "markdown",
   "metadata": {},
   "source": [
    "## Printing the Progress\n",
    "\n"
   ]
  },
  {
   "cell_type": "code",
   "execution_count": 23,
   "metadata": {
    "slideshow": {
     "slide_type": "slide"
    }
   },
   "outputs": [
    {
     "data": {
      "application/vnd.plotly.v1+json": {
       "config": {
        "plotlyServerURL": "https://plot.ly"
       },
       "data": [
        {
         "mode": "markers",
         "name": "Objective Value",
         "type": "scatter",
         "x": [
          0,
          1,
          2,
          3,
          4,
          5,
          6,
          7,
          8,
          9,
          10,
          11,
          12,
          13,
          14,
          15,
          16,
          17,
          18,
          19,
          20,
          21,
          22,
          23,
          24,
          25,
          26,
          27,
          28,
          29,
          30,
          31,
          32,
          33,
          34,
          35,
          36,
          37,
          38,
          39,
          40,
          41,
          42,
          43,
          44,
          45,
          46,
          47,
          48,
          49
         ],
         "y": [
          1.481778621673584,
          1.5745337009429932,
          0.5944304466247559,
          1.3289620876312256,
          1.1788599491119385,
          0.2849569320678711,
          1.3130714893341064,
          1.2286155223846436,
          2.1078152656555176,
          1.26719331741333,
          0.694720983505249,
          0.601259708404541,
          0.651761531829834,
          0.7222816944122314,
          0.34798693656921387,
          0.3784317970275879,
          0.39063549041748047,
          0.24951934814453125,
          0.27365565299987793,
          0.26168251037597656,
          0.3771355152130127,
          0.2812325954437256,
          0.23234224319458008,
          0.21912097930908203,
          0.2967829704284668,
          0.22620654106140137,
          0.3111686706542969,
          0.21621417999267578,
          0.40650033950805664,
          0.2952582836151123,
          0.21854543685913086,
          0.23183798789978027,
          0.22762751579284668,
          0.37189388275146484,
          0.30091071128845215,
          0.21933221817016602,
          0.27742600440979004,
          1.2374086380004883,
          0.6123397350311279,
          1.238518476486206,
          0.31594038009643555,
          0.251781702041626,
          0.2378675937652588,
          0.23280763626098633,
          1.2063508033752441,
          0.6729247570037842,
          0.2857942581176758,
          0.222520112991333,
          1.7993459701538086,
          0.4762578010559082
         ]
        },
        {
         "mode": "lines",
         "name": "Best Value",
         "type": "scatter",
         "x": [
          0,
          1,
          2,
          3,
          4,
          5,
          6,
          7,
          8,
          9,
          10,
          11,
          12,
          13,
          14,
          15,
          16,
          17,
          18,
          19,
          20,
          21,
          22,
          23,
          24,
          25,
          26,
          27,
          28,
          29,
          30,
          31,
          32,
          33,
          34,
          35,
          36,
          37,
          38,
          39,
          40,
          41,
          42,
          43,
          44,
          45,
          46,
          47,
          48,
          49
         ],
         "y": [
          1.481778621673584,
          1.481778621673584,
          0.5944304466247559,
          0.5944304466247559,
          0.5944304466247559,
          0.2849569320678711,
          0.2849569320678711,
          0.2849569320678711,
          0.2849569320678711,
          0.2849569320678711,
          0.2849569320678711,
          0.2849569320678711,
          0.2849569320678711,
          0.2849569320678711,
          0.2849569320678711,
          0.2849569320678711,
          0.2849569320678711,
          0.24951934814453125,
          0.24951934814453125,
          0.24951934814453125,
          0.24951934814453125,
          0.24951934814453125,
          0.23234224319458008,
          0.21912097930908203,
          0.21912097930908203,
          0.21912097930908203,
          0.21912097930908203,
          0.21621417999267578,
          0.21621417999267578,
          0.21621417999267578,
          0.21621417999267578,
          0.21621417999267578,
          0.21621417999267578,
          0.21621417999267578,
          0.21621417999267578,
          0.21621417999267578,
          0.21621417999267578,
          0.21621417999267578,
          0.21621417999267578,
          0.21621417999267578,
          0.21621417999267578,
          0.21621417999267578,
          0.21621417999267578,
          0.21621417999267578,
          0.21621417999267578,
          0.21621417999267578,
          0.21621417999267578,
          0.21621417999267578,
          0.21621417999267578,
          0.21621417999267578
         ]
        },
        {
         "marker": {
          "color": "#cccccc"
         },
         "mode": "markers",
         "name": "Infeasible Trial",
         "showlegend": false,
         "type": "scatter",
         "x": [],
         "y": []
        }
       ],
       "layout": {
        "template": {
         "data": {
          "bar": [
           {
            "error_x": {
             "color": "#2a3f5f"
            },
            "error_y": {
             "color": "#2a3f5f"
            },
            "marker": {
             "line": {
              "color": "#E5ECF6",
              "width": 0.5
             },
             "pattern": {
              "fillmode": "overlay",
              "size": 10,
              "solidity": 0.2
             }
            },
            "type": "bar"
           }
          ],
          "barpolar": [
           {
            "marker": {
             "line": {
              "color": "#E5ECF6",
              "width": 0.5
             },
             "pattern": {
              "fillmode": "overlay",
              "size": 10,
              "solidity": 0.2
             }
            },
            "type": "barpolar"
           }
          ],
          "carpet": [
           {
            "aaxis": {
             "endlinecolor": "#2a3f5f",
             "gridcolor": "white",
             "linecolor": "white",
             "minorgridcolor": "white",
             "startlinecolor": "#2a3f5f"
            },
            "baxis": {
             "endlinecolor": "#2a3f5f",
             "gridcolor": "white",
             "linecolor": "white",
             "minorgridcolor": "white",
             "startlinecolor": "#2a3f5f"
            },
            "type": "carpet"
           }
          ],
          "choropleth": [
           {
            "colorbar": {
             "outlinewidth": 0,
             "ticks": ""
            },
            "type": "choropleth"
           }
          ],
          "contour": [
           {
            "colorbar": {
             "outlinewidth": 0,
             "ticks": ""
            },
            "colorscale": [
             [
              0,
              "#0d0887"
             ],
             [
              0.1111111111111111,
              "#46039f"
             ],
             [
              0.2222222222222222,
              "#7201a8"
             ],
             [
              0.3333333333333333,
              "#9c179e"
             ],
             [
              0.4444444444444444,
              "#bd3786"
             ],
             [
              0.5555555555555556,
              "#d8576b"
             ],
             [
              0.6666666666666666,
              "#ed7953"
             ],
             [
              0.7777777777777778,
              "#fb9f3a"
             ],
             [
              0.8888888888888888,
              "#fdca26"
             ],
             [
              1,
              "#f0f921"
             ]
            ],
            "type": "contour"
           }
          ],
          "contourcarpet": [
           {
            "colorbar": {
             "outlinewidth": 0,
             "ticks": ""
            },
            "type": "contourcarpet"
           }
          ],
          "heatmap": [
           {
            "colorbar": {
             "outlinewidth": 0,
             "ticks": ""
            },
            "colorscale": [
             [
              0,
              "#0d0887"
             ],
             [
              0.1111111111111111,
              "#46039f"
             ],
             [
              0.2222222222222222,
              "#7201a8"
             ],
             [
              0.3333333333333333,
              "#9c179e"
             ],
             [
              0.4444444444444444,
              "#bd3786"
             ],
             [
              0.5555555555555556,
              "#d8576b"
             ],
             [
              0.6666666666666666,
              "#ed7953"
             ],
             [
              0.7777777777777778,
              "#fb9f3a"
             ],
             [
              0.8888888888888888,
              "#fdca26"
             ],
             [
              1,
              "#f0f921"
             ]
            ],
            "type": "heatmap"
           }
          ],
          "histogram": [
           {
            "marker": {
             "pattern": {
              "fillmode": "overlay",
              "size": 10,
              "solidity": 0.2
             }
            },
            "type": "histogram"
           }
          ],
          "histogram2d": [
           {
            "colorbar": {
             "outlinewidth": 0,
             "ticks": ""
            },
            "colorscale": [
             [
              0,
              "#0d0887"
             ],
             [
              0.1111111111111111,
              "#46039f"
             ],
             [
              0.2222222222222222,
              "#7201a8"
             ],
             [
              0.3333333333333333,
              "#9c179e"
             ],
             [
              0.4444444444444444,
              "#bd3786"
             ],
             [
              0.5555555555555556,
              "#d8576b"
             ],
             [
              0.6666666666666666,
              "#ed7953"
             ],
             [
              0.7777777777777778,
              "#fb9f3a"
             ],
             [
              0.8888888888888888,
              "#fdca26"
             ],
             [
              1,
              "#f0f921"
             ]
            ],
            "type": "histogram2d"
           }
          ],
          "histogram2dcontour": [
           {
            "colorbar": {
             "outlinewidth": 0,
             "ticks": ""
            },
            "colorscale": [
             [
              0,
              "#0d0887"
             ],
             [
              0.1111111111111111,
              "#46039f"
             ],
             [
              0.2222222222222222,
              "#7201a8"
             ],
             [
              0.3333333333333333,
              "#9c179e"
             ],
             [
              0.4444444444444444,
              "#bd3786"
             ],
             [
              0.5555555555555556,
              "#d8576b"
             ],
             [
              0.6666666666666666,
              "#ed7953"
             ],
             [
              0.7777777777777778,
              "#fb9f3a"
             ],
             [
              0.8888888888888888,
              "#fdca26"
             ],
             [
              1,
              "#f0f921"
             ]
            ],
            "type": "histogram2dcontour"
           }
          ],
          "mesh3d": [
           {
            "colorbar": {
             "outlinewidth": 0,
             "ticks": ""
            },
            "type": "mesh3d"
           }
          ],
          "parcoords": [
           {
            "line": {
             "colorbar": {
              "outlinewidth": 0,
              "ticks": ""
             }
            },
            "type": "parcoords"
           }
          ],
          "pie": [
           {
            "automargin": true,
            "type": "pie"
           }
          ],
          "scatter": [
           {
            "fillpattern": {
             "fillmode": "overlay",
             "size": 10,
             "solidity": 0.2
            },
            "type": "scatter"
           }
          ],
          "scatter3d": [
           {
            "line": {
             "colorbar": {
              "outlinewidth": 0,
              "ticks": ""
             }
            },
            "marker": {
             "colorbar": {
              "outlinewidth": 0,
              "ticks": ""
             }
            },
            "type": "scatter3d"
           }
          ],
          "scattercarpet": [
           {
            "marker": {
             "colorbar": {
              "outlinewidth": 0,
              "ticks": ""
             }
            },
            "type": "scattercarpet"
           }
          ],
          "scattergeo": [
           {
            "marker": {
             "colorbar": {
              "outlinewidth": 0,
              "ticks": ""
             }
            },
            "type": "scattergeo"
           }
          ],
          "scattergl": [
           {
            "marker": {
             "colorbar": {
              "outlinewidth": 0,
              "ticks": ""
             }
            },
            "type": "scattergl"
           }
          ],
          "scattermap": [
           {
            "marker": {
             "colorbar": {
              "outlinewidth": 0,
              "ticks": ""
             }
            },
            "type": "scattermap"
           }
          ],
          "scattermapbox": [
           {
            "marker": {
             "colorbar": {
              "outlinewidth": 0,
              "ticks": ""
             }
            },
            "type": "scattermapbox"
           }
          ],
          "scatterpolar": [
           {
            "marker": {
             "colorbar": {
              "outlinewidth": 0,
              "ticks": ""
             }
            },
            "type": "scatterpolar"
           }
          ],
          "scatterpolargl": [
           {
            "marker": {
             "colorbar": {
              "outlinewidth": 0,
              "ticks": ""
             }
            },
            "type": "scatterpolargl"
           }
          ],
          "scatterternary": [
           {
            "marker": {
             "colorbar": {
              "outlinewidth": 0,
              "ticks": ""
             }
            },
            "type": "scatterternary"
           }
          ],
          "surface": [
           {
            "colorbar": {
             "outlinewidth": 0,
             "ticks": ""
            },
            "colorscale": [
             [
              0,
              "#0d0887"
             ],
             [
              0.1111111111111111,
              "#46039f"
             ],
             [
              0.2222222222222222,
              "#7201a8"
             ],
             [
              0.3333333333333333,
              "#9c179e"
             ],
             [
              0.4444444444444444,
              "#bd3786"
             ],
             [
              0.5555555555555556,
              "#d8576b"
             ],
             [
              0.6666666666666666,
              "#ed7953"
             ],
             [
              0.7777777777777778,
              "#fb9f3a"
             ],
             [
              0.8888888888888888,
              "#fdca26"
             ],
             [
              1,
              "#f0f921"
             ]
            ],
            "type": "surface"
           }
          ],
          "table": [
           {
            "cells": {
             "fill": {
              "color": "#EBF0F8"
             },
             "line": {
              "color": "white"
             }
            },
            "header": {
             "fill": {
              "color": "#C8D4E3"
             },
             "line": {
              "color": "white"
             }
            },
            "type": "table"
           }
          ]
         },
         "layout": {
          "annotationdefaults": {
           "arrowcolor": "#2a3f5f",
           "arrowhead": 0,
           "arrowwidth": 1
          },
          "autotypenumbers": "strict",
          "coloraxis": {
           "colorbar": {
            "outlinewidth": 0,
            "ticks": ""
           }
          },
          "colorscale": {
           "diverging": [
            [
             0,
             "#8e0152"
            ],
            [
             0.1,
             "#c51b7d"
            ],
            [
             0.2,
             "#de77ae"
            ],
            [
             0.3,
             "#f1b6da"
            ],
            [
             0.4,
             "#fde0ef"
            ],
            [
             0.5,
             "#f7f7f7"
            ],
            [
             0.6,
             "#e6f5d0"
            ],
            [
             0.7,
             "#b8e186"
            ],
            [
             0.8,
             "#7fbc41"
            ],
            [
             0.9,
             "#4d9221"
            ],
            [
             1,
             "#276419"
            ]
           ],
           "sequential": [
            [
             0,
             "#0d0887"
            ],
            [
             0.1111111111111111,
             "#46039f"
            ],
            [
             0.2222222222222222,
             "#7201a8"
            ],
            [
             0.3333333333333333,
             "#9c179e"
            ],
            [
             0.4444444444444444,
             "#bd3786"
            ],
            [
             0.5555555555555556,
             "#d8576b"
            ],
            [
             0.6666666666666666,
             "#ed7953"
            ],
            [
             0.7777777777777778,
             "#fb9f3a"
            ],
            [
             0.8888888888888888,
             "#fdca26"
            ],
            [
             1,
             "#f0f921"
            ]
           ],
           "sequentialminus": [
            [
             0,
             "#0d0887"
            ],
            [
             0.1111111111111111,
             "#46039f"
            ],
            [
             0.2222222222222222,
             "#7201a8"
            ],
            [
             0.3333333333333333,
             "#9c179e"
            ],
            [
             0.4444444444444444,
             "#bd3786"
            ],
            [
             0.5555555555555556,
             "#d8576b"
            ],
            [
             0.6666666666666666,
             "#ed7953"
            ],
            [
             0.7777777777777778,
             "#fb9f3a"
            ],
            [
             0.8888888888888888,
             "#fdca26"
            ],
            [
             1,
             "#f0f921"
            ]
           ]
          },
          "colorway": [
           "#636efa",
           "#EF553B",
           "#00cc96",
           "#ab63fa",
           "#FFA15A",
           "#19d3f3",
           "#FF6692",
           "#B6E880",
           "#FF97FF",
           "#FECB52"
          ],
          "font": {
           "color": "#2a3f5f"
          },
          "geo": {
           "bgcolor": "white",
           "lakecolor": "white",
           "landcolor": "#E5ECF6",
           "showlakes": true,
           "showland": true,
           "subunitcolor": "white"
          },
          "hoverlabel": {
           "align": "left"
          },
          "hovermode": "closest",
          "mapbox": {
           "style": "light"
          },
          "paper_bgcolor": "white",
          "plot_bgcolor": "#E5ECF6",
          "polar": {
           "angularaxis": {
            "gridcolor": "white",
            "linecolor": "white",
            "ticks": ""
           },
           "bgcolor": "#E5ECF6",
           "radialaxis": {
            "gridcolor": "white",
            "linecolor": "white",
            "ticks": ""
           }
          },
          "scene": {
           "xaxis": {
            "backgroundcolor": "#E5ECF6",
            "gridcolor": "white",
            "gridwidth": 2,
            "linecolor": "white",
            "showbackground": true,
            "ticks": "",
            "zerolinecolor": "white"
           },
           "yaxis": {
            "backgroundcolor": "#E5ECF6",
            "gridcolor": "white",
            "gridwidth": 2,
            "linecolor": "white",
            "showbackground": true,
            "ticks": "",
            "zerolinecolor": "white"
           },
           "zaxis": {
            "backgroundcolor": "#E5ECF6",
            "gridcolor": "white",
            "gridwidth": 2,
            "linecolor": "white",
            "showbackground": true,
            "ticks": "",
            "zerolinecolor": "white"
           }
          },
          "shapedefaults": {
           "line": {
            "color": "#2a3f5f"
           }
          },
          "ternary": {
           "aaxis": {
            "gridcolor": "white",
            "linecolor": "white",
            "ticks": ""
           },
           "baxis": {
            "gridcolor": "white",
            "linecolor": "white",
            "ticks": ""
           },
           "bgcolor": "#E5ECF6",
           "caxis": {
            "gridcolor": "white",
            "linecolor": "white",
            "ticks": ""
           }
          },
          "title": {
           "x": 0.05
          },
          "xaxis": {
           "automargin": true,
           "gridcolor": "white",
           "linecolor": "white",
           "ticks": "",
           "title": {
            "standoff": 15
           },
           "zerolinecolor": "white",
           "zerolinewidth": 2
          },
          "yaxis": {
           "automargin": true,
           "gridcolor": "white",
           "linecolor": "white",
           "ticks": "",
           "title": {
            "standoff": 15
           },
           "zerolinecolor": "white",
           "zerolinewidth": 2
          }
         }
        },
        "title": {
         "text": "Optimization History Plot"
        },
        "xaxis": {
         "title": {
          "text": "Trial"
         }
        },
        "yaxis": {
         "title": {
          "text": "Objective Value"
         }
        }
       }
      }
     },
     "metadata": {},
     "output_type": "display_data"
    }
   ],
   "source": [
    "from optuna.visualization import plot_optimization_history\n",
    "\n",
    "plot_optimization_history(study)"
   ]
  },
  {
   "cell_type": "markdown",
   "metadata": {
    "slideshow": {
     "slide_type": "slide"
    }
   },
   "source": [
    "# Avoiding Overfitting"
   ]
  },
  {
   "cell_type": "markdown",
   "metadata": {
    "slideshow": {
     "slide_type": "slide"
    }
   },
   "source": [
    "## Avoiding Overfitting\n",
    "\n",
    "- even in case of homogeneous instances, algorithm configuration is\n",
    "  very prone to overfitting\n",
    "\n",
    "\n",
    "- in general, in machine learning, we would use cross validation for addressing overfitting\n",
    "- in algorithm configuration, however, **cross validation is not\n",
    "  practical** since it requires too many time-consuming evaluations\n",
    "- thus, in algorithm configuration one mostly uses \n",
    "  - a single training set\n",
    "  - and a single test set\n"
   ]
  },
  {
   "cell_type": "markdown",
   "metadata": {
    "slideshow": {
     "slide_type": "slide"
    }
   },
   "source": [
    "## Evaluating the Configuration on a Test Set\n",
    "\n",
    "Let us see how our configuration (selected for a single instance) performs on average for a test set of 10 instances\n",
    "\n",
    "**Question:**\n",
    "- How can we create a test set (a set of test instances) for our CCP case study?\n"
   ]
  },
  {
   "cell_type": "code",
   "execution_count": 24,
   "metadata": {
    "slideshow": {
     "slide_type": "fragment"
    }
   },
   "outputs": [],
   "source": [
    "np.random.seed(seed=11)\n",
    "number_of_test_instances = 10\n",
    "test_instances =  [ build_model_with_samples( time_available_dist.rvs(n_scenarios), leather_available_dist.rvs(n_scenarios), CBC) \n",
    "                    for i in range(number_of_test_instances) ]"
   ]
  },
  {
   "cell_type": "markdown",
   "metadata": {},
   "source": [
    "- then, we define an evaluation function for evaluating a configuration on a **single** instance:"
   ]
  },
  {
   "cell_type": "code",
   "execution_count": 25,
   "metadata": {
    "slideshow": {
     "slide_type": "-"
    }
   },
   "outputs": [
    {
     "data": {
      "text/plain": [
       "0.23774957656860352"
      ]
     },
     "execution_count": 25,
     "metadata": {},
     "output_type": "execute_result"
    }
   ],
   "source": [
    "def evaluate_best_parameters_on_instance(instance, study):    \n",
    "    return evaluate_parameters_on_instance(instance, **study.best_params)    \n",
    "\n",
    "evaluate_best_parameters_on_instance(model_instance_cbc, study)"
   ]
  },
  {
   "cell_type": "markdown",
   "metadata": {
    "slideshow": {
     "slide_type": "fragment"
    }
   },
   "source": [
    "- then, we define an evaluation function for evaluating a configuration on **multiple** instances:"
   ]
  },
  {
   "cell_type": "code",
   "execution_count": 26,
   "metadata": {
    "slideshow": {
     "slide_type": "-"
    }
   },
   "outputs": [],
   "source": [
    "def evaluate_parameters_on_instances(instances, **params):\n",
    "    total_time = 0    \n",
    "    number_of_instances = len(instances)    \n",
    "    for instance in instances:\n",
    "        total_time += evaluate_parameters_on_instance(instance, **params)        \n",
    "    return total_time / number_of_instances\n"
   ]
  },
  {
   "cell_type": "markdown",
   "metadata": {
    "slideshow": {
     "slide_type": "fragment"
    }
   },
   "source": [
    "- and another function that directly takes the configuration obtained wie `scikit-optimize` and applies it to a set of instances:"
   ]
  },
  {
   "cell_type": "code",
   "execution_count": 27,
   "metadata": {
    "slideshow": {
     "slide_type": "-"
    }
   },
   "outputs": [],
   "source": [
    "def evaluate_best_parameters_on_instances(instances, study):    \n",
    "    return evaluate_parameters_on_instances(instances, **study.best_params)                                            "
   ]
  },
  {
   "cell_type": "markdown",
   "metadata": {
    "slideshow": {
     "slide_type": "slide"
    }
   },
   "source": [
    "## Evaluating the Configuration on a Test Set: Results\n",
    "\n",
    "Let's create a data frame to collect the results"
   ]
  },
  {
   "cell_type": "code",
   "execution_count": 28,
   "metadata": {
    "slideshow": {
     "slide_type": "-"
    }
   },
   "outputs": [],
   "source": [
    "df_results = pd.DataFrame(columns=['train_perf','test_perf'])"
   ]
  },
  {
   "cell_type": "markdown",
   "metadata": {
    "slideshow": {
     "slide_type": "fragment"
    }
   },
   "source": [
    "- we start with an evaluation of the CBC standard settings:"
   ]
  },
  {
   "cell_type": "code",
   "execution_count": 29,
   "metadata": {
    "slideshow": {
     "slide_type": "-"
    }
   },
   "outputs": [],
   "source": [
    "df_results.loc['Standard CBC','test_perf'] = evaluate_parameters_on_instances(test_instances)"
   ]
  },
  {
   "cell_type": "markdown",
   "metadata": {
    "slideshow": {
     "slide_type": "fragment"
    }
   },
   "source": [
    "- and then add those from training with a single instance (note: train performance is based on a single instance, test performance is evaluated using 10 instances"
   ]
  },
  {
   "cell_type": "code",
   "execution_count": 32,
   "metadata": {
    "slideshow": {
     "slide_type": "-"
    }
   },
   "outputs": [],
   "source": [
    "df_results.loc['Configured Single Instance','train_perf'] = study_single_instance.best_value\n",
    "\n",
    "df_results.loc['Configured Single Instance','test_perf']=  evaluate_best_parameters_on_instances(test_instances,study_single_instance)"
   ]
  },
  {
   "cell_type": "code",
   "execution_count": 33,
   "metadata": {
    "scrolled": true,
    "slideshow": {
     "slide_type": "-"
    }
   },
   "outputs": [
    {
     "data": {
      "text/html": [
       "<div>\n",
       "<style scoped>\n",
       "    .dataframe tbody tr th:only-of-type {\n",
       "        vertical-align: middle;\n",
       "    }\n",
       "\n",
       "    .dataframe tbody tr th {\n",
       "        vertical-align: top;\n",
       "    }\n",
       "\n",
       "    .dataframe thead th {\n",
       "        text-align: right;\n",
       "    }\n",
       "</style>\n",
       "<table border=\"1\" class=\"dataframe\">\n",
       "  <thead>\n",
       "    <tr style=\"text-align: right;\">\n",
       "      <th></th>\n",
       "      <th>train_perf</th>\n",
       "      <th>test_perf</th>\n",
       "    </tr>\n",
       "  </thead>\n",
       "  <tbody>\n",
       "    <tr>\n",
       "      <th>Standard CBC</th>\n",
       "      <td>NaN</td>\n",
       "      <td>1.356098</td>\n",
       "    </tr>\n",
       "    <tr>\n",
       "      <th>Configured Single Instance</th>\n",
       "      <td>0.216214</td>\n",
       "      <td>0.235957</td>\n",
       "    </tr>\n",
       "  </tbody>\n",
       "</table>\n",
       "</div>"
      ],
      "text/plain": [
       "                           train_perf test_perf\n",
       "Standard CBC                      NaN  1.356098\n",
       "Configured Single Instance   0.216214  0.235957"
      ]
     },
     "execution_count": 33,
     "metadata": {},
     "output_type": "execute_result"
    }
   ],
   "source": [
    "df_results"
   ]
  },
  {
   "cell_type": "markdown",
   "metadata": {
    "slideshow": {
     "slide_type": "slide"
    }
   },
   "source": [
    "## Addressing Overfitting: Configuration using Multiple Training Instances\n",
    "\n",
    "Let us see if we can do better by evaluating each configuration on multiple instances **during training**!\n",
    "- ..of course, these instances should be different from the test set!\n",
    "- we thus create 10 training instances:"
   ]
  },
  {
   "cell_type": "code",
   "execution_count": 34,
   "metadata": {
    "slideshow": {
     "slide_type": "-"
    }
   },
   "outputs": [],
   "source": [
    "np.random.seed(seed=42) ## attention: different random seed!\n",
    "number_of_training_instances = 10\n",
    "training_instances =  [ build_model_with_samples( time_available_dist.rvs(n_scenarios), leather_available_dist.rvs(n_scenarios), CBC) \n",
    "                        for i in range(number_of_training_instances) ]"
   ]
  },
  {
   "cell_type": "markdown",
   "metadata": {
    "slideshow": {
     "slide_type": "fragment"
    }
   },
   "source": [
    "- then, we create an objective function for scikit-optimize that uses these 10 instances:\n",
    "    "
   ]
  },
  {
   "cell_type": "code",
   "execution_count": 35,
   "metadata": {
    "slideshow": {
     "slide_type": "-"
    }
   },
   "outputs": [],
   "source": [
    "instances_to_evaluate = training_instances  \n",
    "\n",
    "def performance_objective_multiple_instances(trial): # we always need the trial parameter\n",
    "\n",
    "    node_strategy = trial.suggest_categorical('nodeStrategy', ['hybrid','fewest','depth'])\n",
    "    strong_branching = trial.suggest_int('strongBranching',0,10)\n",
    "    trust_pseudo_costs = trial.suggest_int('trustPseudoCosts',0,10)    \n",
    "    preprocess = trial.suggest_categorical('preprocess', ['on','off'])\n",
    "    presolve = trial.suggest_categorical('presolve', ['on','off'])\n",
    "    cuts_on_off = trial.suggest_categorical('cutsOnOff', ['on','off'])\n",
    "    heuristics_on_off = trial.suggest_categorical('heuristicsOnOff', ['on','off'])\n",
    "    \n",
    "    \n",
    "    return evaluate_parameters_on_instances(instances_to_evaluate, **trial.params)"
   ]
  },
  {
   "cell_type": "markdown",
   "metadata": {
    "slideshow": {
     "slide_type": "slide"
    }
   },
   "source": [
    "## Automatic Configuration Using Multiple Instances"
   ]
  },
  {
   "cell_type": "code",
   "execution_count": null,
   "metadata": {},
   "outputs": [],
   "source": [
    "start_time_configuration_multiple_instances = time.time()\n",
    "\n",
    "study_multiple_instances =  optuna.create_study(sampler=optuna.samplers.TPESampler()) # this sampler works with all sorts of parameters\n",
    "\n",
    "study_multiple_instances.optimize(performance_objective_multiple_instances, n_trials=50)\n",
    "\n",
    "duration_configuration_multiple_instances = time.time() - start_time_configuration_multiple_instances\n",
    "\n",
    "print (f\"The configuration took {duration_configuration_multiple_instances:0.2f} seconds\")"
   ]
  },
  {
   "cell_type": "markdown",
   "metadata": {
    "slideshow": {
     "slide_type": "slide"
    }
   },
   "source": [
    "## Automatic Configuration Using Multiple Instances: Results\n",
    "\n",
    "How did it work?"
   ]
  },
  {
   "cell_type": "code",
   "execution_count": null,
   "metadata": {
    "slideshow": {
     "slide_type": "-"
    }
   },
   "outputs": [],
   "source": [
    "df_results.loc['Configured Multiple Instances','train_perf'] = study_multiple_instances.best_value\n",
    "\n",
    "df_results.loc['Configured Multiple Instances','test_perf']=  evaluate_best_parameters_on_instances(test_instances, study_multiple_instances )\n",
    "\n",
    "df_results"
   ]
  },
  {
   "cell_type": "markdown",
   "metadata": {},
   "source": [
    "- it worked better, that is, using multiple training instances is advantageous."
   ]
  },
  {
   "cell_type": "markdown",
   "metadata": {
    "slideshow": {
     "slide_type": "slide"
    }
   },
   "source": [
    "# Making Algorithm Configuration Faster: Early Stopping"
   ]
  },
  {
   "cell_type": "markdown",
   "metadata": {
    "slideshow": {
     "slide_type": "slide"
    }
   },
   "source": [
    "## Making Configuration Faster: Early Stopping\n",
    "\n",
    "**Challenge: Long Configuration Time**\n",
    "\n",
    "**Long configuration times**\n",
    "- using multiple training instances will improve the robustness of the results, \n",
    "- but it will also drastically increase configuration time\n",
    "\n",
    "\n",
    "**Question:** Do you have any idea how to reduce configuration time?\n"
   ]
  },
  {
   "cell_type": "markdown",
   "metadata": {
    "slideshow": {
     "slide_type": "fragment"
    }
   },
   "source": [
    "**We can reduce configuration time by**\n",
    "- quickly recognizing bad configurations and evaluating them on only a\n",
    "  few instances\n",
    "- we may even use statistical tests to detect bad configurations early\n",
    "- in our case study, we will use Optuna's **pruning** functinality"
   ]
  },
  {
   "cell_type": "markdown",
   "metadata": {
    "slideshow": {
     "slide_type": "slide"
    }
   },
   "source": [
    "## Early Stopping / Pruning with Optuna\n",
    "\n",
    "Optuna offers out-of the box functionality for pruning.\n",
    "\n",
    "**To use pruning, we need to**:\n",
    "- select a pruning rule (e.g. Median pruning)\n",
    "- report intermediate results after each step (in our case: after each instance)\n",
    "- call the function `should_prune` to  let Optuna apply the pruning rule to decide whether to early stop a trial or not."
   ]
  },
  {
   "cell_type": "markdown",
   "metadata": {
    "slideshow": {
     "slide_type": "fragment"
    }
   },
   "source": [
    "**Example pruning rule: Median Pruning**\n",
    "\n",
    "\n",
    "Prune if \n",
    "- the trial’s best intermediate result is worse than median of intermediate results of previous trials at the same step\n",
    "- It stops unpromising trials early based on the intermediate results compared against the median of previous completed trials."
   ]
  },
  {
   "cell_type": "markdown",
   "metadata": {
    "slideshow": {
     "slide_type": "slide"
    }
   },
   "source": [
    "## Early Stopping / Pruning with Optuna: Implementation "
   ]
  },
  {
   "cell_type": "code",
   "execution_count": null,
   "metadata": {},
   "outputs": [],
   "source": [
    "def performance_objective_multiple_instances_early_stopping(trial):\n",
    "\n",
    "    node_strategy = trial.suggest_categorical('nodeStrategy', ['hybrid','fewest','depth'])\n",
    "    strong_branching = trial.suggest_int('strongBranching',0,10)\n",
    "    trust_pseudo_costs = trial.suggest_int('trustPseudoCosts',0,10)    \n",
    "    preprocess = trial.suggest_categorical('preprocess', ['on','off'])\n",
    "    presolve = trial.suggest_categorical('presolve', ['on','off'])\n",
    "    cuts_on_off = trial.suggest_categorical('cutsOnOff', ['on','off'])\n",
    "    heuristics_on_off = trial.suggest_categorical('heuristicsOnOff', ['on','off'])\n",
    "    \n",
    "    \n",
    "    for step, instance in enumerate(instances_to_evaluate):\n",
    "        \n",
    "        evaluated_instances = step + 1\n",
    "  \n",
    "        total_performance += evaluate_parameters_on_instance(instance, **trial.params)\n",
    "    \n",
    "        # compute average performance so far\n",
    "        average_performance = total_performance / evaluated_instances  \n",
    "        \n",
    "        #report to the pruner\n",
    "        trial.report(average_performance, step)\n",
    "\n",
    "          # Handle pruning based on the intermediate value.\n",
    "        if trial.should_prune():\n",
    "            raise optuna.TrialPruned()\n",
    "            \n",
    "    return average_performance    "
   ]
  },
  {
   "cell_type": "markdown",
   "metadata": {
    "slideshow": {
     "slide_type": "slide"
    }
   },
   "source": [
    "##  Running the Algorithm Configuration with the Early Stopping Approach\n",
    "\n",
    "- now, we run the early stopping-based algorithm configuration \n",
    "- the following implementation uses the sickit-optimizes ask-and-tell interface explained above"
   ]
  },
  {
   "cell_type": "code",
   "execution_count": null,
   "metadata": {
    "scrolled": true,
    "slideshow": {
     "slide_type": "-"
    }
   },
   "outputs": [],
   "source": [
    "\n",
    "number_of_total_iterations = 50\n",
    "\n",
    "\n",
    "start_time_early_stopping = time.time()\n",
    "\n",
    "study_multiple_instances_pruning =  optuna.create_study(sampler=optuna.samplers.TPESampler(), pruner = optuna.pruners.MedianPruner) # this sampler works with all sorts of parameters\n",
    "\n",
    "study_multiple_instances_pruning.optimize(performance_objective_multiple_instances_early_stopping, n_trials=50)\n",
    "\n",
    "\n",
    "duration_early_stopping = time.time() - start_time_early_stopping\n",
    "\n",
    "print (f\"The configuration using early stopping took {duration_early_stopping:0.2f} seconds\")\n",
    "\n"
   ]
  },
  {
   "cell_type": "markdown",
   "metadata": {
    "slideshow": {
     "slide_type": "slide"
    }
   },
   "source": [
    "## Let us see the results\n",
    "\n",
    "- let's add the results from the early stopping approach"
   ]
  },
  {
   "cell_type": "code",
   "execution_count": null,
   "metadata": {
    "slideshow": {
     "slide_type": "-"
    }
   },
   "outputs": [],
   "source": [
    "#add to results\n",
    "df_results.loc['Configured Multi Instance Early Stop','train_perf'] = study_multiple_instances_pruning.best_value\n",
    "\n",
    "df_results.loc['Configured Multi Instance Early Stop','test_perf']=  evaluate_best_parameters_on_instances(test_instances, study_multiple_instances_pruning )\n",
    "\n",
    "\n",
    "\n",
    "df_results"
   ]
  },
  {
   "cell_type": "code",
   "execution_count": null,
   "metadata": {
    "scrolled": false,
    "slideshow": {
     "slide_type": "-"
    }
   },
   "outputs": [],
   "source": [
    "df_results"
   ]
  },
  {
   "cell_type": "markdown",
   "metadata": {
    "slideshow": {
     "slide_type": "-"
    }
   },
   "source": [
    "..we can see that the early stopping was much faster, but we obtained similar (even better) results."
   ]
  },
  {
   "cell_type": "markdown",
   "metadata": {
    "slideshow": {
     "slide_type": "slide"
    }
   },
   "source": [
    "## Conclusions\n",
    "\n",
    "**In this meeting, we dealt with algorithm configuration**\n",
    "- we learned about the key concepts of algorithm configuration\n",
    "- and learned how to address the key challenges in automatic algorithm configuration\n",
    "\n",
    "**This was the last meeting of our course!**\n",
    "- thank you very much for your active participation!"
   ]
  }
 ],
 "metadata": {
  "celltoolbar": "Slideshow",
  "kernelspec": {
   "display_name": "Python [conda env:cords2024]",
   "language": "python",
   "name": "conda-env-cords2024-py"
  },
  "language_info": {
   "codemirror_mode": {
    "name": "ipython",
    "version": 3
   },
   "file_extension": ".py",
   "mimetype": "text/x-python",
   "name": "python",
   "nbconvert_exporter": "python",
   "pygments_lexer": "ipython3",
   "version": "3.10.14"
  }
 },
 "nbformat": 4,
 "nbformat_minor": 4
}
