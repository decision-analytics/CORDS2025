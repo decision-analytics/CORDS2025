{
 "cells": [
  {
   "cell_type": "markdown",
   "metadata": {
    "slideshow": {
     "slide_type": "slide"
    }
   },
   "source": [
    "<img src=\"img/logo_wiwi_en_.png\" width=\"30%\" align=\"left\">\n",
    "\n",
    "<img src=\"img/decision_analytics_logo.png\" width=\"17%\" align=\"right\">\n",
    "\n",
    "\n",
    "\n",
    "<br><br><br><br><br><br><br><br>\n",
    "\n",
    "\n",
    "\n",
    "# Combining OR and Data Science\n",
    "\n",
    "**Summer Term 2025**\n",
    "\n",
    "\n",
    "# 8. Algorithm Configuration\n",
    "\n",
    "\n",
    "<br>\n",
    "\n",
    "<br>\n",
    "<br>\n",
    "\n",
    "**J-Prof. Dr. Michael Römer**\n",
    "\n",
    "**Decision Analytics Group  | Bielefeld University**\n"
   ]
  },
  {
   "cell_type": "code",
   "execution_count": 1,
   "metadata": {
    "slideshow": {
     "slide_type": "skip"
    }
   },
   "outputs": [],
   "source": [
    "# Import packages.\n",
    "import numpy as np\n",
    "import scipy.stats as stats\n",
    "import matplotlib.pyplot as plt\n",
    "from mip import *\n",
    "\n",
    "from mip.cbc import cbc_set_parameter\n",
    "\n",
    "from IPython.display import display, HTML\n",
    "\n",
    "import time\n",
    "\n",
    "import pandas as pd\n",
    "\n"
   ]
  },
  {
   "cell_type": "code",
   "execution_count": 2,
   "metadata": {
    "slideshow": {
     "slide_type": "skip"
    }
   },
   "outputs": [
    {
     "data": {
      "text/html": [
       "<style>\n",
       "/* Any CSS style can go in here. */\n",
       ".dataframe th {\n",
       "    font-size: 25px;\n",
       "}\n",
       ".dataframe td {\n",
       "    font-size: 25px;\n",
       "}\n",
       "</style>\n"
      ],
      "text/plain": [
       "<IPython.core.display.HTML object>"
      ]
     },
     "metadata": {},
     "output_type": "display_data"
    }
   ],
   "source": [
    "%%html\n",
    "<style>\n",
    "/* Any CSS style can go in here. */\n",
    ".dataframe th {\n",
    "    font-size: 25px;\n",
    "}\n",
    ".dataframe td {\n",
    "    font-size: 25px;\n",
    "}\n",
    "</style>"
   ]
  },
  {
   "cell_type": "markdown",
   "metadata": {
    "hide_input": true,
    "slideshow": {
     "slide_type": "slide"
    }
   },
   "source": [
    "## Motivation: Consider a Race Car..\n",
    "\n",
    "![race_car](img/race_car_parameter.jpg)\n",
    "\n",
    "- a race car has lots of design parameters / settings to be decided upon\n",
    "- there is not a single best car configuration\n",
    "  - for each race track\n",
    "  - for all weather conditions\n"
   ]
  },
  {
   "cell_type": "markdown",
   "metadata": {
    "slideshow": {
     "slide_type": "slide"
    }
   },
   "source": [
    "## Tuning Algorithm Parameters\n",
    "\n",
    "Like race cars, algorithms have many parameters that influence their performance:\n",
    "\n",
    "![algo_config](img/parameters_algorithm.png)"
   ]
  },
  {
   "cell_type": "markdown",
   "metadata": {
    "slideshow": {
     "slide_type": "fragment"
    }
   },
   "source": [
    "- with good parameter settings, problems can be solved faster (or better)"
   ]
  },
  {
   "cell_type": "markdown",
   "metadata": {
    "slideshow": {
     "slide_type": "slide"
    }
   },
   "source": [
    "## This Meeting: Algorithm Configuration\n",
    "\n",
    "\n",
    "**In this meeting**, we deal with **algorithm configuration**\n",
    "\n",
    "- understanding the relevance of algorithm configuration\n",
    "- basic ideas and concepts\n",
    "- introducing a case study\n",
    "- automating algorithm configuration using black box (Bayesian) optimization\n",
    "- addressing key challenges in algorithm configuration:\n",
    "  - avoiding overfitting\n",
    "  - reducing configuration time\n",
    "\n"
   ]
  },
  {
   "cell_type": "markdown",
   "metadata": {
    "slideshow": {
     "slide_type": "slide"
    }
   },
   "source": [
    "## Case Study: Solving Chance-Constrained Programs Faster\n",
    "\n",
    "- imagine a consulting project with a small belt manufacturing company where we\n",
    "  want to use **joint chance constrained programming** (CCP) (see part 6 for the implementation)\n",
    "- CCP models with binary variables can be very hard to solve \n",
    "- commercial solvers are very powerful, but only free for academic use\n",
    "  - for small commercial projects, they tend to be too expensive:\n",
    "     **a single Gurobi license is about $ 10 000**\n",
    "- we will instead use the **open source** solver **CBC**"
   ]
  },
  {
   "cell_type": "markdown",
   "metadata": {
    "slideshow": {
     "slide_type": "fragment"
    }
   },
   "source": [
    "#### How can we improve CBC's performace?\n",
    "- use algorithm configuration to improve CBC's performance for CCP models with 200 scenarios\n",
    "- we would like to achieve a similar performance as Gurobi \n",
    "  - in my tests, Gurobi was about 3x as fast as CBC"
   ]
  },
  {
   "cell_type": "markdown",
   "metadata": {
    "slideshow": {
     "slide_type": "slide"
    }
   },
   "source": [
    "## Case Study: Uncertain Availability of Time and Leather\n",
    "- in the case study, we assume that both time and leather availability is uncertain \n",
    "- there is no possibility to resort to extra hours\n",
    "- we want to find a production plan that is feasible with probability of 95\\% \n",
    "\n",
    "We create 200 samples for both time and leather:"
   ]
  },
  {
   "cell_type": "code",
   "execution_count": 3,
   "metadata": {
    "cell_style": "center",
    "hide_input": true,
    "scrolled": true,
    "slideshow": {
     "slide_type": "-"
    }
   },
   "outputs": [
    {
     "data": {
      "image/png": "[encoded data removed]",
      "text/plain": [
       "<Figure size 1200x480 with 2 Axes>"
      ]
     },
     "metadata": {},
     "output_type": "display_data"
    }
   ],
   "source": [
    "n_scenarios = 200\n",
    "np.random.seed(seed=1)\n",
    "time_available_dist = stats.norm(1000,150)\n",
    "leather_available_dist = stats.norm(800,100)\n",
    "\n",
    "samples_time_available = time_available_dist.rvs(n_scenarios)\n",
    "samples_leather_available = leather_available_dist.rvs(n_scenarios)\n",
    "\n",
    "fig, (ax1,ax2) = plt.subplots(1, 2,figsize=(12, 4.8), constrained_layout=True)\n",
    "fig.suptitle(\"Samples from the distributions of the uncertain model parameters\")\n",
    "ax1.set_ylabel(\"probability\")\n",
    "\n",
    "ax1.set_title(\"time\")\n",
    "count, bins, ignored = ax1.hist( samples_time_available , bins=30, density=True, color='#EEEEEE', edgecolor=\"#AAAAAA\")\n",
    "ax1.set_xlabel(\"available time\")\n",
    "\n",
    "ax2.set_title(\"leather\")\n",
    "count, bins, ignored = ax2.hist( samples_leather_available , bins=30, density=True, color='#EEEEEE', edgecolor=\"#AAAAAA\")\n",
    "ax2.set_xlabel(\"available leather\")\n",
    "plt.show()"
   ]
  },
  {
   "cell_type": "markdown",
   "metadata": {
    "slideshow": {
     "slide_type": "slide"
    }
   },
   "source": [
    "## Case Study: Python Implementation of the Model Creation\n",
    "Below, the creation of the mathematical is wrapped into a function that takes\n",
    "- the time and leather samples\n",
    "- and the solver \n",
    "as parameters\n",
    "\n"
   ]
  },
  {
   "cell_type": "code",
   "execution_count": 4,
   "metadata": {
    "slideshow": {
     "slide_type": "-"
    }
   },
   "outputs": [],
   "source": [
    "def build_model_with_samples(samples_time_available, samples_leather_available, solver):    \n",
    "    n_scenarios = len(samples_time_available)    \n",
    "    scenarios = np.arange(n_scenarios)\n",
    "    #sets\n",
    "    belt_types = np.arange(2)\n",
    "    #deterministic parameters\n",
    "    profit_contribution = [2, 1.5]\n",
    "    time_consumption = [2, 1]\n",
    "    bucks_available = [400, 700]\n",
    "\n",
    "    #probability of each scenario\n",
    "    prob = np.full((n_scenarios), 1.0/n_scenarios)\n",
    "    alpha = 0.95\n",
    "    #bigM is used for switching off constraints by adding it to the resource capacity in a scenario\n",
    "    #if it is chosen as difference between the max and min capacity, it is definitely large enough to switch off the constraint\n",
    "    bigM = [max(samples_time_available)-min(samples_time_available),max(samples_leather_available)-min(samples_leather_available)]\n",
    "        \n",
    "    m = Model(solver_name=solver)  \n",
    "    production = [ m.add_var(var_type=INTEGER) for i in belt_types ] # production variable \n",
    "    is_scenario_violated =  [ m.add_var(var_type=BINARY) for s in scenarios ] # binary variable indicating if scenario is vilated or not\n",
    "\n",
    "    m.objective =  maximize( xsum(profit_contribution[b] * production[b] for b in belt_types) ) # objective function\n",
    "\n",
    "    for s in scenarios:\n",
    "        m += sum (time_consumption[b]*production[b] for b in belt_types) <= samples_time_available[s] + bigM[0]*(is_scenario_violated[s]) # chance constraint for time\n",
    "        m += sum (production[b] for b in belt_types) <= samples_leather_available[s] + bigM[1]*(is_scenario_violated[s]) # chance constraint for leather\n",
    "   \n",
    "    m += sum ( prob[s]*is_scenario_violated[s] for s in scenarios) <= 1-alpha   # enforcing the maximium allowed violation probability\n",
    "\n",
    "    return m"
   ]
  },
  {
   "cell_type": "markdown",
   "metadata": {
    "slideshow": {
     "slide_type": "slide"
    }
   },
   "source": [
    "## Let us Try the Different Solvers\n",
    "- CBC"
   ]
  },
  {
   "cell_type": "code",
   "execution_count": 5,
   "metadata": {
    "slideshow": {
     "slide_type": "-"
    }
   },
   "outputs": [
    {
     "name": "stdout",
     "output_type": "stream",
     "text": [
      "Solution time with CBC: 1.29 seconds\n"
     ]
    }
   ],
   "source": [
    "model_instance_cbc = build_model_with_samples(samples_time_available, samples_leather_available, solver=CBC)\n",
    "\n",
    "start = time.time()\n",
    "\n",
    "model_instance_cbc.optimize()\n",
    "\n",
    "print (f'Solution time with CBC: {time.time()-start:0.2f} seconds' )"
   ]
  },
  {
   "cell_type": "markdown",
   "metadata": {
    "slideshow": {
     "slide_type": "fragment"
    }
   },
   "source": [
    "- Gurobi"
   ]
  },
  {
   "cell_type": "code",
   "execution_count": 6,
   "metadata": {
    "slideshow": {
     "slide_type": "-"
    }
   },
   "outputs": [
    {
     "name": "stdout",
     "output_type": "stream",
     "text": [
      "Solution time with Gurobi: 0.15 seconds\n"
     ]
    }
   ],
   "source": [
    "model_instance_gurobi = build_model_with_samples(samples_time_available, samples_leather_available, solver=GRB)\n",
    "\n",
    "start = time.time()\n",
    "\n",
    "model_instance_gurobi.optimize()\n",
    "\n",
    "print (f'Solution time with Gurobi: {time.time()-start:0.2f} seconds' )\n"
   ]
  },
  {
   "cell_type": "markdown",
   "metadata": {
    "slideshow": {
     "slide_type": "-"
    }
   },
   "source": [
    "**Question: Can we tune the (free) solver CBC to become competitive with Gurobi for this problem?**"
   ]
  },
  {
   "cell_type": "markdown",
   "metadata": {
    "slideshow": {
     "slide_type": "slide"
    }
   },
   "source": [
    "# Algorithm Configuration Basics"
   ]
  },
  {
   "cell_type": "markdown",
   "metadata": {
    "slideshow": {
     "slide_type": "slide"
    }
   },
   "source": [
    "## What are Parameters?\n",
    "\n",
    "Parameters are settings of an algorithm (or solver) that change the\n",
    "way an algorithm solves a problem."
   ]
  },
  {
   "cell_type": "markdown",
   "metadata": {
    "slideshow": {
     "slide_type": "slide"
    }
   },
   "source": [
    "\n",
    "## What are Parameters?\n",
    "\n",
    "\n",
    "Parameters are settings of an algorithm (or solver) that change the\n",
    "way an algorithm solves a problem.\n",
    "\n",
    "### There are configurable and non-configurable parameters:\n",
    "\n"
   ]
  },
  {
   "cell_type": "markdown",
   "metadata": {
    "cell_style": "split",
    "slideshow": {
     "slide_type": "-"
    }
   },
   "source": [
    "**Configurable**\n",
    "- simulated annealing start temperature\n",
    "- population size in a genetic algorithm (GA)\n",
    "- branching heuristic in Branch-and-Bound \n",
    "- probability of a GA mutation"
   ]
  },
  {
   "cell_type": "markdown",
   "metadata": {
    "cell_style": "split",
    "slideshow": {
     "slide_type": "-"
    }
   },
   "source": [
    "**Non-Configurable**\n",
    "- random seed\n",
    "- instance to be solved\n",
    "- numerical accuracy in an exact solver\n",
    "- maximum solution time\n"
   ]
  },
  {
   "cell_type": "markdown",
   "metadata": {
    "slideshow": {
     "slide_type": "slide"
    }
   },
   "source": [
    "## Parameter Types\n",
    "\n",
    "\n",
    "- Continuous: e.g. $[1.0, 5.0]$\n",
    "- Discrete: e.g. $\\{1, \\dots, 10\\}$\n",
    "- Categorical: e.g. $\\{a, b, c, d\\}$\n",
    "- Ordinal: e.g. $\\{low, medium, high\\}$ (Ordered set)\n"
   ]
  },
  {
   "cell_type": "markdown",
   "metadata": {
    "slideshow": {
     "slide_type": "slide"
    }
   },
   "source": [
    "\n",
    "## Parameter Examples: Genetic Algorithm\n",
    "A genetic algorithm could have the following parameters:\n",
    "\n",
    "\n",
    "| Parameter      | Description                               |Considered values    |\n",
    "|:--------------------|:-------------------------------------------|:----------------------------|\n",
    "| $$\\color{cyan} {\\textsf{ population }}$$ | Population size    | 1..infinity                      |\n",
    "| $$\\color{red} {\\textsf{recombProb }}$$ | Recombination probability| 0-1.0                       |\n",
    "| $$\\color{red} {\\textsf{mutProb }}$$    |  Mutation probability          | 0-1.0                |\n",
    "| $$\\color{green} {\\textsf{select   }}$$    | Selection heuristic             | 'Roulette', 'Tournament', 'Random'       |\n",
    "| $$\\color{green}{\\textsf{fitness-scaling  }}$$    | Use fitness scaling?     | 'yes', 'no'              |\n",
    "\n",
    "$$\\color{cyan}{\\textsf{discrete }}, \\color{red}{\\textsf{continuous}}, \\color{green}{\\textsf{categorical}}$$"
   ]
  },
  {
   "cell_type": "markdown",
   "metadata": {
    "slideshow": {
     "slide_type": "slide"
    }
   },
   "source": [
    "## MIP Solver Parameters Used in our Case Study\n",
    "In our case study, we will configure the MIP solver *CBC*\n",
    "- CBC has many parameters, but we will only use a subset\n",
    "- we will use the following parameters for configuration:\n",
    "\n",
    "\n",
    "| Parameter      | Description                               |Considered values    |\n",
    "|:--------------------|:-------------------------------------------|:----------------------------|\n",
    "| $$\\color{green}{\\textsf{nodeStrategy}}$$    | Strategy for selecting nodes to branch on   | 'depth', 'fewest','hybrid' |\n",
    "| $$\\color{cyan} {\\textsf{ strongBranching }}$$ | # vars. to consider in strong branching     | 0-10                       |\n",
    "| $$\\color{cyan} {\\textsf{trustPseudoCosts }}$$ | str. br. evals before trusting pseudo costs | 0-10                       |\n",
    "| $$\\color{green} {\\textsf{preprocess }}$$    | Switch for model preprocessing              | 'on', 'off'                |\n",
    "| $$\\color{green} {\\textsf{presolve   }}$$    | Switch for presolve reductions              | 'on', 'off','sos'          |\n",
    "| $$\\color{green}{\\textsf{cutsOnOff   }}$$    | Switch for cut generation (all cuts)        | 'on', 'off'                |\n",
    "| $$\\color{green}{\\textsf{ heuristicsOnOff }}$$ | Turn (all) heuristics on/off                | 'on', 'off'             |\n",
    "\n",
    "$$\\color{cyan}{\\textsf{discrete }}, \\color{red}{\\textsf{continuous}}, \\color{green}{\\textsf{categorical}}$$"
   ]
  },
  {
   "cell_type": "markdown",
   "metadata": {
    "slideshow": {
     "slide_type": "slide"
    }
   },
   "source": [
    "## Let us Start Playing with CBC Parameters in our Case Study\n",
    "\n",
    "- first, we write a function for setting parameters\n"
   ]
  },
  {
   "cell_type": "code",
   "execution_count": 7,
   "metadata": {
    "slideshow": {
     "slide_type": "-"
    }
   },
   "outputs": [],
   "source": [
    "def set_cbc_parameter(model_instance, parameter, value):\n",
    "    cbc_set_parameter(model_instance.solver,parameter,str(value)) # the function cbc_set parameter only takes string, we thus convert numbers to strings here\n",
    "  "
   ]
  },
  {
   "cell_type": "markdown",
   "metadata": {
    "slideshow": {
     "slide_type": "fragment"
    }
   },
   "source": [
    "- now, we try out the parameter 'node_strategy' to 'depth'\n",
    "- observe: we first make a copy to avoid that CBC uses a *warm start*, that is, starts from the previous state"
   ]
  },
  {
   "cell_type": "code",
   "execution_count": 8,
   "metadata": {
    "slideshow": {
     "slide_type": "-"
    }
   },
   "outputs": [
    {
     "name": "stdout",
     "output_type": "stream",
     "text": [
      "Solution time: 1.26 seconds\n"
     ]
    }
   ],
   "source": [
    "model_instance_cbc = model_instance_cbc.copy() # reset the model to a fresh state (to avoid warm start!)\n",
    "\n",
    "set_cbc_parameter(model_instance_cbc, 'node_strategy','few') # as an example, let us try depth-first-search\n",
    "\n",
    "start = time.time()\n",
    "model_instance_cbc.optimize()\n",
    "print (f'Solution time: {time.time()-start:0.2f} seconds' )\n"
   ]
  },
  {
   "cell_type": "markdown",
   "metadata": {
    "slideshow": {
     "slide_type": "slide"
    }
   },
   "source": [
    "## Making Experimentation Easier: An Evaluation Function\n",
    "\n",
    "- we write a function that takes a model instance and a set of named parameter-value pairs\n",
    "- and performs the complete evaluation based on a threshold of 30 seconds (returning the PAR10-performance, that is 10\\*30 in case of timeout"
   ]
  },
  {
   "cell_type": "code",
   "execution_count": 9,
   "metadata": {
    "slideshow": {
     "slide_type": "-"
    }
   },
   "outputs": [],
   "source": [
    "def evaluate_parameters_on_instance(model_instance, **params):\n",
    "\n",
    "    model = model_instance.copy() # we make a copy of the model here since    \n",
    "    model.seed = 42 # set the seed to make multiple runs comparable\n",
    "    \n",
    "    for param, value in params.items(): # iterate over the names and values of the parameters\n",
    "        cbc_set_parameter(model.solver,param,str(value)) # the function cbc_set parameter takes only strings\n",
    "        \n",
    "    time_limit_seconds = 30 \n",
    "    start = time.time()    \n",
    "    status = model.optimize(max_seconds=time_limit_seconds) # we set the runtime limit to 30\n",
    "    \n",
    "    if status == OptimizationStatus.OPTIMAL:    \n",
    "        return (time.time()-start)    \n",
    "    else: #  if the limit is exceeded, we return the time_limit *10, this is the PAR10 logic   \n",
    "        return time_limit_seconds * 10"
   ]
  },
  {
   "cell_type": "markdown",
   "metadata": {
    "slideshow": {
     "slide_type": "fragment"
    }
   },
   "source": [
    "- let's see this in action:"
   ]
  },
  {
   "cell_type": "code",
   "execution_count": 10,
   "metadata": {
    "slideshow": {
     "slide_type": "-"
    }
   },
   "outputs": [
    {
     "name": "stdout",
     "output_type": "stream",
     "text": [
      "Solution time: 1.10 seconds\n",
      "Solution time: 0.98 seconds\n"
     ]
    }
   ],
   "source": [
    "performance = evaluate_parameters_on_instance(model_instance_cbc, nodeStrategy='few', heuristicsOnOff='off', preprocess='off')\n",
    "print (f'Solution time: {performance:0.2f} seconds' )\n",
    "\n",
    "performance = evaluate_parameters_on_instance(model_instance_cbc, nodeStrategy='hybrid', heuristicsOnOff='off', 𝗌𝗍𝗋𝗈𝗇𝗀𝖡𝗋𝖺𝗇𝖼𝗁𝗂𝗇𝗀 =0.4, presolve='off', preprocess='off', 𝗍𝗋𝗎𝗌𝗍𝖯𝗌𝖾𝗎𝖽𝗈𝖢𝗈𝗌𝗍𝗌=0)\n",
    "print (f'Solution time: {performance:0.2f} seconds' )"
   ]
  },
  {
   "cell_type": "markdown",
   "metadata": {
    "slideshow": {
     "slide_type": "slide"
    }
   },
   "source": [
    "## Exercise: Play with the Parameters!\n",
    "\n",
    "Play with the following parameters! What is your best parameter combination?\n",
    "\n",
    "| Parameter      | Description                               |Considered values    |\n",
    "|:--------------------|:-------------------------------------------|:----------------------------|\n",
    "| $$\\color{green}{\\textsf{nodeStrategy}}$$    | Strategy for selecting nodes to branch on   | 'depth', 'fewest','hybrid' |\n",
    "| $$\\color{cyan} {\\textsf{ strongBranching }}$$ | # vars. to consider in strong branching     | 0-10                       |\n",
    "| $$\\color{cyan} {\\textsf{trustPseudoCosts }}$$ | str. br. evals before trusting pseudo costs | 0-10                       |\n",
    "| $$\\color{green} {\\textsf{preprocess }}$$    | Switch for model preprocessing              | 'on', 'off'                |\n",
    "| $$\\color{green} {\\textsf{presolve   }}$$    | Switch for presolve reductions              | 'on', 'off','sos'          |\n",
    "| $$\\color{green}{\\textsf{cutsOnOff   }}$$    | Switch for cut generation (all cuts)        | 'on', 'off'                |\n",
    "| $$\\color{green}{\\textsf{ heuristicsOnOff }}$$ | Turn (all) heuristics on/off                | 'on', 'off'             |\n",
    "\n",
    "$$\\color{cyan}{\\textsf{discrete }}, \\color{red}{\\textsf{continuous}}, \\color{green}{\\textsf{categorical}}$$"
   ]
  },
  {
   "cell_type": "code",
   "execution_count": 11,
   "metadata": {},
   "outputs": [
    {
     "name": "stdout",
     "output_type": "stream",
     "text": [
      "Solution time: 0.71 seconds\n"
     ]
    }
   ],
   "source": [
    "performance = evaluate_parameters_on_instance(model_instance_cbc, nodeStrategy='fewest',cutsOnOff='off', strongBranching=2)\n",
    "print (f'Solution time: {performance:0.2f} seconds' )"
   ]
  },
  {
   "cell_type": "markdown",
   "metadata": {
    "slideshow": {
     "slide_type": "slide"
    }
   },
   "source": [
    "## Why Bothering with Algorithm Configuration?\n",
    "\n",
    "**Why would we care about algorithm configuration?**\n",
    "- in many cases, algorithms are not only used once, but are part of a repeating planning workflow\n",
    "  - e.g. monthly staff scheduling, daily power plant dispatch\n",
    "- in these cases, the instance to solve are very similar\n",
    "- sometimes, runtime is critical to allow testing multiple scenarios\n",
    "- in many cases, configuration can lead to big runtime reductions\n",
    "  - often, only a fraction (say, 1/10) of original runtime is needed\n",
    "    after configuration\n",
    "    "
   ]
  },
  {
   "cell_type": "markdown",
   "metadata": {
    "slideshow": {
     "slide_type": "slide"
    }
   },
   "source": [
    "## Goals of Algorithm Configuration\n",
    "\n",
    "There are two main types of algorithm configuration:\n",
    "\n",
    "<div class=\"alert alert-block alert-info\">\n",
    "<b>Runtime configuration</b> <br> \n",
    "<li>Concerned with minimizing the runtime of a target algorithm.\n",
    "</div>\n",
    "\n",
    "<div class=\"alert alert-block alert-danger\">\n",
    "<b>Quality configuration</b> <br> \n",
    "<li>Concerned with minimizing an objective function seen only through the evaluation of an algorithm.\n",
    "<li> This is generally the fitness/objective function of an optimization algorithm or the solution of a simulation.\n",
    "</div>\n"
   ]
  },
  {
   "cell_type": "markdown",
   "metadata": {
    "slideshow": {
     "slide_type": "slide"
    }
   },
   "source": [
    "## Offline Configuration and  Online Application\n",
    "\n",
    "\n",
    "![off_on](img/algorithm_configuration_offline_online.png)\n",
    "\n",
    "\n"
   ]
  },
  {
   "cell_type": "markdown",
   "metadata": {
    "slideshow": {
     "slide_type": "slide"
    }
   },
   "source": [
    "## Homogeneous vs Heterogeneous Instance Sets\n",
    "#### Homogeneous datasets\n",
    "*Homogeneous instance sets* contain instances with similar structures, allowing algorithms to use similar parameters on all of the instances to solve them.\n",
    "\n",
    "\n",
    "#### Heterogeneous instance sets\n",
    "*Heterogeneous instance sets* consist of two or more homogeneous sub-sets, but which instance belongs to which sub-set is unclear. Different parameter values are required for different instances.\n",
    "\n",
    "$\\rightarrow$ This case may require a combination of algorithm selection (e.g. based on clustering) and algorithm configuration!\n"
   ]
  },
  {
   "cell_type": "markdown",
   "metadata": {
    "slideshow": {
     "slide_type": "slide"
    }
   },
   "source": [
    "## Manual Configuration?\n",
    "\n",
    "Can't we just **manually** tune parameters? \n",
    "\n",
    "We can, but it is\n",
    "- time-consuming\n",
    "- error-prone and \n",
    "- tedious"
   ]
  },
  {
   "cell_type": "code",
   "execution_count": 12,
   "metadata": {
    "slideshow": {
     "slide_type": "-"
    }
   },
   "outputs": [
    {
     "name": "stdout",
     "output_type": "stream",
     "text": [
      "Solution time: 1.07 seconds\n",
      "Solution time: 1.22 seconds\n",
      "Solution time: 1.26 seconds\n"
     ]
    }
   ],
   "source": [
    "performance = evaluate_parameters_on_instance(model_instance_cbc, nodeStrategy='hybrid', heuristicsOnOff='off')\n",
    "print (f'Solution time: {performance:0.2f} seconds' )\n",
    "\n",
    "performance = evaluate_parameters_on_instance(model_instance_cbc, nodeStrategy='hybrid', heuristicsOnOff='on')\n",
    "print (f'Solution time: {performance:0.2f} seconds' )\n",
    "\n",
    "performance = evaluate_parameters_on_instance(model_instance_cbc, nodeStrategy='fewest', heuristicsOnOff='on')\n",
    "print (f'Solution time: {performance:0.2f} seconds' )"
   ]
  },
  {
   "cell_type": "markdown",
   "metadata": {
    "slideshow": {
     "slide_type": "slide"
    }
   },
   "source": [
    "In many cases, it is more effective to **automate** algorithm\n",
    "configuration!"
   ]
  },
  {
   "cell_type": "markdown",
   "metadata": {
    "slideshow": {
     "slide_type": "slide"
    }
   },
   "source": [
    "# Automating the Configuration of Algorithms"
   ]
  },
  {
   "cell_type": "markdown",
   "metadata": {
    "slideshow": {
     "slide_type": "slide"
    }
   },
   "source": [
    "##  Automating the Configuration of Algorithms\n",
    "\n",
    "The goal of the following part is to get an introduction to the topic of\n",
    "**algorithm configuration**\n",
    "\n",
    "In particular,  will discuss\n",
    "- the idea and the challenges of automatic algorithm configuration\n",
    "- how to use black box (Bayesian) optimization for automatic algorithm configuration\n",
    "- how to address the challenge of overfitting\n",
    "- how to speed up algorithm configuration by using early stopping\n",
    "\n",
    "As in the last weeks, we will\n",
    "- use a case study (see above) to illustrate the concepts learned\n",
    "- provide implementations of an algorithm configuration approach for\n",
    "  this case study in this Jupyter Notebook\n"
   ]
  },
  {
   "cell_type": "markdown",
   "metadata": {
    "slideshow": {
     "slide_type": "slide"
    }
   },
   "source": [
    "## Automatic Algorithm Configuration: The Idea and the Challenges"
   ]
  },
  {
   "cell_type": "markdown",
   "metadata": {
    "slideshow": {
     "slide_type": "slide"
    }
   },
   "source": [
    "## Automatic Algorithm Configuration\n",
    "\n",
    "- automatic algorithm configurators **automatically** try different parameter settings on selected instances and measure the performance of the target algorithm. \n",
    "- they perform the search in a somewhat intelligent way\n",
    "\n",
    "![off_on](img/automatic_algorithm_configuration.png)\n"
   ]
  },
  {
   "cell_type": "markdown",
   "metadata": {
    "slideshow": {
     "slide_type": "slide"
    }
   },
   "source": [
    "## Challenges\n",
    "\n",
    "#### Automated algorithm configurators have to overcome the following challenges (among many others):\n",
    "- Which instances to evaluate parameterizations on\n",
    "- Which parameterizations to test\n",
    "- Testing parameterizations is **expensive**\n",
    "- Big risk of overfitting"
   ]
  },
  {
   "cell_type": "markdown",
   "metadata": {
    "slideshow": {
     "slide_type": "fragment"
    }
   },
   "source": [
    "#### Why is algorithm configuration different from other optimization problems?\n",
    "- The objective function in most metaheuristics is easy to evaluate (that is: fast)\n",
    "\n",
    "-  Algorithm configurators must execute the target algorithm with a parameterization **on multiple instances** to evaluate it."
   ]
  },
  {
   "cell_type": "markdown",
   "metadata": {
    "slideshow": {
     "slide_type": "slide"
    }
   },
   "source": [
    "## Addressing the Challenges of Algorithm Configuration: Case Study\n",
    "\n",
    "\n",
    "In the remainder of this meeting, we will see how we can address some of\n",
    "the challenges using \"standard\" tools in our case study:\n",
    "\n",
    "\n",
    "\n",
    "- using **Bayesian Optimization** to search the space of configurations\n",
    "- optimize using **multiple training instances** to avoid overfitting\n",
    "- use a simple **early stopping strategy** to reduce the time spent evaluating bad configurations\n"
   ]
  },
  {
   "cell_type": "markdown",
   "metadata": {
    "slideshow": {
     "slide_type": "slide"
    }
   },
   "source": [
    "# Using Black Box (Bayesian) Optimization for Algorithm Configuration"
   ]
  },
  {
   "cell_type": "markdown",
   "metadata": {
    "slideshow": {
     "slide_type": "slide"
    }
   },
   "source": [
    "## Black Box Optimization using Bayesian Optimization\n",
    "\n",
    "A **black box optimizer** treats the optimization problem as \"black box\"\n",
    "- it does not make any assumption regarding problem structure (e.g. linearity)\n",
    "- it only requires a mechanism that returns the value of a solution / configuration"
   ]
  },
  {
   "cell_type": "markdown",
   "metadata": {
    "slideshow": {
     "slide_type": "fragment"
    }
   },
   "source": [
    "**Key Idea of Bayesian Optimization**\n",
    "- use a machine learning model (mostly: Gaussian Processes) as a\n",
    "  surrogate model for the configuration space\n",
    "- initialize the model using few (e.g. random) configurations\n",
    "- update the surrogate model after each new evaluation"
   ]
  },
  {
   "cell_type": "markdown",
   "metadata": {
    "heading_collapsed": true,
    "slideshow": {
     "slide_type": "slide"
    }
   },
   "source": [
    "## Illustrating Bayesian Optimization\n",
    "\n",
    "**Key Idea of Bayesian Optimization**\n",
    "- use a machine learning model (mostly: Gaussian Processes) as a\n",
    "  surrogate model for the configuration space\n",
    "- initialize the model using few (e.g. random) configurations\n",
    "- update the surrogate model after each new evaluation\n",
    "\n",
    "![BO](img/BO-0.png)\n",
    "\n",
    "Source: https://distill.pub/2020/bayesian-optimization/"
   ]
  },
  {
   "cell_type": "markdown",
   "metadata": {
    "slideshow": {
     "slide_type": "slide"
    }
   },
   "source": [
    "## Illustrating Bayesian Optimization\n",
    "\n",
    "**Key Idea of Bayesian Optimization**\n",
    "- use a machine learning model (mostly: Gaussian Processes) as a\n",
    "  surrogate model for the configuration space\n",
    "- initialize the model using few (e.g. random) configurations\n",
    "- update the surrogate model after each new evaluation\n",
    "\n",
    "![BO](img/BO-1.png)\n",
    "\n",
    "Source: https://distill.pub/2020/bayesian-optimization/"
   ]
  },
  {
   "cell_type": "markdown",
   "metadata": {
    "slideshow": {
     "slide_type": "slide"
    }
   },
   "source": [
    "## Illustrating Bayesian Optimization\n",
    "\n",
    "**Key Idea of Bayesian Optimization**\n",
    "- use a machine learning model (mostly: Gaussian Processes) as a\n",
    "  surrogate model for the configuration space\n",
    "- initialize the model using few (e.g. random) configurations\n",
    "- update the surrogate model after each new evaluation\n",
    "\n",
    "![BO](img/BO-2.png)\n",
    "\n",
    "Source: https://distill.pub/2020/bayesian-optimization/"
   ]
  },
  {
   "cell_type": "markdown",
   "metadata": {
    "slideshow": {
     "slide_type": "slide"
    }
   },
   "source": [
    "## Illustrating Bayesian Optimization\n",
    "\n",
    "**Key Idea of Bayesian Optimization**\n",
    "- use a machine learning model (mostly: Gaussian Processes) as a\n",
    "  surrogate model for the configuration space\n",
    "- initialize the model using few (e.g. random) configurations\n",
    "- update the surrogate model after each new evaluation\n",
    "\n",
    "![BO](img/BO-3.png)\n",
    "\n",
    "Source: https://distill.pub/2020/bayesian-optimization/"
   ]
  },
  {
   "cell_type": "markdown",
   "metadata": {
    "slideshow": {
     "slide_type": "slide"
    }
   },
   "source": [
    "## Illustrating Bayesian Optimization\n",
    "\n",
    "**Key Idea of Bayesian Optimization**\n",
    "- use a machine learning model (mostly: Gaussian Processes) as a\n",
    "  surrogate model for the configuration space\n",
    "- initialize the model using few (e.g. random) configurations\n",
    "- update the surrogate model after each new evaluation\n",
    "\n",
    "![BO](img/BO-4.png)\n",
    "\n",
    "Source: https://distill.pub/2020/bayesian-optimization/"
   ]
  },
  {
   "cell_type": "markdown",
   "metadata": {
    "slideshow": {
     "slide_type": "slide"
    }
   },
   "source": [
    "## Illustrating Bayesian Optimization\n",
    "\n",
    "**Key Idea of Bayesian Optimization**\n",
    "- use a machine learning model (mostly: Gaussian Processes) as a\n",
    "  surrogate model for the configuration space\n",
    "- initialize the model using few (e.g. random) configurations\n",
    "- update the surrogate model after each new evaluation\n",
    "\n",
    "![BO](img/BO-5.png)\n",
    "Source: https://distill.pub/2020/bayesian-optimization/"
   ]
  },
  {
   "cell_type": "markdown",
   "metadata": {
    "slideshow": {
     "slide_type": "slide"
    }
   },
   "source": [
    "## Optuna: A Package for Black Box/Hyperparameter Optimization\n",
    "\n",
    "A **black box optimizer** treats the optimization problem as \"black box\"\n",
    "- it does not make any assumption regarding problem structure (e.g. linearity)\n",
    "- it only requires a mechanism that returns the value of a solution / configuration\n",
    "\n"
   ]
  },
  {
   "cell_type": "markdown",
   "metadata": {
    "slideshow": {
     "slide_type": "fragment"
    }
   },
   "source": [
    "**Optuna** https://optuna.org/\n",
    "- is a package for black box / hyperparameter optimization with different methods, in particular:\n",
    "  - Grid Search \n",
    "  - **Bayesian Optimization** with Gaussian Processes\n",
    "  - tree-based sampling\n",
    "- it can also be used for hyperparameter tuning of machine learning models"
   ]
  },
  {
   "cell_type": "markdown",
   "metadata": {
    "slideshow": {
     "slide_type": "fragment"
    }
   },
   "source": [
    "..there are similar packages such as scikit-optimize (not developed any longer)"
   ]
  },
  {
   "cell_type": "markdown",
   "metadata": {
    "slideshow": {
     "slide_type": "slide"
    }
   },
   "source": [
    "## Recall: MIP Solver Parameters Used in our Case Study\n",
    "In our case study, we will configure the MIP solver *CBC*\n",
    "- CBC has many parameters, but we will only use a subset\n",
    "- we will use the following parameters for configuration:\n",
    "\n",
    "\n",
    "| Parameter      | Description                               |Considered values    |\n",
    "|:--------------------|:-------------------------------------------|:----------------------------|\n",
    "| $$\\color{green}{\\textsf{nodeStrategy}}$$    | Strategy for selecting nodes to branch on   | 'depth', 'fewest','hybrid' |\n",
    "| $$\\color{cyan} {\\textsf{ strongBranching }}$$ | # vars. to consider in strong branching     | 0-10                       |\n",
    "| $$\\color{cyan} {\\textsf{trustPseudoCosts }}$$ | str. br. evals before trusting pseudo costs | 0-10                       |\n",
    "| $$\\color{green} {\\textsf{preprocess }}$$    | Switch for model preprocessing              | 'on', 'off'                |\n",
    "| $$\\color{green} {\\textsf{presolve   }}$$    | Switch for presolve reductions              | 'on', 'off','sos'          |\n",
    "| $$\\color{green}{\\textsf{cutsOnOff   }}$$    | Switch for cut generation (all cuts)        | 'on', 'off'                |\n",
    "| $$\\color{green}{\\textsf{ heuristicsOnOff }}$$ | Turn (all) heuristics on/off                | 'on', 'off'             |\n",
    "\n",
    "$$\\color{cyan}{\\textsf{discrete }}, \\color{red}{\\textsf{continuous}}, \\color{green}{\\textsf{categorical}}$$"
   ]
  },
  {
   "cell_type": "markdown",
   "metadata": {
    "slideshow": {
     "slide_type": "slide"
    }
   },
   "source": [
    "## Defining the Parameter Space and the Evaluation Function"
   ]
  },
  {
   "cell_type": "markdown",
   "metadata": {
    "slideshow": {
     "slide_type": "-"
    }
   },
   "source": [
    "In Optuna, we have to define an evaluation function (objective function) that\n",
    "- has an argument \"trial\" that refers to a certain parameter configuration\n",
    "- includes some lines of code that make optuna choose the next parameters (this **implicitly defines the parameter space**), e.g.\n",
    "  - `trial.suggest_categorical` for categorical parameters\n",
    "- runs the parameterized code that is to be evaluated (e.g. solving an optimization model, training an ML model)\n",
    "- returns a performance metric (e.g. runtime of an algorithm, accuracy of the fitted ML model)\n",
    "\n"
   ]
  },
  {
   "cell_type": "code",
   "execution_count": 21,
   "metadata": {
    "scrolled": true,
    "slideshow": {
     "slide_type": "-"
    }
   },
   "outputs": [],
   "source": [
    "import optuna\n",
    "\n",
    "model_instance_for_objective = model_instance_cbc\n",
    "\n",
    "def performance_objective_single_instance(trial): # we always need the trial parameter\n",
    "\n",
    "    node_strategy = trial.suggest_categorical('nodeStrategy', ['hybrid','fewest','depth'])\n",
    "    strong_branching = trial.suggest_int('strongBranching',0,10)\n",
    "    trust_pseudo_costs = trial.suggest_int('trustPseudoCosts',0,10)    \n",
    "    preprocess = trial.suggest_categorical('preprocess', ['on','off'])\n",
    "    presolve = trial.suggest_categorical('presolve', ['on','off'])\n",
    "    cuts_on_off = trial.suggest_categorical('cutsOnOff', ['on','off'])\n",
    "    heuristics_on_off = trial.suggest_categorical('heuristicsOnOff', ['on','off'])\n",
    "    \n",
    "    \n",
    "    return evaluate_parameters_on_instance(model_instance_for_objective,**trial.params)\n",
    "    "
   ]
  },
  {
   "cell_type": "code",
   "execution_count": 15,
   "metadata": {
    "slideshow": {
     "slide_type": "-"
    }
   },
   "outputs": [],
   "source": [
    "\n",
    "\n"
   ]
  },
  {
   "cell_type": "markdown",
   "metadata": {
    "slideshow": {
     "slide_type": "slide"
    }
   },
   "source": [
    "## Running the Optimization\n",
    "- let us now run the optimization\n",
    "- note that by using the parameter `n_calls`, we limit the number of configurations evaluated to 50"
   ]
  },
  {
   "cell_type": "code",
   "execution_count": 22,
   "metadata": {
    "slideshow": {
     "slide_type": "-"
    }
   },
   "outputs": [
    {
     "name": "stderr",
     "output_type": "stream",
     "text": [
      "[I 2025-07-08 10:02:55,377] A new study created in memory with name: no-name-0f267f27-3622-4b83-ba8a-62849a52c71a\n",
      "[I 2025-07-08 10:02:55,863] Trial 0 finished with value: 0.4739816188812256 and parameters: {'nodeStrategy': 'hybrid', 'strongBranching': 7, 'trustPseudoCosts': 10, 'preprocess': 'on', 'presolve': 'on', 'cutsOnOff': 'off', 'heuristicsOnOff': 'off'}. Best is trial 0 with value: 0.4739816188812256.\n",
      "[I 2025-07-08 10:02:56,417] Trial 1 finished with value: 0.5386021137237549 and parameters: {'nodeStrategy': 'hybrid', 'strongBranching': 4, 'trustPseudoCosts': 10, 'preprocess': 'off', 'presolve': 'on', 'cutsOnOff': 'off', 'heuristicsOnOff': 'on'}. Best is trial 0 with value: 0.4739816188812256.\n",
      "[I 2025-07-08 10:02:57,491] Trial 2 finished with value: 1.0660982131958008 and parameters: {'nodeStrategy': 'fewest', 'strongBranching': 0, 'trustPseudoCosts': 6, 'preprocess': 'off', 'presolve': 'off', 'cutsOnOff': 'off', 'heuristicsOnOff': 'on'}. Best is trial 0 with value: 0.4739816188812256.\n",
      "[I 2025-07-08 10:02:58,784] Trial 3 finished with value: 1.2866566181182861 and parameters: {'nodeStrategy': 'fewest', 'strongBranching': 0, 'trustPseudoCosts': 5, 'preprocess': 'on', 'presolve': 'on', 'cutsOnOff': 'on', 'heuristicsOnOff': 'on'}. Best is trial 0 with value: 0.4739816188812256.\n",
      "[I 2025-07-08 10:02:59,181] Trial 4 finished with value: 0.388916015625 and parameters: {'nodeStrategy': 'hybrid', 'strongBranching': 8, 'trustPseudoCosts': 5, 'preprocess': 'off', 'presolve': 'on', 'cutsOnOff': 'off', 'heuristicsOnOff': 'off'}. Best is trial 4 with value: 0.388916015625.\n"
     ]
    }
   ],
   "source": [
    "study = optuna.create_study(sampler=optuna.samplers.TPESampler()) # this sampler works with all sorts of parameters\n",
    "study.optimize(performance_objective_single_instance, n_trials=5ß)"
   ]
  },
  {
   "cell_type": "code",
   "execution_count": 25,
   "metadata": {
    "slideshow": {
     "slide_type": "-"
    }
   },
   "outputs": [
    {
     "name": "stdout",
     "output_type": "stream",
     "text": [
      "Best configuration: {'nodeStrategy': 'hybrid', 'strongBranching': 8, 'trustPseudoCosts': 5, 'preprocess': 'off', 'presolve': 'on', 'cutsOnOff': 'off', 'heuristicsOnOff': 'off'}\n",
      "Best performance in seconds: 0.39\n"
     ]
    }
   ],
   "source": [
    "print(f\"Best configuration: {study.best_params}\")\n",
    "print(f\"Best performance in seconds: {study.best_value:0.2f}\")\n",
    "study_single_instance = study"
   ]
  },
  {
   "cell_type": "markdown",
   "metadata": {
    "slideshow": {
     "slide_type": "slide"
    }
   },
   "source": [
    "## Print more pretty as Data Frame"
   ]
  },
  {
   "cell_type": "code",
   "execution_count": 32,
   "metadata": {},
   "outputs": [
    {
     "data": {
      "text/html": [
       "<div>\n",
       "<style scoped>\n",
       "    .dataframe tbody tr th:only-of-type {\n",
       "        vertical-align: middle;\n",
       "    }\n",
       "\n",
       "    .dataframe tbody tr th {\n",
       "        vertical-align: top;\n",
       "    }\n",
       "\n",
       "    .dataframe thead th {\n",
       "        text-align: right;\n",
       "    }\n",
       "</style>\n",
       "<table border=\"1\" class=\"dataframe\">\n",
       "  <thead>\n",
       "    <tr style=\"text-align: right;\">\n",
       "      <th></th>\n",
       "      <th>nodeStrategy</th>\n",
       "      <th>strongBranching</th>\n",
       "      <th>trustPseudoCosts</th>\n",
       "      <th>preprocess</th>\n",
       "      <th>presolve</th>\n",
       "      <th>cutsOnOff</th>\n",
       "      <th>heuristicsOnOff</th>\n",
       "    </tr>\n",
       "  </thead>\n",
       "  <tbody>\n",
       "    <tr>\n",
       "      <th>0</th>\n",
       "      <td>hybrid</td>\n",
       "      <td>8</td>\n",
       "      <td>5</td>\n",
       "      <td>off</td>\n",
       "      <td>on</td>\n",
       "      <td>off</td>\n",
       "      <td>off</td>\n",
       "    </tr>\n",
       "  </tbody>\n",
       "</table>\n",
       "</div>"
      ],
      "text/plain": [
       "  nodeStrategy  strongBranching  trustPseudoCosts preprocess presolve  \\\n",
       "0       hybrid                8                 5        off       on   \n",
       "\n",
       "  cutsOnOff heuristicsOnOff  \n",
       "0       off             off  "
      ]
     },
     "execution_count": 32,
     "metadata": {},
     "output_type": "execute_result"
    }
   ],
   "source": [
    "pd.DataFrame({k: [v] for k, v in study.best_params.items()})"
   ]
  },
  {
   "cell_type": "markdown",
   "metadata": {
    "slideshow": {
     "slide_type": "slide"
    }
   },
   "source": [
    "## Showing all Evaluations\n",
    "\n",
    "- we can create a data frame with all evaluations:"
   ]
  },
  {
   "cell_type": "code",
   "execution_count": 27,
   "metadata": {
    "slideshow": {
     "slide_type": "-"
    }
   },
   "outputs": [
    {
     "data": {
      "text/html": [
       "<div>\n",
       "<style scoped>\n",
       "    .dataframe tbody tr th:only-of-type {\n",
       "        vertical-align: middle;\n",
       "    }\n",
       "\n",
       "    .dataframe tbody tr th {\n",
       "        vertical-align: top;\n",
       "    }\n",
       "\n",
       "    .dataframe thead th {\n",
       "        text-align: right;\n",
       "    }\n",
       "</style>\n",
       "<table border=\"1\" class=\"dataframe\">\n",
       "  <thead>\n",
       "    <tr style=\"text-align: right;\">\n",
       "      <th></th>\n",
       "      <th>number</th>\n",
       "      <th>value</th>\n",
       "      <th>datetime_start</th>\n",
       "      <th>datetime_complete</th>\n",
       "      <th>duration</th>\n",
       "      <th>params_cutsOnOff</th>\n",
       "      <th>params_heuristicsOnOff</th>\n",
       "      <th>params_nodeStrategy</th>\n",
       "      <th>params_preprocess</th>\n",
       "      <th>params_presolve</th>\n",
       "      <th>params_strongBranching</th>\n",
       "      <th>params_trustPseudoCosts</th>\n",
       "      <th>state</th>\n",
       "    </tr>\n",
       "  </thead>\n",
       "  <tbody>\n",
       "    <tr>\n",
       "      <th>0</th>\n",
       "      <td>0</td>\n",
       "      <td>0.473982</td>\n",
       "      <td>2025-07-08 10:02:55.377731</td>\n",
       "      <td>2025-07-08 10:02:55.863056</td>\n",
       "      <td>0 days 00:00:00.485325</td>\n",
       "      <td>off</td>\n",
       "      <td>off</td>\n",
       "      <td>hybrid</td>\n",
       "      <td>on</td>\n",
       "      <td>on</td>\n",
       "      <td>7</td>\n",
       "      <td>10</td>\n",
       "      <td>COMPLETE</td>\n",
       "    </tr>\n",
       "    <tr>\n",
       "      <th>1</th>\n",
       "      <td>1</td>\n",
       "      <td>0.538602</td>\n",
       "      <td>2025-07-08 10:02:55.863056</td>\n",
       "      <td>2025-07-08 10:02:56.417284</td>\n",
       "      <td>0 days 00:00:00.554228</td>\n",
       "      <td>off</td>\n",
       "      <td>on</td>\n",
       "      <td>hybrid</td>\n",
       "      <td>off</td>\n",
       "      <td>on</td>\n",
       "      <td>4</td>\n",
       "      <td>10</td>\n",
       "      <td>COMPLETE</td>\n",
       "    </tr>\n",
       "    <tr>\n",
       "      <th>2</th>\n",
       "      <td>2</td>\n",
       "      <td>1.066098</td>\n",
       "      <td>2025-07-08 10:02:56.417284</td>\n",
       "      <td>2025-07-08 10:02:57.491393</td>\n",
       "      <td>0 days 00:00:01.074109</td>\n",
       "      <td>off</td>\n",
       "      <td>on</td>\n",
       "      <td>fewest</td>\n",
       "      <td>off</td>\n",
       "      <td>off</td>\n",
       "      <td>0</td>\n",
       "      <td>6</td>\n",
       "      <td>COMPLETE</td>\n",
       "    </tr>\n",
       "    <tr>\n",
       "      <th>3</th>\n",
       "      <td>3</td>\n",
       "      <td>1.286657</td>\n",
       "      <td>2025-07-08 10:02:57.491393</td>\n",
       "      <td>2025-07-08 10:02:58.784555</td>\n",
       "      <td>0 days 00:00:01.293162</td>\n",
       "      <td>on</td>\n",
       "      <td>on</td>\n",
       "      <td>fewest</td>\n",
       "      <td>on</td>\n",
       "      <td>on</td>\n",
       "      <td>0</td>\n",
       "      <td>5</td>\n",
       "      <td>COMPLETE</td>\n",
       "    </tr>\n",
       "    <tr>\n",
       "      <th>4</th>\n",
       "      <td>4</td>\n",
       "      <td>0.388916</td>\n",
       "      <td>2025-07-08 10:02:58.784555</td>\n",
       "      <td>2025-07-08 10:02:59.181512</td>\n",
       "      <td>0 days 00:00:00.396957</td>\n",
       "      <td>off</td>\n",
       "      <td>off</td>\n",
       "      <td>hybrid</td>\n",
       "      <td>off</td>\n",
       "      <td>on</td>\n",
       "      <td>8</td>\n",
       "      <td>5</td>\n",
       "      <td>COMPLETE</td>\n",
       "    </tr>\n",
       "  </tbody>\n",
       "</table>\n",
       "</div>"
      ],
      "text/plain": [
       "   number     value             datetime_start          datetime_complete  \\\n",
       "0       0  0.473982 2025-07-08 10:02:55.377731 2025-07-08 10:02:55.863056   \n",
       "1       1  0.538602 2025-07-08 10:02:55.863056 2025-07-08 10:02:56.417284   \n",
       "2       2  1.066098 2025-07-08 10:02:56.417284 2025-07-08 10:02:57.491393   \n",
       "3       3  1.286657 2025-07-08 10:02:57.491393 2025-07-08 10:02:58.784555   \n",
       "4       4  0.388916 2025-07-08 10:02:58.784555 2025-07-08 10:02:59.181512   \n",
       "\n",
       "                duration params_cutsOnOff params_heuristicsOnOff  \\\n",
       "0 0 days 00:00:00.485325              off                    off   \n",
       "1 0 days 00:00:00.554228              off                     on   \n",
       "2 0 days 00:00:01.074109              off                     on   \n",
       "3 0 days 00:00:01.293162               on                     on   \n",
       "4 0 days 00:00:00.396957              off                    off   \n",
       "\n",
       "  params_nodeStrategy params_preprocess params_presolve  \\\n",
       "0              hybrid                on              on   \n",
       "1              hybrid               off              on   \n",
       "2              fewest               off             off   \n",
       "3              fewest                on              on   \n",
       "4              hybrid               off              on   \n",
       "\n",
       "   params_strongBranching  params_trustPseudoCosts     state  \n",
       "0                       7                       10  COMPLETE  \n",
       "1                       4                       10  COMPLETE  \n",
       "2                       0                        6  COMPLETE  \n",
       "3                       0                        5  COMPLETE  \n",
       "4                       8                        5  COMPLETE  "
      ]
     },
     "execution_count": 27,
     "metadata": {},
     "output_type": "execute_result"
    }
   ],
   "source": [
    "df_trials = study.trials_dataframe()\n",
    "df_trials"
   ]
  },
  {
   "cell_type": "markdown",
   "metadata": {
    "slideshow": {
     "slide_type": "fragment"
    }
   },
   "source": [
    "- we can then even filter these results, e.g. to show all runs taking less than one second:"
   ]
  },
  {
   "cell_type": "code",
   "execution_count": 76,
   "metadata": {
    "scrolled": true,
    "slideshow": {
     "slide_type": "-"
    }
   },
   "outputs": [
    {
     "data": {
      "text/html": [
       "<div>\n",
       "<style scoped>\n",
       "    .dataframe tbody tr th:only-of-type {\n",
       "        vertical-align: middle;\n",
       "    }\n",
       "\n",
       "    .dataframe tbody tr th {\n",
       "        vertical-align: top;\n",
       "    }\n",
       "\n",
       "    .dataframe thead th {\n",
       "        text-align: right;\n",
       "    }\n",
       "</style>\n",
       "<table border=\"1\" class=\"dataframe\">\n",
       "  <thead>\n",
       "    <tr style=\"text-align: right;\">\n",
       "      <th></th>\n",
       "      <th>nodeStrategy</th>\n",
       "      <th>strongBranching</th>\n",
       "      <th>trustPseudoCosts</th>\n",
       "      <th>preprocess</th>\n",
       "      <th>presolve</th>\n",
       "      <th>cutsOnOff</th>\n",
       "      <th>heuristicsOnOff</th>\n",
       "      <th>time</th>\n",
       "    </tr>\n",
       "  </thead>\n",
       "  <tbody>\n",
       "    <tr>\n",
       "      <th>13</th>\n",
       "      <td>fewest</td>\n",
       "      <td>3</td>\n",
       "      <td>0</td>\n",
       "      <td>off</td>\n",
       "      <td>off</td>\n",
       "      <td>off</td>\n",
       "      <td>off</td>\n",
       "      <td>0.212023</td>\n",
       "    </tr>\n",
       "    <tr>\n",
       "      <th>19</th>\n",
       "      <td>hybrid</td>\n",
       "      <td>4</td>\n",
       "      <td>0</td>\n",
       "      <td>off</td>\n",
       "      <td>off</td>\n",
       "      <td>off</td>\n",
       "      <td>off</td>\n",
       "      <td>0.201577</td>\n",
       "    </tr>\n",
       "    <tr>\n",
       "      <th>20</th>\n",
       "      <td>hybrid</td>\n",
       "      <td>4</td>\n",
       "      <td>0</td>\n",
       "      <td>off</td>\n",
       "      <td>off</td>\n",
       "      <td>off</td>\n",
       "      <td>off</td>\n",
       "      <td>0.201940</td>\n",
       "    </tr>\n",
       "    <tr>\n",
       "      <th>26</th>\n",
       "      <td>hybrid</td>\n",
       "      <td>4</td>\n",
       "      <td>0</td>\n",
       "      <td>off</td>\n",
       "      <td>sos</td>\n",
       "      <td>off</td>\n",
       "      <td>off</td>\n",
       "      <td>0.222855</td>\n",
       "    </tr>\n",
       "    <tr>\n",
       "      <th>28</th>\n",
       "      <td>hybrid</td>\n",
       "      <td>3</td>\n",
       "      <td>0</td>\n",
       "      <td>off</td>\n",
       "      <td>off</td>\n",
       "      <td>off</td>\n",
       "      <td>off</td>\n",
       "      <td>0.191846</td>\n",
       "    </tr>\n",
       "    <tr>\n",
       "      <th>32</th>\n",
       "      <td>hybrid</td>\n",
       "      <td>3</td>\n",
       "      <td>0</td>\n",
       "      <td>off</td>\n",
       "      <td>off</td>\n",
       "      <td>off</td>\n",
       "      <td>off</td>\n",
       "      <td>0.202754</td>\n",
       "    </tr>\n",
       "    <tr>\n",
       "      <th>33</th>\n",
       "      <td>fewest</td>\n",
       "      <td>2</td>\n",
       "      <td>0</td>\n",
       "      <td>off</td>\n",
       "      <td>on</td>\n",
       "      <td>off</td>\n",
       "      <td>off</td>\n",
       "      <td>0.214690</td>\n",
       "    </tr>\n",
       "    <tr>\n",
       "      <th>34</th>\n",
       "      <td>hybrid</td>\n",
       "      <td>2</td>\n",
       "      <td>0</td>\n",
       "      <td>off</td>\n",
       "      <td>off</td>\n",
       "      <td>off</td>\n",
       "      <td>off</td>\n",
       "      <td>0.194612</td>\n",
       "    </tr>\n",
       "    <tr>\n",
       "      <th>35</th>\n",
       "      <td>hybrid</td>\n",
       "      <td>2</td>\n",
       "      <td>0</td>\n",
       "      <td>off</td>\n",
       "      <td>off</td>\n",
       "      <td>off</td>\n",
       "      <td>off</td>\n",
       "      <td>0.205324</td>\n",
       "    </tr>\n",
       "    <tr>\n",
       "      <th>37</th>\n",
       "      <td>hybrid</td>\n",
       "      <td>2</td>\n",
       "      <td>0</td>\n",
       "      <td>off</td>\n",
       "      <td>off</td>\n",
       "      <td>off</td>\n",
       "      <td>off</td>\n",
       "      <td>0.227303</td>\n",
       "    </tr>\n",
       "    <tr>\n",
       "      <th>38</th>\n",
       "      <td>hybrid</td>\n",
       "      <td>2</td>\n",
       "      <td>0</td>\n",
       "      <td>off</td>\n",
       "      <td>off</td>\n",
       "      <td>off</td>\n",
       "      <td>off</td>\n",
       "      <td>0.211818</td>\n",
       "    </tr>\n",
       "    <tr>\n",
       "      <th>39</th>\n",
       "      <td>hybrid</td>\n",
       "      <td>2</td>\n",
       "      <td>0</td>\n",
       "      <td>off</td>\n",
       "      <td>on</td>\n",
       "      <td>off</td>\n",
       "      <td>off</td>\n",
       "      <td>0.212618</td>\n",
       "    </tr>\n",
       "    <tr>\n",
       "      <th>40</th>\n",
       "      <td>hybrid</td>\n",
       "      <td>2</td>\n",
       "      <td>0</td>\n",
       "      <td>off</td>\n",
       "      <td>on</td>\n",
       "      <td>off</td>\n",
       "      <td>off</td>\n",
       "      <td>0.211714</td>\n",
       "    </tr>\n",
       "    <tr>\n",
       "      <th>41</th>\n",
       "      <td>hybrid</td>\n",
       "      <td>2</td>\n",
       "      <td>0</td>\n",
       "      <td>off</td>\n",
       "      <td>on</td>\n",
       "      <td>off</td>\n",
       "      <td>off</td>\n",
       "      <td>0.201379</td>\n",
       "    </tr>\n",
       "    <tr>\n",
       "      <th>42</th>\n",
       "      <td>hybrid</td>\n",
       "      <td>2</td>\n",
       "      <td>0</td>\n",
       "      <td>off</td>\n",
       "      <td>off</td>\n",
       "      <td>off</td>\n",
       "      <td>off</td>\n",
       "      <td>0.222843</td>\n",
       "    </tr>\n",
       "    <tr>\n",
       "      <th>43</th>\n",
       "      <td>fewest</td>\n",
       "      <td>2</td>\n",
       "      <td>0</td>\n",
       "      <td>off</td>\n",
       "      <td>off</td>\n",
       "      <td>off</td>\n",
       "      <td>off</td>\n",
       "      <td>0.212206</td>\n",
       "    </tr>\n",
       "    <tr>\n",
       "      <th>44</th>\n",
       "      <td>hybrid</td>\n",
       "      <td>2</td>\n",
       "      <td>0</td>\n",
       "      <td>off</td>\n",
       "      <td>off</td>\n",
       "      <td>off</td>\n",
       "      <td>off</td>\n",
       "      <td>0.234884</td>\n",
       "    </tr>\n",
       "    <tr>\n",
       "      <th>45</th>\n",
       "      <td>hybrid</td>\n",
       "      <td>2</td>\n",
       "      <td>0</td>\n",
       "      <td>off</td>\n",
       "      <td>sos</td>\n",
       "      <td>off</td>\n",
       "      <td>off</td>\n",
       "      <td>0.225061</td>\n",
       "    </tr>\n",
       "    <tr>\n",
       "      <th>46</th>\n",
       "      <td>hybrid</td>\n",
       "      <td>2</td>\n",
       "      <td>0</td>\n",
       "      <td>off</td>\n",
       "      <td>off</td>\n",
       "      <td>off</td>\n",
       "      <td>off</td>\n",
       "      <td>0.212300</td>\n",
       "    </tr>\n",
       "    <tr>\n",
       "      <th>47</th>\n",
       "      <td>hybrid</td>\n",
       "      <td>2</td>\n",
       "      <td>0</td>\n",
       "      <td>off</td>\n",
       "      <td>off</td>\n",
       "      <td>off</td>\n",
       "      <td>off</td>\n",
       "      <td>0.224994</td>\n",
       "    </tr>\n",
       "    <tr>\n",
       "      <th>48</th>\n",
       "      <td>hybrid</td>\n",
       "      <td>2</td>\n",
       "      <td>0</td>\n",
       "      <td>off</td>\n",
       "      <td>off</td>\n",
       "      <td>off</td>\n",
       "      <td>off</td>\n",
       "      <td>0.202106</td>\n",
       "    </tr>\n",
       "    <tr>\n",
       "      <th>49</th>\n",
       "      <td>fewest</td>\n",
       "      <td>2</td>\n",
       "      <td>0</td>\n",
       "      <td>off</td>\n",
       "      <td>off</td>\n",
       "      <td>off</td>\n",
       "      <td>off</td>\n",
       "      <td>0.230585</td>\n",
       "    </tr>\n",
       "  </tbody>\n",
       "</table>\n",
       "</div>"
      ],
      "text/plain": [
       "   nodeStrategy  strongBranching  trustPseudoCosts preprocess presolve  \\\n",
       "13       fewest                3                 0        off      off   \n",
       "19       hybrid                4                 0        off      off   \n",
       "20       hybrid                4                 0        off      off   \n",
       "26       hybrid                4                 0        off      sos   \n",
       "28       hybrid                3                 0        off      off   \n",
       "32       hybrid                3                 0        off      off   \n",
       "33       fewest                2                 0        off       on   \n",
       "34       hybrid                2                 0        off      off   \n",
       "35       hybrid                2                 0        off      off   \n",
       "37       hybrid                2                 0        off      off   \n",
       "38       hybrid                2                 0        off      off   \n",
       "39       hybrid                2                 0        off       on   \n",
       "40       hybrid                2                 0        off       on   \n",
       "41       hybrid                2                 0        off       on   \n",
       "42       hybrid                2                 0        off      off   \n",
       "43       fewest                2                 0        off      off   \n",
       "44       hybrid                2                 0        off      off   \n",
       "45       hybrid                2                 0        off      sos   \n",
       "46       hybrid                2                 0        off      off   \n",
       "47       hybrid                2                 0        off      off   \n",
       "48       hybrid                2                 0        off      off   \n",
       "49       fewest                2                 0        off      off   \n",
       "\n",
       "   cutsOnOff heuristicsOnOff      time  \n",
       "13       off             off  0.212023  \n",
       "19       off             off  0.201577  \n",
       "20       off             off  0.201940  \n",
       "26       off             off  0.222855  \n",
       "28       off             off  0.191846  \n",
       "32       off             off  0.202754  \n",
       "33       off             off  0.214690  \n",
       "34       off             off  0.194612  \n",
       "35       off             off  0.205324  \n",
       "37       off             off  0.227303  \n",
       "38       off             off  0.211818  \n",
       "39       off             off  0.212618  \n",
       "40       off             off  0.211714  \n",
       "41       off             off  0.201379  \n",
       "42       off             off  0.222843  \n",
       "43       off             off  0.212206  \n",
       "44       off             off  0.234884  \n",
       "45       off             off  0.225061  \n",
       "46       off             off  0.212300  \n",
       "47       off             off  0.224994  \n",
       "48       off             off  0.202106  \n",
       "49       off             off  0.230585  "
      ]
     },
     "execution_count": 76,
     "metadata": {},
     "output_type": "execute_result"
    }
   ],
   "source": [
    "df_evaluations[df_evaluations[\"value\"] <= 0.25]"
   ]
  },
  {
   "cell_type": "markdown",
   "metadata": {},
   "source": [
    "## Printing the Progress\n",
    "\n"
   ]
  },
  {
   "cell_type": "code",
   "execution_count": null,
   "metadata": {},
   "outputs": [],
   "source": [
    "from optuna.visualization import plot_optimization_history\n",
    "\n",
    "plot_optimization_history(study)"
   ]
  },
  {
   "cell_type": "markdown",
   "metadata": {
    "slideshow": {
     "slide_type": "slide"
    }
   },
   "source": [
    "# Avoiding Overfitting"
   ]
  },
  {
   "cell_type": "markdown",
   "metadata": {
    "slideshow": {
     "slide_type": "slide"
    }
   },
   "source": [
    "## Avoiding Overfitting\n",
    "\n",
    "- even in case of homogeneous instances, algorithm configuration is\n",
    "  very prone to overfitting\n",
    "\n",
    "\n",
    "- in general, in machine learning, we would use cross validation for addressing overfitting\n",
    "- in algorithm configuration, however, **cross validation is not\n",
    "  practical** since it requires too many time-consuming evaluations\n",
    "- thus, in algorithm configuration one mostly uses \n",
    "  - a single training set\n",
    "  - and a single test set\n"
   ]
  },
  {
   "cell_type": "markdown",
   "metadata": {
    "slideshow": {
     "slide_type": "slide"
    }
   },
   "source": [
    "## Evaluating the Configuration on a Test Set\n",
    "\n",
    "Let us see how our configuration (selected for a single instance) performs on average for a test set of 10 instances\n",
    "\n",
    "**Question:**\n",
    "- How can we create a test set (a set of test instances) for our CCP case study?\n"
   ]
  },
  {
   "cell_type": "code",
   "execution_count": 77,
   "metadata": {
    "slideshow": {
     "slide_type": "fragment"
    }
   },
   "outputs": [],
   "source": [
    "np.random.seed(seed=11)\n",
    "number_of_test_instances = 10\n",
    "test_instances =  [ build_model_with_samples( time_available_dist.rvs(n_scenarios), leather_available_dist.rvs(n_scenarios), CBC) \n",
    "                    for i in range(number_of_test_instances) ]"
   ]
  },
  {
   "cell_type": "markdown",
   "metadata": {},
   "source": [
    "- then, we define an evaluation function for evaluating a configuration on a **single** instance:"
   ]
  },
  {
   "cell_type": "code",
   "execution_count": 80,
   "metadata": {
    "slideshow": {
     "slide_type": "-"
    }
   },
   "outputs": [
    {
     "data": {
      "text/plain": [
       "0.18133115768432617"
      ]
     },
     "execution_count": 80,
     "metadata": {},
     "output_type": "execute_result"
    }
   ],
   "source": [
    "def evaluate_best_parameters_on_instance(instance, study):    \n",
    "    return evaluate_parameters_on_instance(instance, **study.best_params)    \n",
    "\n",
    "evaluate_best_parameters_on_instance(model_instance_cbc, study)"
   ]
  },
  {
   "cell_type": "markdown",
   "metadata": {
    "slideshow": {
     "slide_type": "fragment"
    }
   },
   "source": [
    "- then, we define an evaluation function for evaluating a configuration on **multiple** instances:"
   ]
  },
  {
   "cell_type": "code",
   "execution_count": 82,
   "metadata": {
    "slideshow": {
     "slide_type": "-"
    }
   },
   "outputs": [],
   "source": [
    "def evaluate_parameters_on_instances(instances, **params):\n",
    "    total_time = 0    \n",
    "    number_of_instances = len(instances)    \n",
    "    for instance in instances:\n",
    "        total_time += evaluate_parameters_on_instance(instance, **params)        \n",
    "    return total_time / number_of_instances\n"
   ]
  },
  {
   "cell_type": "markdown",
   "metadata": {
    "slideshow": {
     "slide_type": "fragment"
    }
   },
   "source": [
    "- and another function that directly takes the configuration obtained wie `scikit-optimize` and applies it to a set of instances:"
   ]
  },
  {
   "cell_type": "code",
   "execution_count": 83,
   "metadata": {
    "slideshow": {
     "slide_type": "-"
    }
   },
   "outputs": [],
   "source": [
    "def evaluate_best_parameters_on_instances(instances, study):    \n",
    "    return evaluate_parameters_on_instances(instances, **study.best_params)                                            "
   ]
  },
  {
   "cell_type": "markdown",
   "metadata": {
    "slideshow": {
     "slide_type": "slide"
    }
   },
   "source": [
    "## Evaluating the Configuration on a Test Set: Results\n",
    "\n",
    "Let's create a data frame to collect the results"
   ]
  },
  {
   "cell_type": "code",
   "execution_count": 84,
   "metadata": {
    "slideshow": {
     "slide_type": "-"
    }
   },
   "outputs": [],
   "source": [
    "df_results = pd.DataFrame(columns=['train_perf','test_perf'])"
   ]
  },
  {
   "cell_type": "markdown",
   "metadata": {
    "slideshow": {
     "slide_type": "fragment"
    }
   },
   "source": [
    "- we start with an evaluation of the CBC standard settings:"
   ]
  },
  {
   "cell_type": "code",
   "execution_count": 85,
   "metadata": {
    "slideshow": {
     "slide_type": "-"
    }
   },
   "outputs": [],
   "source": [
    "df_results.loc['Standard CBC','test_perf'] = evaluate_parameters_on_instances(test_instances)"
   ]
  },
  {
   "cell_type": "markdown",
   "metadata": {
    "slideshow": {
     "slide_type": "fragment"
    }
   },
   "source": [
    "- and then add those from training with a single instance (note: train performance is based on a single instance, test performance is evaluated using 10 instances"
   ]
  },
  {
   "cell_type": "code",
   "execution_count": 89,
   "metadata": {
    "slideshow": {
     "slide_type": "-"
    }
   },
   "outputs": [],
   "source": [
    "df_results.loc['Configured Single Instance','train_perf'] = results_single_instance.fun\n",
    "\n",
    "df_results.loc['Configured Single Instance','test_perf']=  evaluate_skopt_parameters_on_instances(test_instances,results_single_instance.x )"
   ]
  },
  {
   "cell_type": "code",
   "execution_count": 91,
   "metadata": {
    "scrolled": true,
    "slideshow": {
     "slide_type": "-"
    }
   },
   "outputs": [
    {
     "data": {
      "text/html": [
       "<div>\n",
       "<style scoped>\n",
       "    .dataframe tbody tr th:only-of-type {\n",
       "        vertical-align: middle;\n",
       "    }\n",
       "\n",
       "    .dataframe tbody tr th {\n",
       "        vertical-align: top;\n",
       "    }\n",
       "\n",
       "    .dataframe thead th {\n",
       "        text-align: right;\n",
       "    }\n",
       "</style>\n",
       "<table border=\"1\" class=\"dataframe\">\n",
       "  <thead>\n",
       "    <tr style=\"text-align: right;\">\n",
       "      <th></th>\n",
       "      <th>train_perf</th>\n",
       "      <th>test_perf</th>\n",
       "    </tr>\n",
       "  </thead>\n",
       "  <tbody>\n",
       "    <tr>\n",
       "      <th>Standard CBC</th>\n",
       "      <td>NaN</td>\n",
       "      <td>1.287281</td>\n",
       "    </tr>\n",
       "    <tr>\n",
       "      <th>Configured Single Instance</th>\n",
       "      <td>0.191846</td>\n",
       "      <td>0.209418</td>\n",
       "    </tr>\n",
       "  </tbody>\n",
       "</table>\n",
       "</div>"
      ],
      "text/plain": [
       "                           train_perf test_perf\n",
       "Standard CBC                      NaN  1.287281\n",
       "Configured Single Instance   0.191846  0.209418"
      ]
     },
     "execution_count": 91,
     "metadata": {},
     "output_type": "execute_result"
    }
   ],
   "source": [
    "df_results"
   ]
  },
  {
   "cell_type": "markdown",
   "metadata": {
    "slideshow": {
     "slide_type": "slide"
    }
   },
   "source": [
    "## Addressing Overfitting: Configuration using Multiple Training Instances\n",
    "\n",
    "Let us see if we can do better by evaluating each configuration on multiple instances **during training**!\n",
    "- ..of course, these instances should be different from the test set!\n",
    "- we thus create 10 training instances:"
   ]
  },
  {
   "cell_type": "code",
   "execution_count": 92,
   "metadata": {
    "slideshow": {
     "slide_type": "-"
    }
   },
   "outputs": [],
   "source": [
    "np.random.seed(seed=42) ## attention: different random seed!\n",
    "number_of_training_instances = 10\n",
    "training_instances =  [ build_model_with_samples( time_available_dist.rvs(n_scenarios), leather_available_dist.rvs(n_scenarios), CBC) \n",
    "                        for i in range(number_of_training_instances) ]"
   ]
  },
  {
   "cell_type": "markdown",
   "metadata": {
    "slideshow": {
     "slide_type": "fragment"
    }
   },
   "source": [
    "- then, we create an objective function for scikit-optimize that uses these 10 instances:\n",
    "    "
   ]
  },
  {
   "cell_type": "code",
   "execution_count": 93,
   "metadata": {
    "slideshow": {
     "slide_type": "-"
    }
   },
   "outputs": [],
   "source": [
    "instances_to_evaluate = training_instances  \n",
    "@use_named_args(space)\n",
    "def evaluate_parameters_on_multiple_instances(**params):\n",
    "    return evaluate_parameters_on_instances(instances_to_evaluate,**params)"
   ]
  },
  {
   "cell_type": "markdown",
   "metadata": {
    "slideshow": {
     "slide_type": "slide"
    }
   },
   "source": [
    "## Automatic Configuration Using Multiple Instances"
   ]
  },
  {
   "cell_type": "code",
   "execution_count": 94,
   "metadata": {},
   "outputs": [
    {
     "name": "stdout",
     "output_type": "stream",
     "text": [
      "Iteration No: 1 started. Evaluating function at random point.\n",
      "Iteration No: 1 ended. Evaluation done at random point.\n",
      "Time taken: 4.6193\n",
      "Function value obtained: 0.4528\n",
      "Current minimum: 0.4528\n",
      "Iteration No: 2 started. Evaluating function at random point.\n",
      "Iteration No: 2 ended. Evaluation done at random point.\n",
      "Time taken: 12.8886\n",
      "Function value obtained: 1.2796\n",
      "Current minimum: 0.4528\n",
      "Iteration No: 3 started. Evaluating function at random point.\n",
      "Iteration No: 3 ended. Evaluation done at random point.\n",
      "Time taken: 11.7867\n",
      "Function value obtained: 1.1682\n",
      "Current minimum: 0.4528\n",
      "Iteration No: 4 started. Evaluating function at random point.\n",
      "Iteration No: 4 ended. Evaluation done at random point.\n",
      "Time taken: 15.3371\n",
      "Function value obtained: 1.5225\n",
      "Current minimum: 0.4528\n",
      "Iteration No: 5 started. Evaluating function at random point.\n",
      "Iteration No: 5 ended. Evaluation done at random point.\n",
      "Time taken: 3.4663\n",
      "Function value obtained: 0.3373\n",
      "Current minimum: 0.3373\n",
      "Iteration No: 6 started. Evaluating function at random point.\n",
      "Iteration No: 6 ended. Evaluation done at random point.\n",
      "Time taken: 15.1014\n",
      "Function value obtained: 1.4943\n",
      "Current minimum: 0.3373\n",
      "Iteration No: 7 started. Evaluating function at random point.\n",
      "Iteration No: 7 ended. Evaluation done at random point.\n",
      "Time taken: 14.7572\n",
      "Function value obtained: 1.4644\n",
      "Current minimum: 0.3373\n",
      "Iteration No: 8 started. Evaluating function at random point.\n",
      "Iteration No: 8 ended. Evaluation done at random point.\n",
      "Time taken: 16.4460\n",
      "Function value obtained: 1.6353\n",
      "Current minimum: 0.3373\n",
      "Iteration No: 9 started. Evaluating function at random point.\n",
      "Iteration No: 9 ended. Evaluation done at random point.\n",
      "Time taken: 11.5196\n",
      "Function value obtained: 1.1414\n",
      "Current minimum: 0.3373\n",
      "Iteration No: 10 started. Evaluating function at random point.\n",
      "Iteration No: 10 ended. Evaluation done at random point.\n",
      "Time taken: 16.1909\n",
      "Function value obtained: 1.5517\n",
      "Current minimum: 0.3373\n",
      "Iteration No: 11 started. Searching for the next optimal point.\n",
      "Iteration No: 11 ended. Search finished for the next optimal point.\n",
      "Time taken: 100.3130\n",
      "Function value obtained: 90.9205\n",
      "Current minimum: 0.3373\n",
      "Iteration No: 12 started. Searching for the next optimal point.\n"
     ]
    },
    {
     "name": "stderr",
     "output_type": "stream",
     "text": [
      "C:\\Users\\mroemer\\Miniconda3\\envs\\cords2022\\lib\\site-packages\\skopt\\optimizer\\optimizer.py:449: UserWarning: The objective has been evaluated at this point before.\n",
      "  warnings.warn(\"The objective has been evaluated \"\n"
     ]
    },
    {
     "name": "stdout",
     "output_type": "stream",
     "text": [
      "Iteration No: 12 ended. Search finished for the next optimal point.\n",
      "Time taken: 3.8848\n",
      "Function value obtained: 0.3306\n",
      "Current minimum: 0.3306\n",
      "Iteration No: 13 started. Searching for the next optimal point.\n"
     ]
    },
    {
     "name": "stderr",
     "output_type": "stream",
     "text": [
      "C:\\Users\\mroemer\\Miniconda3\\envs\\cords2022\\lib\\site-packages\\skopt\\optimizer\\optimizer.py:449: UserWarning: The objective has been evaluated at this point before.\n",
      "  warnings.warn(\"The objective has been evaluated \"\n"
     ]
    },
    {
     "name": "stdout",
     "output_type": "stream",
     "text": [
      "Iteration No: 13 ended. Search finished for the next optimal point.\n",
      "Time taken: 3.9288\n",
      "Function value obtained: 0.3285\n",
      "Current minimum: 0.3285\n",
      "Iteration No: 14 started. Searching for the next optimal point.\n"
     ]
    },
    {
     "name": "stderr",
     "output_type": "stream",
     "text": [
      "C:\\Users\\mroemer\\Miniconda3\\envs\\cords2022\\lib\\site-packages\\skopt\\optimizer\\optimizer.py:449: UserWarning: The objective has been evaluated at this point before.\n",
      "  warnings.warn(\"The objective has been evaluated \"\n"
     ]
    },
    {
     "name": "stdout",
     "output_type": "stream",
     "text": [
      "Iteration No: 14 ended. Search finished for the next optimal point.\n",
      "Time taken: 4.5714\n",
      "Function value obtained: 0.3724\n",
      "Current minimum: 0.3285\n",
      "Iteration No: 15 started. Searching for the next optimal point.\n",
      "Iteration No: 15 ended. Search finished for the next optimal point.\n",
      "Time taken: 4.2083\n",
      "Function value obtained: 0.3502\n",
      "Current minimum: 0.3285\n",
      "Iteration No: 16 started. Searching for the next optimal point.\n",
      "Iteration No: 16 ended. Search finished for the next optimal point.\n",
      "Time taken: 3.9621\n",
      "Function value obtained: 0.3262\n",
      "Current minimum: 0.3262\n",
      "Iteration No: 17 started. Searching for the next optimal point.\n",
      "Iteration No: 17 ended. Search finished for the next optimal point.\n",
      "Time taken: 100.3485\n",
      "Function value obtained: 90.9191\n",
      "Current minimum: 0.3262\n",
      "Iteration No: 18 started. Searching for the next optimal point.\n",
      "Iteration No: 18 ended. Search finished for the next optimal point.\n",
      "Time taken: 7.2143\n",
      "Function value obtained: 0.6219\n",
      "Current minimum: 0.3262\n",
      "Iteration No: 19 started. Searching for the next optimal point.\n",
      "Iteration No: 19 ended. Search finished for the next optimal point.\n",
      "Time taken: 4.7679\n",
      "Function value obtained: 0.3940\n",
      "Current minimum: 0.3262\n",
      "Iteration No: 20 started. Searching for the next optimal point.\n"
     ]
    },
    {
     "name": "stderr",
     "output_type": "stream",
     "text": [
      "C:\\Users\\mroemer\\Miniconda3\\envs\\cords2022\\lib\\site-packages\\skopt\\optimizer\\optimizer.py:449: UserWarning: The objective has been evaluated at this point before.\n",
      "  warnings.warn(\"The objective has been evaluated \"\n"
     ]
    },
    {
     "name": "stdout",
     "output_type": "stream",
     "text": [
      "Iteration No: 20 ended. Search finished for the next optimal point.\n",
      "Time taken: 4.7681\n",
      "Function value obtained: 0.4084\n",
      "Current minimum: 0.3262\n",
      "Iteration No: 21 started. Searching for the next optimal point.\n",
      "Iteration No: 21 ended. Search finished for the next optimal point.\n",
      "Time taken: 5.0670\n",
      "Function value obtained: 0.4226\n",
      "Current minimum: 0.3262\n",
      "Iteration No: 22 started. Searching for the next optimal point.\n",
      "Iteration No: 22 ended. Search finished for the next optimal point.\n",
      "Time taken: 9.4287\n",
      "Function value obtained: 0.8735\n",
      "Current minimum: 0.3262\n",
      "Iteration No: 23 started. Searching for the next optimal point.\n",
      "Iteration No: 23 ended. Search finished for the next optimal point.\n",
      "Time taken: 4.6788\n",
      "Function value obtained: 0.3998\n",
      "Current minimum: 0.3262\n",
      "Iteration No: 24 started. Searching for the next optimal point.\n",
      "Iteration No: 24 ended. Search finished for the next optimal point.\n",
      "Time taken: 5.0456\n",
      "Function value obtained: 0.4057\n",
      "Current minimum: 0.3262\n",
      "Iteration No: 25 started. Searching for the next optimal point.\n",
      "Iteration No: 25 ended. Search finished for the next optimal point.\n",
      "Time taken: 4.8682\n",
      "Function value obtained: 0.3925\n",
      "Current minimum: 0.3262\n",
      "Iteration No: 26 started. Searching for the next optimal point.\n",
      "Iteration No: 26 ended. Search finished for the next optimal point.\n",
      "Time taken: 3.9684\n",
      "Function value obtained: 0.3131\n",
      "Current minimum: 0.3131\n",
      "Iteration No: 27 started. Searching for the next optimal point.\n",
      "Iteration No: 27 ended. Search finished for the next optimal point.\n",
      "Time taken: 4.6287\n",
      "Function value obtained: 0.4031\n",
      "Current minimum: 0.3131\n",
      "Iteration No: 28 started. Searching for the next optimal point.\n",
      "Iteration No: 28 ended. Search finished for the next optimal point.\n",
      "Time taken: 12.3509\n",
      "Function value obtained: 1.1646\n",
      "Current minimum: 0.3131\n",
      "Iteration No: 29 started. Searching for the next optimal point.\n",
      "Iteration No: 29 ended. Search finished for the next optimal point.\n",
      "Time taken: 6.8283\n",
      "Function value obtained: 0.5981\n",
      "Current minimum: 0.3131\n",
      "Iteration No: 30 started. Searching for the next optimal point.\n",
      "Iteration No: 30 ended. Search finished for the next optimal point.\n",
      "Time taken: 4.5548\n",
      "Function value obtained: 0.3728\n",
      "Current minimum: 0.3131\n",
      "Iteration No: 31 started. Searching for the next optimal point.\n",
      "Iteration No: 31 ended. Search finished for the next optimal point.\n",
      "Time taken: 4.8745\n",
      "Function value obtained: 0.3878\n",
      "Current minimum: 0.3131\n",
      "Iteration No: 32 started. Searching for the next optimal point.\n",
      "Iteration No: 32 ended. Search finished for the next optimal point.\n",
      "Time taken: 4.7179\n",
      "Function value obtained: 0.3952\n",
      "Current minimum: 0.3131\n",
      "Iteration No: 33 started. Searching for the next optimal point.\n",
      "Iteration No: 33 ended. Search finished for the next optimal point.\n",
      "Time taken: 5.3254\n",
      "Function value obtained: 0.4344\n",
      "Current minimum: 0.3131\n",
      "Iteration No: 34 started. Searching for the next optimal point.\n"
     ]
    },
    {
     "name": "stderr",
     "output_type": "stream",
     "text": [
      "C:\\Users\\mroemer\\Miniconda3\\envs\\cords2022\\lib\\site-packages\\skopt\\optimizer\\optimizer.py:449: UserWarning: The objective has been evaluated at this point before.\n",
      "  warnings.warn(\"The objective has been evaluated \"\n"
     ]
    },
    {
     "name": "stdout",
     "output_type": "stream",
     "text": [
      "Iteration No: 34 ended. Search finished for the next optimal point.\n",
      "Time taken: 4.2962\n",
      "Function value obtained: 0.3273\n",
      "Current minimum: 0.3131\n",
      "Iteration No: 35 started. Searching for the next optimal point.\n"
     ]
    },
    {
     "name": "stderr",
     "output_type": "stream",
     "text": [
      "C:\\Users\\mroemer\\Miniconda3\\envs\\cords2022\\lib\\site-packages\\skopt\\optimizer\\optimizer.py:449: UserWarning: The objective has been evaluated at this point before.\n",
      "  warnings.warn(\"The objective has been evaluated \"\n"
     ]
    },
    {
     "name": "stdout",
     "output_type": "stream",
     "text": [
      "Iteration No: 35 ended. Search finished for the next optimal point.\n",
      "Time taken: 4.2475\n",
      "Function value obtained: 0.3324\n",
      "Current minimum: 0.3131\n",
      "Iteration No: 36 started. Searching for the next optimal point.\n"
     ]
    },
    {
     "name": "stderr",
     "output_type": "stream",
     "text": [
      "C:\\Users\\mroemer\\Miniconda3\\envs\\cords2022\\lib\\site-packages\\skopt\\optimizer\\optimizer.py:449: UserWarning: The objective has been evaluated at this point before.\n",
      "  warnings.warn(\"The objective has been evaluated \"\n"
     ]
    },
    {
     "name": "stdout",
     "output_type": "stream",
     "text": [
      "Iteration No: 36 ended. Search finished for the next optimal point.\n",
      "Time taken: 4.9006\n",
      "Function value obtained: 0.3899\n",
      "Current minimum: 0.3131\n",
      "Iteration No: 37 started. Searching for the next optimal point.\n",
      "Iteration No: 37 ended. Search finished for the next optimal point.\n",
      "Time taken: 4.4698\n",
      "Function value obtained: 0.3513\n",
      "Current minimum: 0.3131\n",
      "Iteration No: 38 started. Searching for the next optimal point.\n"
     ]
    },
    {
     "name": "stderr",
     "output_type": "stream",
     "text": [
      "C:\\Users\\mroemer\\Miniconda3\\envs\\cords2022\\lib\\site-packages\\skopt\\optimizer\\optimizer.py:449: UserWarning: The objective has been evaluated at this point before.\n",
      "  warnings.warn(\"The objective has been evaluated \"\n"
     ]
    },
    {
     "name": "stdout",
     "output_type": "stream",
     "text": [
      "Iteration No: 38 ended. Search finished for the next optimal point.\n",
      "Time taken: 4.3991\n",
      "Function value obtained: 0.3320\n",
      "Current minimum: 0.3131\n",
      "Iteration No: 39 started. Searching for the next optimal point.\n"
     ]
    },
    {
     "name": "stderr",
     "output_type": "stream",
     "text": [
      "C:\\Users\\mroemer\\Miniconda3\\envs\\cords2022\\lib\\site-packages\\skopt\\optimizer\\optimizer.py:449: UserWarning: The objective has been evaluated at this point before.\n",
      "  warnings.warn(\"The objective has been evaluated \"\n"
     ]
    },
    {
     "name": "stdout",
     "output_type": "stream",
     "text": [
      "Iteration No: 39 ended. Search finished for the next optimal point.\n",
      "Time taken: 4.3404\n",
      "Function value obtained: 0.3265\n",
      "Current minimum: 0.3131\n",
      "Iteration No: 40 started. Searching for the next optimal point.\n"
     ]
    },
    {
     "name": "stderr",
     "output_type": "stream",
     "text": [
      "C:\\Users\\mroemer\\Miniconda3\\envs\\cords2022\\lib\\site-packages\\skopt\\optimizer\\optimizer.py:449: UserWarning: The objective has been evaluated at this point before.\n",
      "  warnings.warn(\"The objective has been evaluated \"\n"
     ]
    },
    {
     "name": "stdout",
     "output_type": "stream",
     "text": [
      "Iteration No: 40 ended. Search finished for the next optimal point.\n",
      "Time taken: 5.1780\n",
      "Function value obtained: 0.4078\n",
      "Current minimum: 0.3131\n",
      "Iteration No: 41 started. Searching for the next optimal point.\n",
      "Iteration No: 41 ended. Search finished for the next optimal point.\n",
      "Time taken: 4.7629\n",
      "Function value obtained: 0.3839\n",
      "Current minimum: 0.3131\n",
      "Iteration No: 42 started. Searching for the next optimal point.\n",
      "Iteration No: 42 ended. Search finished for the next optimal point.\n",
      "Time taken: 13.6373\n",
      "Function value obtained: 1.2751\n",
      "Current minimum: 0.3131\n",
      "Iteration No: 43 started. Searching for the next optimal point.\n",
      "Iteration No: 43 ended. Search finished for the next optimal point.\n",
      "Time taken: 12.6964\n",
      "Function value obtained: 1.1745\n",
      "Current minimum: 0.3131\n",
      "Iteration No: 44 started. Searching for the next optimal point.\n",
      "Iteration No: 44 ended. Search finished for the next optimal point.\n",
      "Time taken: 4.2918\n",
      "Function value obtained: 0.3520\n",
      "Current minimum: 0.3131\n",
      "Iteration No: 45 started. Searching for the next optimal point.\n",
      "Iteration No: 45 ended. Search finished for the next optimal point.\n",
      "Time taken: 4.9144\n",
      "Function value obtained: 0.3949\n",
      "Current minimum: 0.3131\n",
      "Iteration No: 46 started. Searching for the next optimal point.\n",
      "Iteration No: 46 ended. Search finished for the next optimal point.\n",
      "Time taken: 12.6557\n",
      "Function value obtained: 1.1729\n",
      "Current minimum: 0.3131\n",
      "Iteration No: 47 started. Searching for the next optimal point.\n",
      "Iteration No: 47 ended. Search finished for the next optimal point.\n",
      "Time taken: 10.4375\n",
      "Function value obtained: 0.9396\n",
      "Current minimum: 0.3131\n",
      "Iteration No: 48 started. Searching for the next optimal point.\n",
      "Iteration No: 48 ended. Search finished for the next optimal point.\n",
      "Time taken: 4.3948\n",
      "Function value obtained: 0.3337\n",
      "Current minimum: 0.3131\n",
      "Iteration No: 49 started. Searching for the next optimal point.\n"
     ]
    },
    {
     "name": "stderr",
     "output_type": "stream",
     "text": [
      "C:\\Users\\mroemer\\Miniconda3\\envs\\cords2022\\lib\\site-packages\\skopt\\optimizer\\optimizer.py:449: UserWarning: The objective has been evaluated at this point before.\n",
      "  warnings.warn(\"The objective has been evaluated \"\n"
     ]
    },
    {
     "name": "stdout",
     "output_type": "stream",
     "text": [
      "Iteration No: 49 ended. Search finished for the next optimal point.\n",
      "Time taken: 3.9222\n",
      "Function value obtained: 0.2901\n",
      "Current minimum: 0.2901\n",
      "Iteration No: 50 started. Searching for the next optimal point.\n",
      "Iteration No: 50 ended. Search finished for the next optimal point.\n",
      "Time taken: 12.1547\n",
      "Function value obtained: 1.1276\n",
      "Current minimum: 0.2901\n",
      "The configuration took 552.15 seconds\n"
     ]
    }
   ],
   "source": [
    "start_time_configuration_multiple_instances = time.time()\n",
    "\n",
    "results_multiple_instances = gp_minimize(evaluate_parameters_on_multiple_instances, space, verbose=True, n_calls=50, random_state=0)\n",
    "\n",
    "duration_configuration_multiple_instances = time.time() - start_time_configuration_multiple_instances\n",
    "\n",
    "print (f\"The configuration took {duration_configuration_multiple_instances:0.2f} seconds\")"
   ]
  },
  {
   "cell_type": "markdown",
   "metadata": {
    "slideshow": {
     "slide_type": "slide"
    }
   },
   "source": [
    "## Automatic Configuration Using Multiple Instances: Results\n",
    "\n",
    "How did it work?"
   ]
  },
  {
   "cell_type": "code",
   "execution_count": 96,
   "metadata": {
    "slideshow": {
     "slide_type": "-"
    }
   },
   "outputs": [
    {
     "data": {
      "text/html": [
       "<div>\n",
       "<style scoped>\n",
       "    .dataframe tbody tr th:only-of-type {\n",
       "        vertical-align: middle;\n",
       "    }\n",
       "\n",
       "    .dataframe tbody tr th {\n",
       "        vertical-align: top;\n",
       "    }\n",
       "\n",
       "    .dataframe thead th {\n",
       "        text-align: right;\n",
       "    }\n",
       "</style>\n",
       "<table border=\"1\" class=\"dataframe\">\n",
       "  <thead>\n",
       "    <tr style=\"text-align: right;\">\n",
       "      <th></th>\n",
       "      <th>train_perf</th>\n",
       "      <th>test_perf</th>\n",
       "    </tr>\n",
       "  </thead>\n",
       "  <tbody>\n",
       "    <tr>\n",
       "      <th>Standard CBC</th>\n",
       "      <td>NaN</td>\n",
       "      <td>1.287281</td>\n",
       "    </tr>\n",
       "    <tr>\n",
       "      <th>Configured Single Instance</th>\n",
       "      <td>0.191846</td>\n",
       "      <td>0.209418</td>\n",
       "    </tr>\n",
       "    <tr>\n",
       "      <th>Configured Multiple Instances</th>\n",
       "      <td>0.290099</td>\n",
       "      <td>0.277686</td>\n",
       "    </tr>\n",
       "  </tbody>\n",
       "</table>\n",
       "</div>"
      ],
      "text/plain": [
       "                              train_perf test_perf\n",
       "Standard CBC                         NaN  1.287281\n",
       "Configured Single Instance      0.191846  0.209418\n",
       "Configured Multiple Instances   0.290099  0.277686"
      ]
     },
     "execution_count": 96,
     "metadata": {},
     "output_type": "execute_result"
    }
   ],
   "source": [
    "df_results.loc['Configured Multiple Instances','train_perf'] = results_multiple_instances.fun\n",
    "\n",
    "df_results.loc['Configured Multiple Instances','test_perf']=  evaluate_skopt_parameters_on_instances(test_instances,results_multiple_instances.x )\n",
    "\n",
    "df_results"
   ]
  },
  {
   "cell_type": "markdown",
   "metadata": {},
   "source": [
    "- it worked better, that is, using multiple training instances is advantageous."
   ]
  },
  {
   "cell_type": "markdown",
   "metadata": {
    "slideshow": {
     "slide_type": "slide"
    }
   },
   "source": [
    "# Making Algorithm Configuration Faster: Early Stopping"
   ]
  },
  {
   "cell_type": "markdown",
   "metadata": {
    "slideshow": {
     "slide_type": "slide"
    }
   },
   "source": [
    "## Making Configuration Faster: Early Stopping\n",
    "\n",
    "**Challenge: Long Configuration Time**\n",
    "\n",
    "**Long configuration times**\n",
    "- using multiple training instances will improve the robustness of the results, \n",
    "- but it will also drastically increase configuration time\n",
    "\n",
    "\n",
    "**Question:** Do you have any idea how to reduce configuration time?\n"
   ]
  },
  {
   "cell_type": "markdown",
   "metadata": {
    "slideshow": {
     "slide_type": "fragment"
    }
   },
   "source": [
    "**We can reduce configuration time by**\n",
    "- quickly recognizing bad configurations and evaluating them on only a\n",
    "  few instances\n",
    "- we may even use statistical tests to detect bad configurations early\n",
    "- in our case study, we will use a simple early stopping approach"
   ]
  },
  {
   "cell_type": "markdown",
   "metadata": {
    "slideshow": {
     "slide_type": "slide"
    }
   },
   "source": [
    "## A Simple Early Stopping Approach for our Case Study\n",
    "\n",
    "\n",
    "**Goal:** \n",
    "\n",
    "Detect \"bad\" configs early and stop their\n",
    "evaluation **after a few instances**\n",
    "\n",
    "\n",
    "**Assumption:**\n",
    "- we have a *very homogeneous* set of instances\n",
    "- the run times of the instances are relatively similar\n",
    "\n",
    "**Evaluation of a configuration $c$ with early stopping:**\n",
    "\n",
    "Let $g(i)$ be a factor $\\geq 1$ that decreases with an increasing instance index $i$\n",
    "\n",
    "and  $f^*$ be the current best average performance \n",
    "\n",
    "\n",
    "For the set of instances from $i=1$ to $n$:\n",
    "- evaluate the performance $f_c(i)$ of configuration \n",
    "- update the average performance $\\hat{f}_c$ with $f_c(i)$\n",
    "- if $\\hat{f}_c > g(i)f^*$, stop early and return $\\hat{f}_c$\n",
    "\n",
    "return $\\hat{f}_c$\n",
    "\n",
    "\n",
    "**Intuitive rationale of using the decreasing factor g(i)**\n",
    "- at the beginning, the \"bar\" for stopping early should be higher in order to stop evaluation based on one or two underperforming runs (bad luck)\n",
    "\n"
   ]
  },
  {
   "cell_type": "markdown",
   "metadata": {
    "slideshow": {
     "slide_type": "slide"
    }
   },
   "source": [
    "##  Implementing the Early Stopping Approach\n",
    "\n",
    "**Scikit-Optimize's \"ask-and-tell\" interface**\n",
    "allows to interact with the Optimizer solver via two functions:\n",
    "- **Ask** (the optimizer) for the next configuration to evaluate\n",
    "- **Tell** the objective function value to the optimizer\n",
    "\n",
    "$\\rightarrow$ This gives us control on how to compute the objective value\n",
    "\n",
    "\n",
    "**For our purposes, we use it as follows:**\n",
    "\n",
    "For a given number of iterations:\n",
    "- **Ask** the optimizer for the next configuration\n",
    "- perform the evaluation of the configuration\n",
    "  - in our case, using the early-stopping mechanism\n",
    "- **Tell** the optimizer the performance of the configuration\n"
   ]
  },
  {
   "cell_type": "markdown",
   "metadata": {
    "slideshow": {
     "slide_type": "slide"
    }
   },
   "source": [
    "##  The Implementation of the Early Stopping Approach\n",
    "\n",
    "- first we write a function returning the exceedance factor $g(i)$ based on the total number of instances and the number of instances evaluated so far ($i$)\n",
    "- this implementation of the function is pretty simple, the key idea is that the factor decreases with the number of instances evaluated so far"
   ]
  },
  {
   "cell_type": "code",
   "execution_count": 100,
   "metadata": {
    "slideshow": {
     "slide_type": "-"
    }
   },
   "outputs": [
    {
     "data": {
      "text/plain": [
       "1.1500000000000001"
      ]
     },
     "execution_count": 100,
     "metadata": {},
     "output_type": "execute_result"
    }
   ],
   "source": [
    "def get_exceedance_factor (total_number_of_instances, number_of_instances_evaluated_so_far):\n",
    "    \n",
    "    ##never stop after the first instance!!\n",
    "    if number_of_instances_evaluated_so_far <= 1:\n",
    "        return 10000\n",
    "    \n",
    "    fraction_instances_remaining = (total_number_of_instances - number_of_instances_evaluated_so_far) / total_number_of_instances\n",
    "    return 1.1 + fraction_instances_remaining * 0.5\n",
    "\n",
    "#example\n",
    "get_exceedance_factor(10,9)\n"
   ]
  },
  {
   "cell_type": "markdown",
   "metadata": {
    "slideshow": {
     "slide_type": "fragment"
    }
   },
   "source": [
    "- then, we write a function that uses the early stopping idea for evaluation"
   ]
  },
  {
   "cell_type": "code",
   "execution_count": 101,
   "metadata": {
    "slideshow": {
     "slide_type": "-"
    }
   },
   "outputs": [],
   "source": [
    "def evaluate_with_early_stopping(instances, best_performance, sk_opt_params):\n",
    "    evaluated_instances = 0    \n",
    "    total_performance  = 0\n",
    "    \n",
    "    total_number_of_instances = len(instances)    \n",
    "    for instance in instances:\n",
    "        evaluated_instances  += 1\n",
    "        param_dict = dict(zip(Space(space).dimension_names, sk_opt_params))\n",
    "        total_performance += evaluate_parameters_on_instance(instance, **param_dict)        \n",
    "        average_performance = total_performance / evaluated_instances        \n",
    "        # early stopping condition.\n",
    "        if average_performance >  best_performance * get_exceedance_factor(total_number_of_instances, evaluated_instances):\n",
    "            print(f\" Stopping early after { evaluated_instances } instances\")\n",
    "            return average_performance        \n",
    "    return average_performance    "
   ]
  },
  {
   "cell_type": "markdown",
   "metadata": {
    "slideshow": {
     "slide_type": "slide"
    }
   },
   "source": [
    "##  Running the Algorithm Configuration with the Early Stopping Approach\n",
    "\n",
    "- now, we run the early stopping-based algorithm configuration \n",
    "- the following implementation uses the sickit-optimizes ask-and-tell interface explained above"
   ]
  },
  {
   "cell_type": "code",
   "execution_count": 103,
   "metadata": {
    "scrolled": true,
    "slideshow": {
     "slide_type": "-"
    }
   },
   "outputs": [
    {
     "name": "stdout",
     "output_type": "stream",
     "text": [
      "Iteration 0: performance: 0.45\n",
      " After Iteration 0: best performance: 0.45\n",
      "\n",
      " Stopping early after 2 instances\n",
      "Iteration 1: performance: 0.87\n",
      " After Iteration 1: best performance: 0.45\n",
      "\n",
      " Stopping early after 2 instances\n",
      "Iteration 2: performance: 1.24\n",
      " After Iteration 2: best performance: 0.45\n",
      "\n",
      " Stopping early after 2 instances\n",
      "Iteration 3: performance: 1.38\n",
      " After Iteration 3: best performance: 0.45\n",
      "\n",
      "Iteration 4: performance: 0.33\n",
      " After Iteration 4: best performance: 0.33\n",
      "\n",
      " Stopping early after 2 instances\n",
      "Iteration 5: performance: 1.46\n",
      " After Iteration 5: best performance: 0.33\n",
      "\n",
      " Stopping early after 2 instances\n",
      "Iteration 6: performance: 1.45\n",
      " After Iteration 6: best performance: 0.33\n",
      "\n",
      " Stopping early after 2 instances\n",
      "Iteration 7: performance: 1.52\n",
      " After Iteration 7: best performance: 0.33\n",
      "\n",
      " Stopping early after 2 instances\n",
      "Iteration 8: performance: 1.26\n",
      " After Iteration 8: best performance: 0.33\n",
      "\n",
      " Stopping early after 2 instances\n",
      "Iteration 9: performance: 1.41\n",
      " After Iteration 9: best performance: 0.33\n",
      "\n",
      " Stopping early after 2 instances\n",
      "Iteration 10: performance: 150.40\n",
      " After Iteration 10: best performance: 0.33\n",
      "\n",
      " Stopping early after 2 instances\n",
      "Iteration 11: performance: 150.45\n",
      " After Iteration 11: best performance: 0.33\n",
      "\n",
      "Iteration 12: performance: 0.35\n",
      " After Iteration 12: best performance: 0.33\n",
      "\n",
      " Stopping early after 8 instances\n",
      "Iteration 13: performance: 0.59\n",
      " After Iteration 13: best performance: 0.33\n",
      "\n",
      " Stopping early after 2 instances\n",
      "Iteration 14: performance: 0.71\n",
      " After Iteration 14: best performance: 0.33\n",
      "\n",
      " Stopping early after 2 instances\n",
      "Iteration 15: performance: 1.30\n",
      " After Iteration 15: best performance: 0.33\n",
      "\n",
      " Stopping early after 7 instances\n",
      "Iteration 16: performance: 0.49\n",
      " After Iteration 16: best performance: 0.33\n",
      "\n",
      " Stopping early after 7 instances\n",
      "Iteration 17: performance: 0.43\n",
      " After Iteration 17: best performance: 0.33\n",
      "\n",
      " Stopping early after 7 instances\n",
      "Iteration 18: performance: 0.42\n",
      " After Iteration 18: best performance: 0.33\n",
      "\n",
      " Stopping early after 2 instances\n",
      "Iteration 19: performance: 1.10\n",
      " After Iteration 19: best performance: 0.33\n",
      "\n",
      " Stopping early after 2 instances\n",
      "Iteration 20: performance: 0.71\n",
      " After Iteration 20: best performance: 0.33\n",
      "\n",
      " Stopping early after 2 instances\n",
      "Iteration 21: performance: 0.63\n",
      " After Iteration 21: best performance: 0.33\n",
      "\n",
      " Stopping early after 2 instances\n",
      "Iteration 22: performance: 0.60\n",
      " After Iteration 22: best performance: 0.33\n",
      "\n",
      "Iteration 23: performance: 0.31\n",
      " After Iteration 23: best performance: 0.31\n",
      "\n",
      " Stopping early after 2 instances\n",
      "Iteration 24: performance: 1.39\n",
      " After Iteration 24: best performance: 0.31\n",
      "\n",
      "Iteration 25: performance: 0.29\n",
      " After Iteration 25: best performance: 0.29\n",
      "\n",
      " Stopping early after 2 instances\n",
      "Iteration 26: performance: 0.45\n",
      " After Iteration 26: best performance: 0.29\n",
      "\n",
      " Stopping early after 2 instances\n",
      "Iteration 27: performance: 1.51\n",
      " After Iteration 27: best performance: 0.29\n",
      "\n",
      " Stopping early after 2 instances\n",
      "Iteration 28: performance: 0.48\n",
      " After Iteration 28: best performance: 0.29\n",
      "\n"
     ]
    },
    {
     "name": "stderr",
     "output_type": "stream",
     "text": [
      "C:\\Users\\mroemer\\Miniconda3\\envs\\cords2022\\lib\\site-packages\\skopt\\optimizer\\optimizer.py:449: UserWarning: The objective has been evaluated at this point before.\n",
      "  warnings.warn(\"The objective has been evaluated \"\n"
     ]
    },
    {
     "name": "stdout",
     "output_type": "stream",
     "text": [
      " Stopping early after 2 instances\n",
      "Iteration 29: performance: 0.45\n",
      " After Iteration 29: best performance: 0.29\n",
      "\n",
      " Stopping early after 2 instances\n",
      "Iteration 30: performance: 1.15\n",
      " After Iteration 30: best performance: 0.29\n",
      "\n",
      " Stopping early after 2 instances\n",
      "Iteration 31: performance: 1.08\n",
      " After Iteration 31: best performance: 0.29\n",
      "\n",
      " Stopping early after 2 instances\n",
      "Iteration 32: performance: 1.03\n",
      " After Iteration 32: best performance: 0.29\n",
      "\n",
      " Stopping early after 2 instances\n",
      "Iteration 33: performance: 1.33\n",
      " After Iteration 33: best performance: 0.29\n",
      "\n",
      " Stopping early after 2 instances\n",
      "Iteration 34: performance: 1.39\n",
      " After Iteration 34: best performance: 0.29\n",
      "\n",
      " Stopping early after 2 instances\n",
      "Iteration 35: performance: 1.30\n",
      " After Iteration 35: best performance: 0.29\n",
      "\n",
      " Stopping early after 7 instances\n",
      "Iteration 36: performance: 0.36\n",
      " After Iteration 36: best performance: 0.29\n",
      "\n",
      " Stopping early after 2 instances\n",
      "Iteration 37: performance: 0.47\n",
      " After Iteration 37: best performance: 0.29\n",
      "\n",
      "Iteration 38: performance: 0.29\n",
      " After Iteration 38: best performance: 0.29\n",
      "\n",
      " Stopping early after 2 instances\n",
      "Iteration 39: performance: 0.57\n",
      " After Iteration 39: best performance: 0.29\n",
      "\n",
      " Stopping early after 2 instances\n",
      "Iteration 40: performance: 0.72\n",
      " After Iteration 40: best performance: 0.29\n",
      "\n",
      " Stopping early after 2 instances\n",
      "Iteration 41: performance: 0.72\n",
      " After Iteration 41: best performance: 0.29\n",
      "\n",
      " Stopping early after 8 instances\n",
      "Iteration 42: performance: 0.35\n",
      " After Iteration 42: best performance: 0.29\n",
      "\n",
      " Stopping early after 7 instances\n",
      "Iteration 43: performance: 0.37\n",
      " After Iteration 43: best performance: 0.29\n",
      "\n"
     ]
    },
    {
     "name": "stderr",
     "output_type": "stream",
     "text": [
      "C:\\Users\\mroemer\\Miniconda3\\envs\\cords2022\\lib\\site-packages\\skopt\\optimizer\\optimizer.py:449: UserWarning: The objective has been evaluated at this point before.\n",
      "  warnings.warn(\"The objective has been evaluated \"\n"
     ]
    },
    {
     "name": "stdout",
     "output_type": "stream",
     "text": [
      " Stopping early after 9 instances\n",
      "Iteration 44: performance: 0.33\n",
      " After Iteration 44: best performance: 0.29\n",
      "\n",
      " Stopping early after 2 instances\n",
      "Iteration 45: performance: 0.49\n",
      " After Iteration 45: best performance: 0.29\n",
      "\n",
      " Stopping early after 2 instances\n",
      "Iteration 46: performance: 0.63\n",
      " After Iteration 46: best performance: 0.29\n",
      "\n"
     ]
    },
    {
     "name": "stderr",
     "output_type": "stream",
     "text": [
      "C:\\Users\\mroemer\\Miniconda3\\envs\\cords2022\\lib\\site-packages\\skopt\\optimizer\\optimizer.py:449: UserWarning: The objective has been evaluated at this point before.\n",
      "  warnings.warn(\"The objective has been evaluated \"\n"
     ]
    },
    {
     "name": "stdout",
     "output_type": "stream",
     "text": [
      "Iteration 47: performance: 0.28\n",
      " After Iteration 47: best performance: 0.28\n",
      "\n"
     ]
    },
    {
     "name": "stderr",
     "output_type": "stream",
     "text": [
      "C:\\Users\\mroemer\\Miniconda3\\envs\\cords2022\\lib\\site-packages\\skopt\\optimizer\\optimizer.py:449: UserWarning: The objective has been evaluated at this point before.\n",
      "  warnings.warn(\"The objective has been evaluated \"\n"
     ]
    },
    {
     "name": "stdout",
     "output_type": "stream",
     "text": [
      "Iteration 48: performance: 0.28\n",
      " After Iteration 48: best performance: 0.28\n",
      "\n"
     ]
    },
    {
     "name": "stderr",
     "output_type": "stream",
     "text": [
      "C:\\Users\\mroemer\\Miniconda3\\envs\\cords2022\\lib\\site-packages\\skopt\\optimizer\\optimizer.py:449: UserWarning: The objective has been evaluated at this point before.\n",
      "  warnings.warn(\"The objective has been evaluated \"\n"
     ]
    },
    {
     "name": "stdout",
     "output_type": "stream",
     "text": [
      "Iteration 49: performance: 0.28\n",
      " After Iteration 49: best performance: 0.28\n",
      "\n",
      "The configuration using early stopping took 208.42 seconds\n"
     ]
    },
    {
     "data": {
      "text/html": [
       "<table border=\"1\" class=\"dataframe\">\n",
       "  <thead>\n",
       "    <tr style=\"text-align: right;\">\n",
       "      <th>nodeStrategy</th>\n",
       "      <th>strongBranching</th>\n",
       "      <th>trustPseudoCosts</th>\n",
       "      <th>preprocess</th>\n",
       "      <th>presolve</th>\n",
       "      <th>cutsOnOff</th>\n",
       "      <th>heuristicsOnOff</th>\n",
       "      <th>seconds</th>\n",
       "    </tr>\n",
       "  </thead>\n",
       "  <tbody>\n",
       "    <tr>\n",
       "      <td>hybrid</td>\n",
       "      <td>3</td>\n",
       "      <td>0</td>\n",
       "      <td>off</td>\n",
       "      <td>off</td>\n",
       "      <td>off</td>\n",
       "      <td>off</td>\n",
       "      <td>0.275532</td>\n",
       "    </tr>\n",
       "  </tbody>\n",
       "</table>"
      ],
      "text/plain": [
       "<IPython.core.display.HTML object>"
      ]
     },
     "metadata": {},
     "output_type": "display_data"
    }
   ],
   "source": [
    "from skopt import Optimizer\n",
    "\n",
    "# let us take the standard configuration as best-known configuration in the beginning\n",
    "best_performance = evaluate_parameters_on_instances(training_instances)\n",
    "\n",
    "number_of_total_iterations = 50\n",
    "\n",
    "opt = Optimizer(space, random_state=0)\n",
    "start_time_early_stopping = time.time()\n",
    "for n in range(number_of_total_iterations):\n",
    "\n",
    "    next_params = opt.ask() # ask the optizer for the next configuration\n",
    "    \n",
    "    # call the early stopping evaluation\n",
    "    performance = evaluate_with_early_stopping(training_instances, best_performance, next_params)\n",
    "    \n",
    "    print (f\"Iteration {n}: performance: {performance:0.2f}\")\n",
    "    \n",
    "    if performance < best_performance:\n",
    "        best_performance = performance\n",
    "    \n",
    "    print (f\" After Iteration {n}: best performance: {best_performance:0.2f}\\n\")\n",
    "    \n",
    "    results_early_stopping = opt.tell(next_params, performance)  # tell the optizer the performance of the evaulation\n",
    "    \n",
    "duration_early_stopping = time.time() - start_time_early_stopping\n",
    "print (f\"The configuration using early stopping took {duration_early_stopping:0.2f} seconds\")\n",
    "print_best_solution(results_early_stopping)"
   ]
  },
  {
   "cell_type": "markdown",
   "metadata": {
    "slideshow": {
     "slide_type": "slide"
    }
   },
   "source": [
    "## Let us see the results\n",
    "\n",
    "- let's add the results from the early stopping approach"
   ]
  },
  {
   "cell_type": "code",
   "execution_count": 121,
   "metadata": {
    "slideshow": {
     "slide_type": "-"
    }
   },
   "outputs": [],
   "source": [
    "#add to results\n",
    "df_results.loc['Configured Multi Instance Early Stop','train_perf'] = results_early_stopping.fun\n",
    "\n",
    "df_results.loc['Configured Multi Instance Early Stop','test_perf']=  evaluate_skopt_parameters_on_instances(test_instances,results_early_stopping.x )"
   ]
  },
  {
   "cell_type": "code",
   "execution_count": 120,
   "metadata": {
    "scrolled": false,
    "slideshow": {
     "slide_type": "-"
    }
   },
   "outputs": [
    {
     "data": {
      "text/html": [
       "<div>\n",
       "<style scoped>\n",
       "    .dataframe tbody tr th:only-of-type {\n",
       "        vertical-align: middle;\n",
       "    }\n",
       "\n",
       "    .dataframe tbody tr th {\n",
       "        vertical-align: top;\n",
       "    }\n",
       "\n",
       "    .dataframe thead th {\n",
       "        text-align: right;\n",
       "    }\n",
       "</style>\n",
       "<table border=\"1\" class=\"dataframe\">\n",
       "  <thead>\n",
       "    <tr style=\"text-align: right;\">\n",
       "      <th></th>\n",
       "      <th>train_perf</th>\n",
       "      <th>test_perf</th>\n",
       "    </tr>\n",
       "  </thead>\n",
       "  <tbody>\n",
       "    <tr>\n",
       "      <th>Standard CBC</th>\n",
       "      <td>NaN</td>\n",
       "      <td>1.139803</td>\n",
       "    </tr>\n",
       "    <tr>\n",
       "      <th>Configured Single Instance</th>\n",
       "      <td>0.161423</td>\n",
       "      <td>0.19152</td>\n",
       "    </tr>\n",
       "    <tr>\n",
       "      <th>Configured Multiple Instances</th>\n",
       "      <td>0.238994</td>\n",
       "      <td>0.239884</td>\n",
       "    </tr>\n",
       "    <tr>\n",
       "      <th>Configured Multi Instance Early Stop</th>\n",
       "      <td>0.298479</td>\n",
       "      <td>0.30589</td>\n",
       "    </tr>\n",
       "  </tbody>\n",
       "</table>\n",
       "</div>"
      ],
      "text/plain": [
       "                                     train_perf test_perf\n",
       "Standard CBC                                NaN  1.139803\n",
       "Configured Single Instance             0.161423   0.19152\n",
       "Configured Multiple Instances          0.238994  0.239884\n",
       "Configured Multi Instance Early Stop   0.298479   0.30589"
      ]
     },
     "execution_count": 120,
     "metadata": {},
     "output_type": "execute_result"
    }
   ],
   "source": [
    "df_results"
   ]
  },
  {
   "cell_type": "markdown",
   "metadata": {
    "slideshow": {
     "slide_type": "-"
    }
   },
   "source": [
    "..we can see that the early stopping was much faster, but we obtained similar (even better) results."
   ]
  },
  {
   "cell_type": "markdown",
   "metadata": {
    "slideshow": {
     "slide_type": "slide"
    }
   },
   "source": [
    "## Conclusions\n",
    "\n",
    "**In this meeting, we dealt with algorithm configuration**\n",
    "- we learned about the key concepts of algorithm configuration\n",
    "- and learned how to address the key challenges in automatic algorithm configuration\n",
    "\n",
    "**This was the last meeting of our course!**\n",
    "- thank you very much for your active participation!"
   ]
  }
 ],
 "metadata": {
  "celltoolbar": "Slideshow",
  "kernelspec": {
   "display_name": "Python [conda env:cords2024]",
   "language": "python",
   "name": "conda-env-cords2024-py"
  },
  "language_info": {
   "codemirror_mode": {
    "name": "ipython",
    "version": 3
   },
   "file_extension": ".py",
   "mimetype": "text/x-python",
   "name": "python",
   "nbconvert_exporter": "python",
   "pygments_lexer": "ipython3",
   "version": "3.10.14"
  }
 },
 "nbformat": 4,
 "nbformat_minor": 4
}
